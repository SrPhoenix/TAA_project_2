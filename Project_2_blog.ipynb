{
 "cells": [
  {
   "cell_type": "markdown",
   "id": "d86fa563",
   "metadata": {},
   "source": [
    "## Project 2 TAA Blog"
   ]
  },
  {
   "cell_type": "code",
   "execution_count": 1,
   "id": "696fa026",
   "metadata": {},
   "outputs": [],
   "source": [
    "import pandas as pd\n",
    "from sklearn import preprocessing\n",
    "from sklearn.model_selection import train_test_split\n",
    "import matplotlib.pyplot as plt"
   ]
  },
  {
   "cell_type": "markdown",
   "id": "4f3d0cf3",
   "metadata": {},
   "source": [
    "### Processing the data"
   ]
  },
  {
   "cell_type": "code",
   "execution_count": 2,
   "id": "b3a8131f",
   "metadata": {},
   "outputs": [],
   "source": [
    "df = pd.read_csv('housepricedata.csv')\n",
    "dataset = df.values\n",
    "\n",
    "X = dataset[:,:-1]\n",
    "Y = dataset[:,-1]\n"
   ]
  },
  {
   "cell_type": "code",
   "execution_count": 3,
   "id": "fdd3186e",
   "metadata": {},
   "outputs": [],
   "source": [
    "min_max_scaler = preprocessing.MinMaxScaler()\n",
    "X_scale = min_max_scaler.fit_transform(X)"
   ]
  },
  {
   "cell_type": "code",
   "execution_count": 4,
   "id": "89e5eaf5",
   "metadata": {},
   "outputs": [],
   "source": [
    "X_train, X_val_and_test, Y_train, Y_val_and_test = train_test_split(X_scale, Y, test_size=0.3)\n",
    "\n",
    "X_val, X_test, Y_val, Y_test = train_test_split(X_val_and_test, Y_val_and_test, test_size=0.5)\n"
   ]
  },
  {
   "cell_type": "markdown",
   "id": "dc3682f4",
   "metadata": {},
   "source": [
    "### Blog NN "
   ]
  },
  {
   "cell_type": "code",
   "execution_count": 5,
   "id": "335670e4",
   "metadata": {},
   "outputs": [
    {
     "name": "stderr",
     "output_type": "stream",
     "text": [
      "2022-06-28 15:23:01.356935: W tensorflow/stream_executor/platform/default/dso_loader.cc:64] Could not load dynamic library 'libcudart.so.11.0'; dlerror: libcudart.so.11.0: cannot open shared object file: No such file or directory\n",
      "2022-06-28 15:23:01.356958: I tensorflow/stream_executor/cuda/cudart_stub.cc:29] Ignore above cudart dlerror if you do not have a GPU set up on your machine.\n"
     ]
    }
   ],
   "source": [
    "from keras.models import Sequential\n",
    "from keras.layers import Dense"
   ]
  },
  {
   "cell_type": "markdown",
   "id": "ce50a6a7",
   "metadata": {},
   "source": [
    "#### Define architecture"
   ]
  },
  {
   "cell_type": "code",
   "execution_count": 6,
   "id": "d4e44066",
   "metadata": {},
   "outputs": [
    {
     "name": "stderr",
     "output_type": "stream",
     "text": [
      "2022-06-28 15:23:03.209946: W tensorflow/stream_executor/platform/default/dso_loader.cc:64] Could not load dynamic library 'libcuda.so.1'; dlerror: libcuda.so.1: cannot open shared object file: No such file or directory\n",
      "2022-06-28 15:23:03.209996: W tensorflow/stream_executor/cuda/cuda_driver.cc:269] failed call to cuInit: UNKNOWN ERROR (303)\n",
      "2022-06-28 15:23:03.210022: I tensorflow/stream_executor/cuda/cuda_diagnostics.cc:156] kernel driver does not appear to be running on this host (vicente): /proc/driver/nvidia/version does not exist\n",
      "2022-06-28 15:23:03.210267: I tensorflow/core/platform/cpu_feature_guard.cc:193] This TensorFlow binary is optimized with oneAPI Deep Neural Network Library (oneDNN) to use the following CPU instructions in performance-critical operations:  AVX2 FMA\n",
      "To enable them in other operations, rebuild TensorFlow with the appropriate compiler flags.\n"
     ]
    }
   ],
   "source": [
    "model = Sequential([\n",
    "    Dense(32, activation='relu', input_shape=(10,)),\n",
    "    Dense(32, activation='relu'),\n",
    "    Dense(1, activation='sigmoid'),\n",
    "])"
   ]
  },
  {
   "cell_type": "code",
   "execution_count": 7,
   "id": "151536d5",
   "metadata": {},
   "outputs": [],
   "source": [
    "model.compile(optimizer='sgd',\n",
    "              loss='binary_crossentropy',\n",
    "              metrics=['accuracy'])"
   ]
  },
  {
   "cell_type": "code",
   "execution_count": 8,
   "id": "d183767c",
   "metadata": {},
   "outputs": [
    {
     "name": "stdout",
     "output_type": "stream",
     "text": [
      "Epoch 1/100\n",
      "32/32 [==============================] - 1s 12ms/step - loss: 0.6761 - accuracy: 0.5088 - val_loss: 0.6789 - val_accuracy: 0.4749\n",
      "Epoch 2/100\n",
      "32/32 [==============================] - 0s 7ms/step - loss: 0.6710 - accuracy: 0.5088 - val_loss: 0.6740 - val_accuracy: 0.4795\n",
      "Epoch 3/100\n",
      "32/32 [==============================] - 0s 3ms/step - loss: 0.6660 - accuracy: 0.5127 - val_loss: 0.6696 - val_accuracy: 0.4886\n",
      "Epoch 4/100\n",
      "32/32 [==============================] - 0s 3ms/step - loss: 0.6615 - accuracy: 0.5431 - val_loss: 0.6654 - val_accuracy: 0.5114\n",
      "Epoch 5/100\n",
      "32/32 [==============================] - 0s 5ms/step - loss: 0.6570 - accuracy: 0.5744 - val_loss: 0.6612 - val_accuracy: 0.5525\n",
      "Epoch 6/100\n",
      "32/32 [==============================] - 0s 4ms/step - loss: 0.6525 - accuracy: 0.6311 - val_loss: 0.6572 - val_accuracy: 0.5936\n",
      "Epoch 7/100\n",
      "32/32 [==============================] - 0s 4ms/step - loss: 0.6480 - accuracy: 0.6389 - val_loss: 0.6529 - val_accuracy: 0.6301\n",
      "Epoch 8/100\n",
      "32/32 [==============================] - 0s 5ms/step - loss: 0.6434 - accuracy: 0.6703 - val_loss: 0.6486 - val_accuracy: 0.6347\n",
      "Epoch 9/100\n",
      "32/32 [==============================] - 0s 6ms/step - loss: 0.6384 - accuracy: 0.6879 - val_loss: 0.6440 - val_accuracy: 0.6621\n",
      "Epoch 10/100\n",
      "32/32 [==============================] - 0s 5ms/step - loss: 0.6334 - accuracy: 0.7162 - val_loss: 0.6394 - val_accuracy: 0.6758\n",
      "Epoch 11/100\n",
      "32/32 [==============================] - 0s 7ms/step - loss: 0.6281 - accuracy: 0.7260 - val_loss: 0.6344 - val_accuracy: 0.6849\n",
      "Epoch 12/100\n",
      "32/32 [==============================] - 0s 6ms/step - loss: 0.6228 - accuracy: 0.7427 - val_loss: 0.6292 - val_accuracy: 0.6986\n",
      "Epoch 13/100\n",
      "32/32 [==============================] - 0s 4ms/step - loss: 0.6172 - accuracy: 0.7613 - val_loss: 0.6240 - val_accuracy: 0.7169\n",
      "Epoch 14/100\n",
      "32/32 [==============================] - 0s 7ms/step - loss: 0.6113 - accuracy: 0.7720 - val_loss: 0.6184 - val_accuracy: 0.7215\n",
      "Epoch 15/100\n",
      "32/32 [==============================] - 0s 7ms/step - loss: 0.6050 - accuracy: 0.7710 - val_loss: 0.6121 - val_accuracy: 0.7443\n",
      "Epoch 16/100\n",
      "32/32 [==============================] - 0s 4ms/step - loss: 0.5984 - accuracy: 0.7975 - val_loss: 0.6057 - val_accuracy: 0.7534\n",
      "Epoch 17/100\n",
      "32/32 [==============================] - 0s 6ms/step - loss: 0.5915 - accuracy: 0.8063 - val_loss: 0.5990 - val_accuracy: 0.7808\n",
      "Epoch 18/100\n",
      "32/32 [==============================] - 0s 7ms/step - loss: 0.5842 - accuracy: 0.8190 - val_loss: 0.5921 - val_accuracy: 0.7763\n",
      "Epoch 19/100\n",
      "32/32 [==============================] - 0s 6ms/step - loss: 0.5768 - accuracy: 0.8249 - val_loss: 0.5851 - val_accuracy: 0.7900\n",
      "Epoch 20/100\n",
      "32/32 [==============================] - 0s 6ms/step - loss: 0.5691 - accuracy: 0.8356 - val_loss: 0.5781 - val_accuracy: 0.7991\n",
      "Epoch 21/100\n",
      "32/32 [==============================] - 0s 6ms/step - loss: 0.5612 - accuracy: 0.8395 - val_loss: 0.5708 - val_accuracy: 0.8082\n",
      "Epoch 22/100\n",
      "32/32 [==============================] - 0s 5ms/step - loss: 0.5532 - accuracy: 0.8444 - val_loss: 0.5634 - val_accuracy: 0.8174\n",
      "Epoch 23/100\n",
      "32/32 [==============================] - 0s 4ms/step - loss: 0.5448 - accuracy: 0.8444 - val_loss: 0.5558 - val_accuracy: 0.8174\n",
      "Epoch 24/100\n",
      "32/32 [==============================] - 0s 5ms/step - loss: 0.5362 - accuracy: 0.8474 - val_loss: 0.5481 - val_accuracy: 0.8174\n",
      "Epoch 25/100\n",
      "32/32 [==============================] - 0s 7ms/step - loss: 0.5276 - accuracy: 0.8503 - val_loss: 0.5402 - val_accuracy: 0.8219\n",
      "Epoch 26/100\n",
      "32/32 [==============================] - 0s 6ms/step - loss: 0.5189 - accuracy: 0.8464 - val_loss: 0.5317 - val_accuracy: 0.8311\n",
      "Epoch 27/100\n",
      "32/32 [==============================] - 0s 5ms/step - loss: 0.5101 - accuracy: 0.8542 - val_loss: 0.5239 - val_accuracy: 0.8311\n",
      "Epoch 28/100\n",
      "32/32 [==============================] - 0s 6ms/step - loss: 0.5014 - accuracy: 0.8532 - val_loss: 0.5158 - val_accuracy: 0.8311\n",
      "Epoch 29/100\n",
      "32/32 [==============================] - 0s 8ms/step - loss: 0.4928 - accuracy: 0.8542 - val_loss: 0.5080 - val_accuracy: 0.8311\n",
      "Epoch 30/100\n",
      "32/32 [==============================] - 0s 4ms/step - loss: 0.4840 - accuracy: 0.8562 - val_loss: 0.5001 - val_accuracy: 0.8311\n",
      "Epoch 31/100\n",
      "32/32 [==============================] - 0s 9ms/step - loss: 0.4753 - accuracy: 0.8601 - val_loss: 0.4927 - val_accuracy: 0.8311\n",
      "Epoch 32/100\n",
      "32/32 [==============================] - 0s 7ms/step - loss: 0.4668 - accuracy: 0.8562 - val_loss: 0.4843 - val_accuracy: 0.8402\n",
      "Epoch 33/100\n",
      "32/32 [==============================] - 0s 6ms/step - loss: 0.4585 - accuracy: 0.8591 - val_loss: 0.4772 - val_accuracy: 0.8356\n",
      "Epoch 34/100\n",
      "32/32 [==============================] - 0s 6ms/step - loss: 0.4503 - accuracy: 0.8640 - val_loss: 0.4697 - val_accuracy: 0.8493\n",
      "Epoch 35/100\n",
      "32/32 [==============================] - 0s 6ms/step - loss: 0.4423 - accuracy: 0.8611 - val_loss: 0.4628 - val_accuracy: 0.8447\n",
      "Epoch 36/100\n",
      "32/32 [==============================] - 0s 6ms/step - loss: 0.4343 - accuracy: 0.8640 - val_loss: 0.4558 - val_accuracy: 0.8493\n",
      "Epoch 37/100\n",
      "32/32 [==============================] - 0s 4ms/step - loss: 0.4268 - accuracy: 0.8640 - val_loss: 0.4491 - val_accuracy: 0.8493\n",
      "Epoch 38/100\n",
      "32/32 [==============================] - 0s 4ms/step - loss: 0.4195 - accuracy: 0.8630 - val_loss: 0.4403 - val_accuracy: 0.8539\n",
      "Epoch 39/100\n",
      "32/32 [==============================] - 0s 4ms/step - loss: 0.4125 - accuracy: 0.8659 - val_loss: 0.4335 - val_accuracy: 0.8539\n",
      "Epoch 40/100\n",
      "32/32 [==============================] - 0s 5ms/step - loss: 0.4056 - accuracy: 0.8689 - val_loss: 0.4271 - val_accuracy: 0.8539\n",
      "Epoch 41/100\n",
      "32/32 [==============================] - 0s 5ms/step - loss: 0.3993 - accuracy: 0.8650 - val_loss: 0.4208 - val_accuracy: 0.8493\n",
      "Epoch 42/100\n",
      "32/32 [==============================] - 0s 5ms/step - loss: 0.3925 - accuracy: 0.8650 - val_loss: 0.4174 - val_accuracy: 0.8539\n",
      "Epoch 43/100\n",
      "32/32 [==============================] - 0s 5ms/step - loss: 0.3865 - accuracy: 0.8679 - val_loss: 0.4097 - val_accuracy: 0.8493\n",
      "Epoch 44/100\n",
      "32/32 [==============================] - 0s 6ms/step - loss: 0.3810 - accuracy: 0.8689 - val_loss: 0.4037 - val_accuracy: 0.8493\n",
      "Epoch 45/100\n",
      "32/32 [==============================] - 0s 4ms/step - loss: 0.3754 - accuracy: 0.8669 - val_loss: 0.3987 - val_accuracy: 0.8493\n",
      "Epoch 46/100\n",
      "32/32 [==============================] - 0s 5ms/step - loss: 0.3697 - accuracy: 0.8679 - val_loss: 0.3940 - val_accuracy: 0.8493\n",
      "Epoch 47/100\n",
      "32/32 [==============================] - 0s 4ms/step - loss: 0.3652 - accuracy: 0.8669 - val_loss: 0.3891 - val_accuracy: 0.8493\n",
      "Epoch 48/100\n",
      "32/32 [==============================] - 0s 4ms/step - loss: 0.3599 - accuracy: 0.8659 - val_loss: 0.3836 - val_accuracy: 0.8539\n",
      "Epoch 49/100\n",
      "32/32 [==============================] - 0s 4ms/step - loss: 0.3559 - accuracy: 0.8669 - val_loss: 0.3797 - val_accuracy: 0.8539\n",
      "Epoch 50/100\n",
      "32/32 [==============================] - 0s 4ms/step - loss: 0.3515 - accuracy: 0.8718 - val_loss: 0.3758 - val_accuracy: 0.8539\n",
      "Epoch 51/100\n",
      "32/32 [==============================] - 0s 3ms/step - loss: 0.3472 - accuracy: 0.8748 - val_loss: 0.3718 - val_accuracy: 0.8539\n",
      "Epoch 52/100\n",
      "32/32 [==============================] - 0s 3ms/step - loss: 0.3437 - accuracy: 0.8699 - val_loss: 0.3699 - val_accuracy: 0.8539\n",
      "Epoch 53/100\n",
      "32/32 [==============================] - 0s 3ms/step - loss: 0.3399 - accuracy: 0.8699 - val_loss: 0.3643 - val_accuracy: 0.8539\n",
      "Epoch 54/100\n",
      "32/32 [==============================] - 0s 4ms/step - loss: 0.3365 - accuracy: 0.8718 - val_loss: 0.3616 - val_accuracy: 0.8539\n",
      "Epoch 55/100\n",
      "32/32 [==============================] - 0s 4ms/step - loss: 0.3332 - accuracy: 0.8728 - val_loss: 0.3583 - val_accuracy: 0.8539\n",
      "Epoch 56/100\n",
      "32/32 [==============================] - 0s 5ms/step - loss: 0.3302 - accuracy: 0.8738 - val_loss: 0.3544 - val_accuracy: 0.8539\n",
      "Epoch 57/100\n",
      "32/32 [==============================] - 0s 4ms/step - loss: 0.3275 - accuracy: 0.8728 - val_loss: 0.3514 - val_accuracy: 0.8539\n",
      "Epoch 58/100\n",
      "32/32 [==============================] - 0s 3ms/step - loss: 0.3248 - accuracy: 0.8748 - val_loss: 0.3501 - val_accuracy: 0.8539\n"
     ]
    },
    {
     "name": "stdout",
     "output_type": "stream",
     "text": [
      "Epoch 59/100\n",
      "32/32 [==============================] - 0s 3ms/step - loss: 0.3221 - accuracy: 0.8718 - val_loss: 0.3484 - val_accuracy: 0.8539\n",
      "Epoch 60/100\n",
      "32/32 [==============================] - 0s 3ms/step - loss: 0.3201 - accuracy: 0.8728 - val_loss: 0.3465 - val_accuracy: 0.8539\n",
      "Epoch 61/100\n",
      "32/32 [==============================] - 0s 2ms/step - loss: 0.3175 - accuracy: 0.8738 - val_loss: 0.3417 - val_accuracy: 0.8539\n",
      "Epoch 62/100\n",
      "32/32 [==============================] - 0s 2ms/step - loss: 0.3152 - accuracy: 0.8728 - val_loss: 0.3404 - val_accuracy: 0.8539\n",
      "Epoch 63/100\n",
      "32/32 [==============================] - 0s 3ms/step - loss: 0.3134 - accuracy: 0.8777 - val_loss: 0.3373 - val_accuracy: 0.8676\n",
      "Epoch 64/100\n",
      "32/32 [==============================] - 0s 4ms/step - loss: 0.3114 - accuracy: 0.8767 - val_loss: 0.3363 - val_accuracy: 0.8539\n",
      "Epoch 65/100\n",
      "32/32 [==============================] - 0s 3ms/step - loss: 0.3095 - accuracy: 0.8748 - val_loss: 0.3333 - val_accuracy: 0.8676\n",
      "Epoch 66/100\n",
      "32/32 [==============================] - 0s 3ms/step - loss: 0.3080 - accuracy: 0.8777 - val_loss: 0.3319 - val_accuracy: 0.8676\n",
      "Epoch 67/100\n",
      "32/32 [==============================] - 0s 3ms/step - loss: 0.3062 - accuracy: 0.8767 - val_loss: 0.3308 - val_accuracy: 0.8630\n",
      "Epoch 68/100\n",
      "32/32 [==============================] - 0s 2ms/step - loss: 0.3046 - accuracy: 0.8757 - val_loss: 0.3290 - val_accuracy: 0.8676\n",
      "Epoch 69/100\n",
      "32/32 [==============================] - 0s 4ms/step - loss: 0.3028 - accuracy: 0.8748 - val_loss: 0.3266 - val_accuracy: 0.8676\n",
      "Epoch 70/100\n",
      "32/32 [==============================] - 0s 3ms/step - loss: 0.3015 - accuracy: 0.8757 - val_loss: 0.3248 - val_accuracy: 0.8676\n",
      "Epoch 71/100\n",
      "32/32 [==============================] - 0s 4ms/step - loss: 0.2999 - accuracy: 0.8767 - val_loss: 0.3249 - val_accuracy: 0.8676\n",
      "Epoch 72/100\n",
      "32/32 [==============================] - 0s 3ms/step - loss: 0.2989 - accuracy: 0.8796 - val_loss: 0.3219 - val_accuracy: 0.8676\n",
      "Epoch 73/100\n",
      "32/32 [==============================] - 0s 3ms/step - loss: 0.2975 - accuracy: 0.8757 - val_loss: 0.3206 - val_accuracy: 0.8676\n",
      "Epoch 74/100\n",
      "32/32 [==============================] - 0s 4ms/step - loss: 0.2962 - accuracy: 0.8796 - val_loss: 0.3205 - val_accuracy: 0.8676\n",
      "Epoch 75/100\n",
      "32/32 [==============================] - 0s 4ms/step - loss: 0.2951 - accuracy: 0.8826 - val_loss: 0.3190 - val_accuracy: 0.8676\n",
      "Epoch 76/100\n",
      "32/32 [==============================] - 0s 4ms/step - loss: 0.2939 - accuracy: 0.8816 - val_loss: 0.3166 - val_accuracy: 0.8676\n",
      "Epoch 77/100\n",
      "32/32 [==============================] - 0s 3ms/step - loss: 0.2920 - accuracy: 0.8806 - val_loss: 0.3190 - val_accuracy: 0.8630\n",
      "Epoch 78/100\n",
      "32/32 [==============================] - 0s 3ms/step - loss: 0.2918 - accuracy: 0.8806 - val_loss: 0.3134 - val_accuracy: 0.8630\n",
      "Epoch 79/100\n",
      "32/32 [==============================] - 0s 3ms/step - loss: 0.2907 - accuracy: 0.8836 - val_loss: 0.3147 - val_accuracy: 0.8676\n",
      "Epoch 80/100\n",
      "32/32 [==============================] - 0s 6ms/step - loss: 0.2896 - accuracy: 0.8855 - val_loss: 0.3118 - val_accuracy: 0.8676\n",
      "Epoch 81/100\n",
      "32/32 [==============================] - 0s 4ms/step - loss: 0.2888 - accuracy: 0.8796 - val_loss: 0.3122 - val_accuracy: 0.8676\n",
      "Epoch 82/100\n",
      "32/32 [==============================] - 0s 7ms/step - loss: 0.2883 - accuracy: 0.8845 - val_loss: 0.3103 - val_accuracy: 0.8676\n",
      "Epoch 83/100\n",
      "32/32 [==============================] - 0s 4ms/step - loss: 0.2866 - accuracy: 0.8865 - val_loss: 0.3082 - val_accuracy: 0.8676\n",
      "Epoch 84/100\n",
      "32/32 [==============================] - 0s 4ms/step - loss: 0.2866 - accuracy: 0.8845 - val_loss: 0.3077 - val_accuracy: 0.8676\n",
      "Epoch 85/100\n",
      "32/32 [==============================] - 0s 4ms/step - loss: 0.2849 - accuracy: 0.8845 - val_loss: 0.3079 - val_accuracy: 0.8676\n",
      "Epoch 86/100\n",
      "32/32 [==============================] - 0s 4ms/step - loss: 0.2843 - accuracy: 0.8865 - val_loss: 0.3069 - val_accuracy: 0.8676\n",
      "Epoch 87/100\n",
      "32/32 [==============================] - 0s 4ms/step - loss: 0.2834 - accuracy: 0.8855 - val_loss: 0.3063 - val_accuracy: 0.8676\n",
      "Epoch 88/100\n",
      "32/32 [==============================] - 0s 4ms/step - loss: 0.2831 - accuracy: 0.8826 - val_loss: 0.3051 - val_accuracy: 0.8721\n",
      "Epoch 89/100\n",
      "32/32 [==============================] - 0s 4ms/step - loss: 0.2820 - accuracy: 0.8836 - val_loss: 0.3032 - val_accuracy: 0.8676\n",
      "Epoch 90/100\n",
      "32/32 [==============================] - 0s 4ms/step - loss: 0.2806 - accuracy: 0.8894 - val_loss: 0.3016 - val_accuracy: 0.8721\n",
      "Epoch 91/100\n",
      "32/32 [==============================] - 0s 3ms/step - loss: 0.2805 - accuracy: 0.8885 - val_loss: 0.3014 - val_accuracy: 0.8676\n",
      "Epoch 92/100\n",
      "32/32 [==============================] - 0s 2ms/step - loss: 0.2792 - accuracy: 0.8894 - val_loss: 0.3040 - val_accuracy: 0.8721\n",
      "Epoch 93/100\n",
      "32/32 [==============================] - 0s 3ms/step - loss: 0.2794 - accuracy: 0.8865 - val_loss: 0.3005 - val_accuracy: 0.8721\n",
      "Epoch 94/100\n",
      "32/32 [==============================] - 0s 4ms/step - loss: 0.2781 - accuracy: 0.8865 - val_loss: 0.2995 - val_accuracy: 0.8721\n",
      "Epoch 95/100\n",
      "32/32 [==============================] - 0s 3ms/step - loss: 0.2775 - accuracy: 0.8875 - val_loss: 0.2989 - val_accuracy: 0.8721\n",
      "Epoch 96/100\n",
      "32/32 [==============================] - 0s 3ms/step - loss: 0.2767 - accuracy: 0.8904 - val_loss: 0.2973 - val_accuracy: 0.8676\n",
      "Epoch 97/100\n",
      "32/32 [==============================] - 0s 3ms/step - loss: 0.2758 - accuracy: 0.8875 - val_loss: 0.2991 - val_accuracy: 0.8767\n",
      "Epoch 98/100\n",
      "32/32 [==============================] - 0s 4ms/step - loss: 0.2758 - accuracy: 0.8885 - val_loss: 0.2968 - val_accuracy: 0.8721\n",
      "Epoch 99/100\n",
      "32/32 [==============================] - 0s 5ms/step - loss: 0.2751 - accuracy: 0.8865 - val_loss: 0.2963 - val_accuracy: 0.8721\n",
      "Epoch 100/100\n",
      "32/32 [==============================] - 0s 6ms/step - loss: 0.2743 - accuracy: 0.8924 - val_loss: 0.2949 - val_accuracy: 0.8721\n"
     ]
    }
   ],
   "source": [
    "hist = model.fit(X_train, Y_train,\n",
    "          batch_size=32, epochs=100,\n",
    "          validation_data=(X_val, Y_val))"
   ]
  },
  {
   "cell_type": "code",
   "execution_count": 9,
   "id": "4227c118",
   "metadata": {},
   "outputs": [
    {
     "name": "stdout",
     "output_type": "stream",
     "text": [
      "7/7 [==============================] - 0s 2ms/step - loss: 0.3026 - accuracy: 0.8950\n"
     ]
    },
    {
     "data": {
      "text/plain": [
       "0.8949771523475647"
      ]
     },
     "execution_count": 9,
     "metadata": {},
     "output_type": "execute_result"
    }
   ],
   "source": [
    "model.evaluate(X_test, Y_test)[1]"
   ]
  },
  {
   "cell_type": "markdown",
   "id": "69820405",
   "metadata": {},
   "source": [
    "### Loss visualization"
   ]
  },
  {
   "cell_type": "code",
   "execution_count": 10,
   "id": "5586af99",
   "metadata": {},
   "outputs": [
    {
     "data": {
      "image/png": "[encoded data removed]",
      "text/plain": [
       "<Figure size 432x288 with 1 Axes>"
      ]
     },
     "metadata": {
      "needs_background": "light"
     },
     "output_type": "display_data"
    }
   ],
   "source": [
    "plt.plot(hist.history['loss'])\n",
    "plt.plot(hist.history['val_loss'])\n",
    "plt.title('Model loss')\n",
    "plt.ylabel('Loss')\n",
    "plt.xlabel('Epoch')\n",
    "plt.legend(['Train', 'Val'], loc='upper right')\n",
    "plt.show()"
   ]
  },
  {
   "cell_type": "code",
   "execution_count": 11,
   "id": "c8d7ef98",
   "metadata": {},
   "outputs": [
    {
     "data": {
      "image/png": "[encoded data removed]",
      "text/plain": [
       "<Figure size 432x288 with 1 Axes>"
      ]
     },
     "metadata": {
      "needs_background": "light"
     },
     "output_type": "display_data"
    }
   ],
   "source": [
    "plt.plot(hist.history['accuracy'])\n",
    "plt.plot(hist.history['val_accuracy'])\n",
    "plt.title('Model accuracy')\n",
    "plt.ylabel('Accuracy')\n",
    "plt.xlabel('Epoch')\n",
    "plt.legend(['Train', 'Val'], loc='lower right')\n",
    "plt.show()"
   ]
  },
  {
   "cell_type": "markdown",
   "id": "70abb8cd",
   "metadata": {},
   "source": [
    "## Add Regularization"
   ]
  },
  {
   "cell_type": "code",
   "execution_count": 12,
   "id": "b6fb3eb5",
   "metadata": {},
   "outputs": [
    {
     "name": "stdout",
     "output_type": "stream",
     "text": [
      "Epoch 1/100\n",
      "32/32 [==============================] - 2s 28ms/step - loss: 0.4327 - accuracy: 0.8072 - val_loss: 0.3522 - val_accuracy: 0.8493\n",
      "Epoch 2/100\n",
      "32/32 [==============================] - 1s 32ms/step - loss: 0.3212 - accuracy: 0.8650 - val_loss: 0.3327 - val_accuracy: 0.8539\n",
      "Epoch 3/100\n",
      "32/32 [==============================] - 1s 32ms/step - loss: 0.3600 - accuracy: 0.8405 - val_loss: 0.3415 - val_accuracy: 0.8539\n",
      "Epoch 4/100\n",
      "32/32 [==============================] - 1s 30ms/step - loss: 0.2843 - accuracy: 0.8894 - val_loss: 0.3122 - val_accuracy: 0.8767\n",
      "Epoch 5/100\n",
      "32/32 [==============================] - 1s 33ms/step - loss: 0.2582 - accuracy: 0.8963 - val_loss: 0.2775 - val_accuracy: 0.8721\n",
      "Epoch 6/100\n",
      "32/32 [==============================] - 1s 38ms/step - loss: 0.2700 - accuracy: 0.8816 - val_loss: 0.2826 - val_accuracy: 0.8813\n",
      "Epoch 7/100\n",
      "32/32 [==============================] - 1s 34ms/step - loss: 0.2574 - accuracy: 0.8933 - val_loss: 0.2955 - val_accuracy: 0.8767\n",
      "Epoch 8/100\n",
      "32/32 [==============================] - 1s 24ms/step - loss: 0.2454 - accuracy: 0.8894 - val_loss: 0.2413 - val_accuracy: 0.8858\n",
      "Epoch 9/100\n",
      "32/32 [==============================] - 1s 30ms/step - loss: 0.2495 - accuracy: 0.8885 - val_loss: 0.2654 - val_accuracy: 0.8904\n",
      "Epoch 10/100\n",
      "32/32 [==============================] - 1s 33ms/step - loss: 0.2244 - accuracy: 0.9139 - val_loss: 0.2477 - val_accuracy: 0.8858\n",
      "Epoch 11/100\n",
      "32/32 [==============================] - 1s 31ms/step - loss: 0.2234 - accuracy: 0.9129 - val_loss: 0.2326 - val_accuracy: 0.8995\n",
      "Epoch 12/100\n",
      "32/32 [==============================] - 1s 30ms/step - loss: 0.2283 - accuracy: 0.9041 - val_loss: 0.2488 - val_accuracy: 0.8904\n",
      "Epoch 13/100\n",
      "32/32 [==============================] - 1s 34ms/step - loss: 0.2305 - accuracy: 0.9070 - val_loss: 0.2742 - val_accuracy: 0.8858\n",
      "Epoch 14/100\n",
      "32/32 [==============================] - 1s 36ms/step - loss: 0.2243 - accuracy: 0.9070 - val_loss: 0.2574 - val_accuracy: 0.9041\n",
      "Epoch 15/100\n",
      "32/32 [==============================] - 1s 26ms/step - loss: 0.2259 - accuracy: 0.8992 - val_loss: 0.2767 - val_accuracy: 0.8950\n",
      "Epoch 16/100\n",
      "32/32 [==============================] - 1s 29ms/step - loss: 0.2237 - accuracy: 0.9061 - val_loss: 0.2733 - val_accuracy: 0.8813\n",
      "Epoch 17/100\n",
      "32/32 [==============================] - 1s 43ms/step - loss: 0.2434 - accuracy: 0.8992 - val_loss: 0.2610 - val_accuracy: 0.8858\n",
      "Epoch 18/100\n",
      "32/32 [==============================] - 1s 43ms/step - loss: 0.2262 - accuracy: 0.9100 - val_loss: 0.2497 - val_accuracy: 0.8858\n",
      "Epoch 19/100\n",
      "32/32 [==============================] - 1s 34ms/step - loss: 0.2117 - accuracy: 0.9119 - val_loss: 0.2361 - val_accuracy: 0.9087\n",
      "Epoch 20/100\n",
      "32/32 [==============================] - 1s 39ms/step - loss: 0.2435 - accuracy: 0.8982 - val_loss: 0.3385 - val_accuracy: 0.8721\n",
      "Epoch 21/100\n",
      "32/32 [==============================] - 1s 37ms/step - loss: 0.2317 - accuracy: 0.9051 - val_loss: 0.2551 - val_accuracy: 0.9178\n",
      "Epoch 22/100\n",
      "32/32 [==============================] - 1s 34ms/step - loss: 0.1903 - accuracy: 0.9217 - val_loss: 0.2507 - val_accuracy: 0.8995\n",
      "Epoch 23/100\n",
      "32/32 [==============================] - 1s 38ms/step - loss: 0.1852 - accuracy: 0.9188 - val_loss: 0.2845 - val_accuracy: 0.9178\n",
      "Epoch 24/100\n",
      "32/32 [==============================] - 1s 37ms/step - loss: 0.2026 - accuracy: 0.9217 - val_loss: 0.2384 - val_accuracy: 0.9087\n",
      "Epoch 25/100\n",
      "32/32 [==============================] - 1s 39ms/step - loss: 0.2117 - accuracy: 0.9100 - val_loss: 0.2670 - val_accuracy: 0.9041\n",
      "Epoch 26/100\n",
      "32/32 [==============================] - 1s 35ms/step - loss: 0.2009 - accuracy: 0.9168 - val_loss: 0.2799 - val_accuracy: 0.8721\n",
      "Epoch 27/100\n",
      "32/32 [==============================] - 1s 43ms/step - loss: 0.2105 - accuracy: 0.9178 - val_loss: 0.2580 - val_accuracy: 0.8950\n",
      "Epoch 28/100\n",
      "32/32 [==============================] - 1s 34ms/step - loss: 0.2036 - accuracy: 0.9090 - val_loss: 0.2709 - val_accuracy: 0.8858\n",
      "Epoch 29/100\n",
      "32/32 [==============================] - 1s 39ms/step - loss: 0.2017 - accuracy: 0.9119 - val_loss: 0.2836 - val_accuracy: 0.8676\n",
      "Epoch 30/100\n",
      "32/32 [==============================] - 1s 37ms/step - loss: 0.1955 - accuracy: 0.9207 - val_loss: 0.2606 - val_accuracy: 0.9132\n",
      "Epoch 31/100\n",
      "32/32 [==============================] - 1s 40ms/step - loss: 0.1845 - accuracy: 0.9247 - val_loss: 0.2871 - val_accuracy: 0.8858\n",
      "Epoch 32/100\n",
      "32/32 [==============================] - 1s 40ms/step - loss: 0.2116 - accuracy: 0.9041 - val_loss: 0.2640 - val_accuracy: 0.8995\n",
      "Epoch 33/100\n",
      "32/32 [==============================] - 1s 37ms/step - loss: 0.2036 - accuracy: 0.9198 - val_loss: 0.2451 - val_accuracy: 0.9269\n",
      "Epoch 34/100\n",
      "32/32 [==============================] - 1s 29ms/step - loss: 0.1977 - accuracy: 0.9198 - val_loss: 0.2372 - val_accuracy: 0.9087\n",
      "Epoch 35/100\n",
      "32/32 [==============================] - 1s 31ms/step - loss: 0.1859 - accuracy: 0.9266 - val_loss: 0.3396 - val_accuracy: 0.8584\n",
      "Epoch 36/100\n",
      "32/32 [==============================] - 1s 33ms/step - loss: 0.1866 - accuracy: 0.9276 - val_loss: 0.2530 - val_accuracy: 0.9132\n",
      "Epoch 37/100\n",
      "32/32 [==============================] - 1s 34ms/step - loss: 0.1836 - accuracy: 0.9227 - val_loss: 0.2552 - val_accuracy: 0.9087\n",
      "Epoch 38/100\n",
      "32/32 [==============================] - 1s 31ms/step - loss: 0.1773 - accuracy: 0.9237 - val_loss: 0.2688 - val_accuracy: 0.8995\n",
      "Epoch 39/100\n",
      "32/32 [==============================] - 1s 33ms/step - loss: 0.2040 - accuracy: 0.9100 - val_loss: 0.3039 - val_accuracy: 0.8950\n",
      "Epoch 40/100\n",
      "32/32 [==============================] - 1s 36ms/step - loss: 0.1871 - accuracy: 0.9247 - val_loss: 0.3918 - val_accuracy: 0.8630\n",
      "Epoch 41/100\n",
      "32/32 [==============================] - 1s 26ms/step - loss: 0.1944 - accuracy: 0.9129 - val_loss: 0.2839 - val_accuracy: 0.8995\n",
      "Epoch 42/100\n",
      "32/32 [==============================] - 1s 27ms/step - loss: 0.1849 - accuracy: 0.9207 - val_loss: 0.2562 - val_accuracy: 0.8950\n",
      "Epoch 43/100\n",
      "32/32 [==============================] - 1s 33ms/step - loss: 0.2047 - accuracy: 0.9188 - val_loss: 0.2560 - val_accuracy: 0.8721\n",
      "Epoch 44/100\n",
      "32/32 [==============================] - 1s 31ms/step - loss: 0.1836 - accuracy: 0.9276 - val_loss: 0.2886 - val_accuracy: 0.9041\n",
      "Epoch 45/100\n",
      "32/32 [==============================] - 1s 34ms/step - loss: 0.1913 - accuracy: 0.9198 - val_loss: 0.3255 - val_accuracy: 0.8813\n",
      "Epoch 46/100\n",
      "32/32 [==============================] - 1s 40ms/step - loss: 0.2122 - accuracy: 0.9070 - val_loss: 0.2508 - val_accuracy: 0.8995\n",
      "Epoch 47/100\n",
      "32/32 [==============================] - 1s 37ms/step - loss: 0.1987 - accuracy: 0.9237 - val_loss: 0.2391 - val_accuracy: 0.8950\n",
      "Epoch 48/100\n",
      "32/32 [==============================] - 1s 31ms/step - loss: 0.1821 - accuracy: 0.9207 - val_loss: 0.3025 - val_accuracy: 0.9041\n",
      "Epoch 49/100\n",
      "32/32 [==============================] - 1s 40ms/step - loss: 0.1727 - accuracy: 0.9286 - val_loss: 0.3056 - val_accuracy: 0.8858\n",
      "Epoch 50/100\n",
      "32/32 [==============================] - 1s 39ms/step - loss: 0.1724 - accuracy: 0.9266 - val_loss: 0.2925 - val_accuracy: 0.9087\n",
      "Epoch 51/100\n",
      "32/32 [==============================] - 1s 36ms/step - loss: 0.1724 - accuracy: 0.9276 - val_loss: 0.3784 - val_accuracy: 0.8858\n",
      "Epoch 52/100\n",
      "32/32 [==============================] - 1s 38ms/step - loss: 0.1858 - accuracy: 0.9227 - val_loss: 0.2667 - val_accuracy: 0.9041\n",
      "Epoch 53/100\n",
      "32/32 [==============================] - 2s 47ms/step - loss: 0.1646 - accuracy: 0.9344 - val_loss: 0.3019 - val_accuracy: 0.8950\n",
      "Epoch 54/100\n",
      "32/32 [==============================] - 1s 43ms/step - loss: 0.1935 - accuracy: 0.9139 - val_loss: 0.3332 - val_accuracy: 0.8950\n",
      "Epoch 55/100\n",
      "32/32 [==============================] - 1s 38ms/step - loss: 0.2021 - accuracy: 0.9159 - val_loss: 0.2712 - val_accuracy: 0.8904\n",
      "Epoch 56/100\n",
      "32/32 [==============================] - 1s 35ms/step - loss: 0.1699 - accuracy: 0.9276 - val_loss: 0.2852 - val_accuracy: 0.8995\n",
      "Epoch 57/100\n",
      "32/32 [==============================] - 1s 29ms/step - loss: 0.1687 - accuracy: 0.9237 - val_loss: 0.3046 - val_accuracy: 0.9087\n",
      "Epoch 58/100\n"
     ]
    },
    {
     "name": "stdout",
     "output_type": "stream",
     "text": [
      "32/32 [==============================] - 1s 33ms/step - loss: 0.1774 - accuracy: 0.9354 - val_loss: 0.3229 - val_accuracy: 0.8767\n",
      "Epoch 59/100\n",
      "32/32 [==============================] - 1s 34ms/step - loss: 0.1587 - accuracy: 0.9344 - val_loss: 0.3041 - val_accuracy: 0.8904\n",
      "Epoch 60/100\n",
      "32/32 [==============================] - 1s 37ms/step - loss: 0.1494 - accuracy: 0.9393 - val_loss: 0.3562 - val_accuracy: 0.8950\n",
      "Epoch 61/100\n",
      "32/32 [==============================] - 1s 29ms/step - loss: 0.1457 - accuracy: 0.9384 - val_loss: 0.3526 - val_accuracy: 0.8813\n",
      "Epoch 62/100\n",
      "32/32 [==============================] - 1s 38ms/step - loss: 0.1709 - accuracy: 0.9325 - val_loss: 0.3448 - val_accuracy: 0.8995\n",
      "Epoch 63/100\n",
      "32/32 [==============================] - 1s 32ms/step - loss: 0.1819 - accuracy: 0.9237 - val_loss: 0.3151 - val_accuracy: 0.8950\n",
      "Epoch 64/100\n",
      "32/32 [==============================] - 1s 39ms/step - loss: 0.1764 - accuracy: 0.9295 - val_loss: 0.3058 - val_accuracy: 0.8767\n",
      "Epoch 65/100\n",
      "32/32 [==============================] - 1s 40ms/step - loss: 0.1611 - accuracy: 0.9354 - val_loss: 0.3556 - val_accuracy: 0.9087\n",
      "Epoch 66/100\n",
      "32/32 [==============================] - 1s 43ms/step - loss: 0.1674 - accuracy: 0.9315 - val_loss: 0.3348 - val_accuracy: 0.9087\n",
      "Epoch 67/100\n",
      "32/32 [==============================] - 1s 39ms/step - loss: 0.1638 - accuracy: 0.9266 - val_loss: 0.3188 - val_accuracy: 0.9041\n",
      "Epoch 68/100\n",
      "32/32 [==============================] - 1s 34ms/step - loss: 0.1785 - accuracy: 0.9276 - val_loss: 0.2760 - val_accuracy: 0.9041\n",
      "Epoch 69/100\n",
      "32/32 [==============================] - 1s 36ms/step - loss: 0.1621 - accuracy: 0.9315 - val_loss: 0.3118 - val_accuracy: 0.8950\n",
      "Epoch 70/100\n",
      "32/32 [==============================] - 1s 36ms/step - loss: 0.1701 - accuracy: 0.9315 - val_loss: 0.3411 - val_accuracy: 0.9041\n",
      "Epoch 71/100\n",
      "32/32 [==============================] - 1s 34ms/step - loss: 0.1465 - accuracy: 0.9354 - val_loss: 0.3263 - val_accuracy: 0.8858\n",
      "Epoch 72/100\n",
      "32/32 [==============================] - 1s 33ms/step - loss: 0.1413 - accuracy: 0.9413 - val_loss: 0.3299 - val_accuracy: 0.8950\n",
      "Epoch 73/100\n",
      "32/32 [==============================] - 1s 27ms/step - loss: 0.1513 - accuracy: 0.9276 - val_loss: 0.3280 - val_accuracy: 0.8995\n",
      "Epoch 74/100\n",
      "32/32 [==============================] - 1s 28ms/step - loss: 0.1414 - accuracy: 0.9374 - val_loss: 0.3201 - val_accuracy: 0.8950\n",
      "Epoch 75/100\n",
      "32/32 [==============================] - 1s 32ms/step - loss: 0.1362 - accuracy: 0.9423 - val_loss: 0.3580 - val_accuracy: 0.9041\n",
      "Epoch 76/100\n",
      "32/32 [==============================] - 1s 34ms/step - loss: 0.1263 - accuracy: 0.9432 - val_loss: 0.5243 - val_accuracy: 0.8858\n",
      "Epoch 77/100\n",
      "32/32 [==============================] - 1s 39ms/step - loss: 0.2170 - accuracy: 0.9090 - val_loss: 0.2811 - val_accuracy: 0.8721\n",
      "Epoch 78/100\n",
      "32/32 [==============================] - 1s 31ms/step - loss: 0.1761 - accuracy: 0.9207 - val_loss: 0.3059 - val_accuracy: 0.8858\n",
      "Epoch 79/100\n",
      "32/32 [==============================] - 1s 40ms/step - loss: 0.1307 - accuracy: 0.9472 - val_loss: 0.3680 - val_accuracy: 0.8950\n",
      "Epoch 80/100\n",
      "32/32 [==============================] - 1s 45ms/step - loss: 0.1305 - accuracy: 0.9462 - val_loss: 0.4521 - val_accuracy: 0.8995\n",
      "Epoch 81/100\n",
      "32/32 [==============================] - 2s 49ms/step - loss: 0.1355 - accuracy: 0.9423 - val_loss: 0.3498 - val_accuracy: 0.9041\n",
      "Epoch 82/100\n",
      "32/32 [==============================] - 1s 34ms/step - loss: 0.1323 - accuracy: 0.9432 - val_loss: 0.3658 - val_accuracy: 0.8813\n",
      "Epoch 83/100\n",
      "32/32 [==============================] - 1s 33ms/step - loss: 0.1499 - accuracy: 0.9364 - val_loss: 0.4185 - val_accuracy: 0.8950\n",
      "Epoch 84/100\n",
      "32/32 [==============================] - 1s 42ms/step - loss: 0.1445 - accuracy: 0.9423 - val_loss: 0.3852 - val_accuracy: 0.8995\n",
      "Epoch 85/100\n",
      "32/32 [==============================] - 1s 37ms/step - loss: 0.1215 - accuracy: 0.9521 - val_loss: 0.3890 - val_accuracy: 0.8813\n",
      "Epoch 86/100\n",
      "32/32 [==============================] - 1s 28ms/step - loss: 0.1340 - accuracy: 0.9393 - val_loss: 0.4735 - val_accuracy: 0.8676\n",
      "Epoch 87/100\n",
      "32/32 [==============================] - 1s 23ms/step - loss: 0.1597 - accuracy: 0.9393 - val_loss: 0.3855 - val_accuracy: 0.9087\n",
      "Epoch 88/100\n",
      "32/32 [==============================] - 1s 28ms/step - loss: 0.1336 - accuracy: 0.9442 - val_loss: 0.4073 - val_accuracy: 0.8904\n",
      "Epoch 89/100\n",
      "32/32 [==============================] - 1s 27ms/step - loss: 0.1329 - accuracy: 0.9374 - val_loss: 0.3944 - val_accuracy: 0.8995\n",
      "Epoch 90/100\n",
      "32/32 [==============================] - 2s 67ms/step - loss: 0.1223 - accuracy: 0.9491 - val_loss: 0.4848 - val_accuracy: 0.8676\n",
      "Epoch 91/100\n",
      "32/32 [==============================] - 1s 36ms/step - loss: 0.1245 - accuracy: 0.9472 - val_loss: 0.4382 - val_accuracy: 0.8858\n",
      "Epoch 92/100\n",
      "32/32 [==============================] - 1s 39ms/step - loss: 0.1164 - accuracy: 0.9462 - val_loss: 0.4995 - val_accuracy: 0.8767\n",
      "Epoch 93/100\n",
      "32/32 [==============================] - 1s 44ms/step - loss: 0.1380 - accuracy: 0.9452 - val_loss: 0.4864 - val_accuracy: 0.8630\n",
      "Epoch 94/100\n",
      "32/32 [==============================] - 2s 50ms/step - loss: 0.1357 - accuracy: 0.9423 - val_loss: 0.6439 - val_accuracy: 0.8630\n",
      "Epoch 95/100\n",
      "32/32 [==============================] - 2s 50ms/step - loss: 0.1809 - accuracy: 0.9256 - val_loss: 0.4065 - val_accuracy: 0.8904\n",
      "Epoch 96/100\n",
      "32/32 [==============================] - 1s 38ms/step - loss: 0.1321 - accuracy: 0.9413 - val_loss: 0.4307 - val_accuracy: 0.8995\n",
      "Epoch 97/100\n",
      "32/32 [==============================] - 1s 35ms/step - loss: 0.1491 - accuracy: 0.9384 - val_loss: 0.4687 - val_accuracy: 0.8950\n",
      "Epoch 98/100\n",
      "32/32 [==============================] - 1s 40ms/step - loss: 0.1210 - accuracy: 0.9511 - val_loss: 0.4198 - val_accuracy: 0.8767\n",
      "Epoch 99/100\n",
      "32/32 [==============================] - 1s 41ms/step - loss: 0.1117 - accuracy: 0.9481 - val_loss: 0.5141 - val_accuracy: 0.8858\n",
      "Epoch 100/100\n",
      "32/32 [==============================] - 1s 27ms/step - loss: 0.1468 - accuracy: 0.9413 - val_loss: 0.4882 - val_accuracy: 0.8858\n"
     ]
    }
   ],
   "source": [
    "model_2 = Sequential([\n",
    "    Dense(1000, activation='relu', input_shape=(10,)),\n",
    "    Dense(1000, activation='relu'),\n",
    "    Dense(1000, activation='relu'),\n",
    "    Dense(1000, activation='relu'),\n",
    "    Dense(1, activation='sigmoid'),\n",
    "])\n",
    "\n",
    "model_2.compile(optimizer='adam',\n",
    "              loss='binary_crossentropy',\n",
    "              metrics=['accuracy'])\n",
    "              \n",
    "hist_2 = model_2.fit(X_train, Y_train,\n",
    "          batch_size=32, epochs=100,\n",
    "          validation_data=(X_val, Y_val))\n"
   ]
  },
  {
   "cell_type": "code",
   "execution_count": 13,
   "id": "6dd23878",
   "metadata": {},
   "outputs": [
    {
     "name": "stdout",
     "output_type": "stream",
     "text": [
      "7/7 [==============================] - 0s 6ms/step - loss: 0.5221 - accuracy: 0.9224\n"
     ]
    },
    {
     "data": {
      "text/plain": [
       "0.922374427318573"
      ]
     },
     "execution_count": 13,
     "metadata": {},
     "output_type": "execute_result"
    }
   ],
   "source": [
    "model_2.evaluate(X_test, Y_test)[1]"
   ]
  },
  {
   "cell_type": "markdown",
   "id": "685c4a9b",
   "metadata": {},
   "source": [
    "### Loss visualization"
   ]
  },
  {
   "cell_type": "code",
   "execution_count": 14,
   "id": "ef6585ca",
   "metadata": {},
   "outputs": [
    {
     "data": {
      "image/png": "[encoded data removed]",
      "text/plain": [
       "<Figure size 432x288 with 1 Axes>"
      ]
     },
     "metadata": {
      "needs_background": "light"
     },
     "output_type": "display_data"
    }
   ],
   "source": [
    "plt.plot(hist_2.history['loss'])\n",
    "plt.plot(hist_2.history['val_loss'])\n",
    "plt.title('Model loss')\n",
    "plt.ylabel('Loss')\n",
    "plt.xlabel('Epoch')\n",
    "plt.legend(['Train', 'Val'], loc='upper right')\n",
    "plt.show()"
   ]
  },
  {
   "cell_type": "code",
   "execution_count": 15,
   "id": "5a7ed6c3",
   "metadata": {},
   "outputs": [
    {
     "data": {
      "image/png": "[encoded data removed]",
      "text/plain": [
       "<Figure size 432x288 with 1 Axes>"
      ]
     },
     "metadata": {
      "needs_background": "light"
     },
     "output_type": "display_data"
    }
   ],
   "source": [
    "plt.plot(hist_2.history['accuracy'])\n",
    "plt.plot(hist_2.history['val_accuracy'])\n",
    "plt.title('Model accuracy')\n",
    "plt.ylabel('Accuracy')\n",
    "plt.xlabel('Epoch')\n",
    "plt.legend(['Train', 'Val'], loc='lower right')\n",
    "plt.show()"
   ]
  },
  {
   "cell_type": "markdown",
   "id": "d6924131",
   "metadata": {},
   "source": [
    "## Reduce Overfitting"
   ]
  },
  {
   "cell_type": "code",
   "execution_count": 16,
   "id": "04a0f056",
   "metadata": {},
   "outputs": [],
   "source": [
    "from keras.layers import Dropout\n",
    "from keras import regularizers"
   ]
  },
  {
   "cell_type": "code",
   "execution_count": 17,
   "id": "56ffec3b",
   "metadata": {},
   "outputs": [
    {
     "name": "stdout",
     "output_type": "stream",
     "text": [
      "Epoch 1/100\n",
      "32/32 [==============================] - 3s 68ms/step - loss: 14.2318 - accuracy: 0.6184 - val_loss: 3.8981 - val_accuracy: 0.8174\n",
      "Epoch 2/100\n",
      "32/32 [==============================] - 2s 57ms/step - loss: 1.6584 - accuracy: 0.8356 - val_loss: 0.7065 - val_accuracy: 0.8493\n",
      "Epoch 3/100\n",
      "32/32 [==============================] - 2s 59ms/step - loss: 0.5590 - accuracy: 0.8718 - val_loss: 0.5472 - val_accuracy: 0.8447\n",
      "Epoch 4/100\n",
      "32/32 [==============================] - 2s 70ms/step - loss: 0.5119 - accuracy: 0.8630 - val_loss: 0.4971 - val_accuracy: 0.8721\n",
      "Epoch 5/100\n",
      "32/32 [==============================] - 2s 55ms/step - loss: 0.5472 - accuracy: 0.8434 - val_loss: 0.5089 - val_accuracy: 0.8630\n",
      "Epoch 6/100\n",
      "32/32 [==============================] - 2s 54ms/step - loss: 0.4837 - accuracy: 0.8757 - val_loss: 0.4767 - val_accuracy: 0.8676\n",
      "Epoch 7/100\n",
      "32/32 [==============================] - 2s 55ms/step - loss: 0.4986 - accuracy: 0.8669 - val_loss: 0.4906 - val_accuracy: 0.8539\n",
      "Epoch 8/100\n",
      "32/32 [==============================] - 1s 44ms/step - loss: 0.4995 - accuracy: 0.8571 - val_loss: 0.4754 - val_accuracy: 0.8721\n",
      "Epoch 9/100\n",
      "32/32 [==============================] - 1s 43ms/step - loss: 0.4898 - accuracy: 0.8581 - val_loss: 0.4863 - val_accuracy: 0.8676\n",
      "Epoch 10/100\n",
      "32/32 [==============================] - 1s 47ms/step - loss: 0.4751 - accuracy: 0.8738 - val_loss: 0.4509 - val_accuracy: 0.8813\n",
      "Epoch 11/100\n",
      "32/32 [==============================] - 2s 51ms/step - loss: 0.4728 - accuracy: 0.8718 - val_loss: 0.4464 - val_accuracy: 0.8858\n",
      "Epoch 12/100\n",
      "32/32 [==============================] - 2s 52ms/step - loss: 0.4689 - accuracy: 0.8659 - val_loss: 0.4555 - val_accuracy: 0.8630\n",
      "Epoch 13/100\n",
      "32/32 [==============================] - 2s 57ms/step - loss: 0.4603 - accuracy: 0.8806 - val_loss: 0.4554 - val_accuracy: 0.8493\n",
      "Epoch 14/100\n",
      "32/32 [==============================] - 2s 59ms/step - loss: 0.4448 - accuracy: 0.8767 - val_loss: 0.4411 - val_accuracy: 0.8858\n",
      "Epoch 15/100\n",
      "32/32 [==============================] - 2s 63ms/step - loss: 0.4457 - accuracy: 0.8806 - val_loss: 0.4365 - val_accuracy: 0.8813\n",
      "Epoch 16/100\n",
      "32/32 [==============================] - 2s 56ms/step - loss: 0.4656 - accuracy: 0.8777 - val_loss: 0.4496 - val_accuracy: 0.8584\n",
      "Epoch 17/100\n",
      "32/32 [==============================] - 2s 60ms/step - loss: 0.4465 - accuracy: 0.8816 - val_loss: 0.4581 - val_accuracy: 0.8767\n",
      "Epoch 18/100\n",
      "32/32 [==============================] - 2s 55ms/step - loss: 0.4438 - accuracy: 0.8816 - val_loss: 0.5319 - val_accuracy: 0.8584\n",
      "Epoch 19/100\n",
      "32/32 [==============================] - 1s 43ms/step - loss: 0.4585 - accuracy: 0.8787 - val_loss: 0.4409 - val_accuracy: 0.8584\n",
      "Epoch 20/100\n",
      "32/32 [==============================] - 1s 40ms/step - loss: 0.4355 - accuracy: 0.8914 - val_loss: 0.4668 - val_accuracy: 0.8539\n",
      "Epoch 21/100\n",
      "32/32 [==============================] - 1s 44ms/step - loss: 0.4433 - accuracy: 0.8757 - val_loss: 0.4296 - val_accuracy: 0.8813\n",
      "Epoch 22/100\n",
      "32/32 [==============================] - 1s 46ms/step - loss: 0.4605 - accuracy: 0.8855 - val_loss: 0.5257 - val_accuracy: 0.8539\n",
      "Epoch 23/100\n",
      "32/32 [==============================] - 2s 52ms/step - loss: 0.4428 - accuracy: 0.8855 - val_loss: 0.4661 - val_accuracy: 0.8539\n",
      "Epoch 24/100\n",
      "32/32 [==============================] - 2s 55ms/step - loss: 0.4520 - accuracy: 0.8767 - val_loss: 0.4264 - val_accuracy: 0.8858\n",
      "Epoch 25/100\n",
      "32/32 [==============================] - 2s 69ms/step - loss: 0.4479 - accuracy: 0.8777 - val_loss: 0.5414 - val_accuracy: 0.8630\n",
      "Epoch 26/100\n",
      "32/32 [==============================] - 2s 55ms/step - loss: 0.4605 - accuracy: 0.8728 - val_loss: 0.4472 - val_accuracy: 0.8767\n",
      "Epoch 27/100\n",
      "32/32 [==============================] - 2s 53ms/step - loss: 0.4804 - accuracy: 0.8523 - val_loss: 0.4654 - val_accuracy: 0.8539\n",
      "Epoch 28/100\n",
      "32/32 [==============================] - 2s 51ms/step - loss: 0.4498 - accuracy: 0.8777 - val_loss: 0.4361 - val_accuracy: 0.8630\n",
      "Epoch 29/100\n",
      "32/32 [==============================] - 1s 42ms/step - loss: 0.4395 - accuracy: 0.8806 - val_loss: 0.4342 - val_accuracy: 0.8904\n",
      "Epoch 30/100\n",
      "32/32 [==============================] - 1s 37ms/step - loss: 0.4290 - accuracy: 0.8943 - val_loss: 0.4251 - val_accuracy: 0.8858\n",
      "Epoch 31/100\n",
      "32/32 [==============================] - 1s 41ms/step - loss: 0.4356 - accuracy: 0.8787 - val_loss: 0.4813 - val_accuracy: 0.8767\n",
      "Epoch 32/100\n",
      "32/32 [==============================] - 2s 53ms/step - loss: 0.4556 - accuracy: 0.8699 - val_loss: 0.4356 - val_accuracy: 0.8950\n",
      "Epoch 33/100\n",
      "32/32 [==============================] - 2s 56ms/step - loss: 0.4479 - accuracy: 0.8787 - val_loss: 0.5402 - val_accuracy: 0.8447\n",
      "Epoch 34/100\n",
      "32/32 [==============================] - 2s 67ms/step - loss: 0.4390 - accuracy: 0.8748 - val_loss: 0.4244 - val_accuracy: 0.8813\n",
      "Epoch 35/100\n",
      "32/32 [==============================] - 2s 60ms/step - loss: 0.4394 - accuracy: 0.8748 - val_loss: 0.4375 - val_accuracy: 0.8584\n",
      "Epoch 36/100\n",
      "32/32 [==============================] - 2s 49ms/step - loss: 0.4383 - accuracy: 0.8845 - val_loss: 0.4717 - val_accuracy: 0.8584\n",
      "Epoch 37/100\n",
      "32/32 [==============================] - 2s 51ms/step - loss: 0.4321 - accuracy: 0.8728 - val_loss: 0.4402 - val_accuracy: 0.8584\n",
      "Epoch 38/100\n",
      "32/32 [==============================] - 1s 43ms/step - loss: 0.4287 - accuracy: 0.8885 - val_loss: 0.4656 - val_accuracy: 0.8539\n",
      "Epoch 39/100\n",
      "32/32 [==============================] - 1s 41ms/step - loss: 0.4394 - accuracy: 0.8904 - val_loss: 0.4592 - val_accuracy: 0.8584\n",
      "Epoch 40/100\n",
      "32/32 [==============================] - 1s 37ms/step - loss: 0.4341 - accuracy: 0.8855 - val_loss: 0.4371 - val_accuracy: 0.8813\n",
      "Epoch 41/100\n",
      "32/32 [==============================] - 1s 40ms/step - loss: 0.4300 - accuracy: 0.8845 - val_loss: 0.4234 - val_accuracy: 0.8858\n",
      "Epoch 42/100\n",
      "32/32 [==============================] - 1s 45ms/step - loss: 0.4393 - accuracy: 0.8669 - val_loss: 0.4719 - val_accuracy: 0.8493\n",
      "Epoch 43/100\n",
      "32/32 [==============================] - 2s 49ms/step - loss: 0.4676 - accuracy: 0.8699 - val_loss: 0.4270 - val_accuracy: 0.8813\n",
      "Epoch 44/100\n",
      "32/32 [==============================] - 2s 62ms/step - loss: 0.4201 - accuracy: 0.8914 - val_loss: 0.4365 - val_accuracy: 0.8584\n",
      "Epoch 45/100\n",
      "32/32 [==============================] - 2s 60ms/step - loss: 0.4287 - accuracy: 0.8836 - val_loss: 0.4359 - val_accuracy: 0.8584\n",
      "Epoch 46/100\n",
      "32/32 [==============================] - 2s 66ms/step - loss: 0.4302 - accuracy: 0.8826 - val_loss: 0.4207 - val_accuracy: 0.8813\n",
      "Epoch 47/100\n",
      "32/32 [==============================] - 2s 60ms/step - loss: 0.4267 - accuracy: 0.8992 - val_loss: 0.4306 - val_accuracy: 0.8630\n",
      "Epoch 48/100\n",
      "32/32 [==============================] - 2s 48ms/step - loss: 0.4399 - accuracy: 0.8728 - val_loss: 0.4228 - val_accuracy: 0.8950\n",
      "Epoch 49/100\n",
      "32/32 [==============================] - 2s 47ms/step - loss: 0.4335 - accuracy: 0.8904 - val_loss: 0.4264 - val_accuracy: 0.8767\n",
      "Epoch 50/100\n",
      "32/32 [==============================] - 1s 45ms/step - loss: 0.4371 - accuracy: 0.8748 - val_loss: 0.4335 - val_accuracy: 0.8676\n",
      "Epoch 51/100\n",
      "32/32 [==============================] - 2s 49ms/step - loss: 0.4391 - accuracy: 0.8748 - val_loss: 0.4293 - val_accuracy: 0.8630\n",
      "Epoch 52/100\n",
      "32/32 [==============================] - 2s 56ms/step - loss: 0.4372 - accuracy: 0.8806 - val_loss: 0.6963 - val_accuracy: 0.7580\n",
      "Epoch 53/100\n",
      "32/32 [==============================] - 2s 63ms/step - loss: 0.4656 - accuracy: 0.8669 - val_loss: 0.4237 - val_accuracy: 0.8858\n",
      "Epoch 54/100\n",
      "32/32 [==============================] - 2s 64ms/step - loss: 0.4251 - accuracy: 0.8845 - val_loss: 0.4233 - val_accuracy: 0.8995\n",
      "Epoch 55/100\n",
      "32/32 [==============================] - 2s 66ms/step - loss: 0.4369 - accuracy: 0.8806 - val_loss: 0.4295 - val_accuracy: 0.8767\n",
      "Epoch 56/100\n",
      "32/32 [==============================] - 2s 72ms/step - loss: 0.4298 - accuracy: 0.8836 - val_loss: 0.4601 - val_accuracy: 0.8584\n",
      "Epoch 57/100\n",
      "32/32 [==============================] - 2s 53ms/step - loss: 0.4425 - accuracy: 0.8767 - val_loss: 0.4337 - val_accuracy: 0.8539\n",
      "Epoch 58/100\n"
     ]
    },
    {
     "name": "stdout",
     "output_type": "stream",
     "text": [
      "32/32 [==============================] - 1s 45ms/step - loss: 0.4388 - accuracy: 0.8796 - val_loss: 0.4182 - val_accuracy: 0.8858\n",
      "Epoch 59/100\n",
      "32/32 [==============================] - 1s 40ms/step - loss: 0.4264 - accuracy: 0.8816 - val_loss: 0.4213 - val_accuracy: 0.8767\n",
      "Epoch 60/100\n",
      "32/32 [==============================] - 1s 34ms/step - loss: 0.4305 - accuracy: 0.8894 - val_loss: 0.4381 - val_accuracy: 0.8584\n",
      "Epoch 61/100\n",
      "32/32 [==============================] - 1s 41ms/step - loss: 0.4284 - accuracy: 0.8904 - val_loss: 0.4376 - val_accuracy: 0.8630\n",
      "Epoch 62/100\n",
      "32/32 [==============================] - 1s 37ms/step - loss: 0.4320 - accuracy: 0.8875 - val_loss: 0.4282 - val_accuracy: 0.8767\n",
      "Epoch 63/100\n",
      "32/32 [==============================] - 1s 39ms/step - loss: 0.4420 - accuracy: 0.8806 - val_loss: 0.4647 - val_accuracy: 0.8630\n",
      "Epoch 64/100\n",
      "32/32 [==============================] - 1s 47ms/step - loss: 0.4282 - accuracy: 0.8865 - val_loss: 0.4313 - val_accuracy: 0.8584\n",
      "Epoch 65/100\n",
      "32/32 [==============================] - 1s 45ms/step - loss: 0.4303 - accuracy: 0.8787 - val_loss: 0.4204 - val_accuracy: 0.8858\n",
      "Epoch 66/100\n",
      "32/32 [==============================] - 2s 52ms/step - loss: 0.4332 - accuracy: 0.8865 - val_loss: 0.4184 - val_accuracy: 0.8858\n",
      "Epoch 67/100\n",
      "32/32 [==============================] - 2s 53ms/step - loss: 0.4329 - accuracy: 0.8845 - val_loss: 0.4529 - val_accuracy: 0.8584\n",
      "Epoch 68/100\n",
      "32/32 [==============================] - 2s 47ms/step - loss: 0.4365 - accuracy: 0.8796 - val_loss: 0.4429 - val_accuracy: 0.8721\n",
      "Epoch 69/100\n",
      "32/32 [==============================] - 1s 43ms/step - loss: 0.4306 - accuracy: 0.8933 - val_loss: 0.4235 - val_accuracy: 0.8858\n",
      "Epoch 70/100\n",
      "32/32 [==============================] - 1s 41ms/step - loss: 0.4210 - accuracy: 0.8787 - val_loss: 0.4167 - val_accuracy: 0.8858\n",
      "Epoch 71/100\n",
      "32/32 [==============================] - 1s 35ms/step - loss: 0.4252 - accuracy: 0.8933 - val_loss: 0.4560 - val_accuracy: 0.8584\n",
      "Epoch 72/100\n",
      "32/32 [==============================] - 1s 31ms/step - loss: 0.4499 - accuracy: 0.8679 - val_loss: 0.4209 - val_accuracy: 0.8813\n",
      "Epoch 73/100\n",
      "32/32 [==============================] - 1s 32ms/step - loss: 0.4486 - accuracy: 0.8826 - val_loss: 0.4427 - val_accuracy: 0.8767\n",
      "Epoch 74/100\n",
      "32/32 [==============================] - 1s 36ms/step - loss: 0.4508 - accuracy: 0.8816 - val_loss: 0.4278 - val_accuracy: 0.8767\n",
      "Epoch 75/100\n",
      "32/32 [==============================] - 2s 47ms/step - loss: 0.4366 - accuracy: 0.8796 - val_loss: 0.4371 - val_accuracy: 0.8630\n",
      "Epoch 76/100\n",
      "32/32 [==============================] - 2s 56ms/step - loss: 0.4435 - accuracy: 0.8738 - val_loss: 0.4277 - val_accuracy: 0.8630\n",
      "Epoch 77/100\n",
      "32/32 [==============================] - 2s 58ms/step - loss: 0.4497 - accuracy: 0.8757 - val_loss: 0.4202 - val_accuracy: 0.8858\n",
      "Epoch 78/100\n",
      "32/32 [==============================] - 2s 62ms/step - loss: 0.4322 - accuracy: 0.8855 - val_loss: 0.4668 - val_accuracy: 0.8584\n",
      "Epoch 79/100\n",
      "32/32 [==============================] - 2s 51ms/step - loss: 0.4461 - accuracy: 0.8787 - val_loss: 0.4499 - val_accuracy: 0.8721\n",
      "Epoch 80/100\n",
      "32/32 [==============================] - 2s 54ms/step - loss: 0.4274 - accuracy: 0.8953 - val_loss: 0.4192 - val_accuracy: 0.8858\n",
      "Epoch 81/100\n",
      "32/32 [==============================] - 2s 52ms/step - loss: 0.4285 - accuracy: 0.8904 - val_loss: 0.5062 - val_accuracy: 0.8128\n",
      "Epoch 82/100\n",
      "32/32 [==============================] - 1s 43ms/step - loss: 0.4398 - accuracy: 0.8738 - val_loss: 0.4190 - val_accuracy: 0.8767\n",
      "Epoch 83/100\n",
      "32/32 [==============================] - 1s 32ms/step - loss: 0.4226 - accuracy: 0.8924 - val_loss: 0.4178 - val_accuracy: 0.8813\n",
      "Epoch 84/100\n",
      "32/32 [==============================] - 1s 33ms/step - loss: 0.4452 - accuracy: 0.8757 - val_loss: 0.4266 - val_accuracy: 0.8904\n",
      "Epoch 85/100\n",
      "32/32 [==============================] - 1s 35ms/step - loss: 0.4277 - accuracy: 0.8845 - val_loss: 0.4520 - val_accuracy: 0.8584\n",
      "Epoch 86/100\n",
      "32/32 [==============================] - 1s 34ms/step - loss: 0.4219 - accuracy: 0.8806 - val_loss: 0.4392 - val_accuracy: 0.8630\n",
      "Epoch 87/100\n",
      "32/32 [==============================] - 1s 38ms/step - loss: 0.4266 - accuracy: 0.8836 - val_loss: 0.4267 - val_accuracy: 0.8584\n",
      "Epoch 88/100\n",
      "32/32 [==============================] - 2s 48ms/step - loss: 0.4414 - accuracy: 0.8728 - val_loss: 0.4165 - val_accuracy: 0.8858\n",
      "Epoch 89/100\n",
      "32/32 [==============================] - 2s 48ms/step - loss: 0.4303 - accuracy: 0.8836 - val_loss: 0.4405 - val_accuracy: 0.8584\n",
      "Epoch 90/100\n",
      "32/32 [==============================] - 2s 56ms/step - loss: 0.4256 - accuracy: 0.8865 - val_loss: 0.4425 - val_accuracy: 0.8630\n",
      "Epoch 91/100\n",
      "32/32 [==============================] - 2s 57ms/step - loss: 0.4472 - accuracy: 0.8728 - val_loss: 0.4339 - val_accuracy: 0.8630\n",
      "Epoch 92/100\n",
      "32/32 [==============================] - 2s 52ms/step - loss: 0.4270 - accuracy: 0.8865 - val_loss: 0.4759 - val_accuracy: 0.8584\n",
      "Epoch 93/100\n",
      "32/32 [==============================] - 1s 43ms/step - loss: 0.4368 - accuracy: 0.8826 - val_loss: 0.4300 - val_accuracy: 0.8904\n",
      "Epoch 94/100\n",
      "32/32 [==============================] - 1s 45ms/step - loss: 0.4264 - accuracy: 0.8767 - val_loss: 0.4199 - val_accuracy: 0.8950\n",
      "Epoch 95/100\n",
      "32/32 [==============================] - 1s 33ms/step - loss: 0.4292 - accuracy: 0.8904 - val_loss: 0.4185 - val_accuracy: 0.8904\n",
      "Epoch 96/100\n",
      "32/32 [==============================] - 1s 33ms/step - loss: 0.4249 - accuracy: 0.8845 - val_loss: 0.4225 - val_accuracy: 0.8995\n",
      "Epoch 97/100\n",
      "32/32 [==============================] - 1s 34ms/step - loss: 0.4249 - accuracy: 0.8924 - val_loss: 0.4272 - val_accuracy: 0.8904\n",
      "Epoch 98/100\n",
      "32/32 [==============================] - 1s 37ms/step - loss: 0.4364 - accuracy: 0.8855 - val_loss: 0.4164 - val_accuracy: 0.8858\n",
      "Epoch 99/100\n",
      "32/32 [==============================] - 1s 38ms/step - loss: 0.4219 - accuracy: 0.8816 - val_loss: 0.4369 - val_accuracy: 0.8584\n",
      "Epoch 100/100\n",
      "32/32 [==============================] - 2s 51ms/step - loss: 0.4325 - accuracy: 0.8767 - val_loss: 0.4465 - val_accuracy: 0.8630\n"
     ]
    }
   ],
   "source": [
    "model_3 = Sequential([\n",
    "    Dense(1000, activation='relu', kernel_regularizer=regularizers.l2(0.01), input_shape=(10,)),\n",
    "    Dropout(0.3),\n",
    "    Dense(1000, activation='relu', kernel_regularizer=regularizers.l2(0.01)),\n",
    "    Dropout(0.3),\n",
    "    Dense(1000, activation='relu', kernel_regularizer=regularizers.l2(0.01)),\n",
    "    Dropout(0.3),\n",
    "    Dense(1000, activation='relu', kernel_regularizer=regularizers.l2(0.01)),\n",
    "    Dropout(0.3),\n",
    "    Dense(1, activation='sigmoid', kernel_regularizer=regularizers.l2(0.01)),\n",
    "])\n",
    "\n",
    "model_3.compile(optimizer='adam',\n",
    "              loss='binary_crossentropy',\n",
    "              metrics=['accuracy'])\n",
    "              \n",
    "hist_3 = model_3.fit(X_train, Y_train,\n",
    "          batch_size=32, epochs=100,\n",
    "          validation_data=(X_val, Y_val))\n"
   ]
  },
  {
   "cell_type": "code",
   "execution_count": 18,
   "id": "f7f51e2b",
   "metadata": {},
   "outputs": [
    {
     "name": "stdout",
     "output_type": "stream",
     "text": [
      "7/7 [==============================] - 0s 16ms/step - loss: 0.4498 - accuracy: 0.8904\n"
     ]
    },
    {
     "data": {
      "text/plain": [
       "0.8904109597206116"
      ]
     },
     "execution_count": 18,
     "metadata": {},
     "output_type": "execute_result"
    }
   ],
   "source": [
    "model_3.evaluate(X_test, Y_test)[1]"
   ]
  },
  {
   "cell_type": "markdown",
   "id": "83b1873a",
   "metadata": {},
   "source": [
    "### Loss visualization"
   ]
  },
  {
   "cell_type": "code",
   "execution_count": 19,
   "id": "d33822fb",
   "metadata": {},
   "outputs": [
    {
     "data": {
      "image/png": "[encoded data removed]",
      "text/plain": [
       "<Figure size 432x288 with 1 Axes>"
      ]
     },
     "metadata": {
      "needs_background": "light"
     },
     "output_type": "display_data"
    }
   ],
   "source": [
    "plt.plot(hist_3.history['loss'])\n",
    "plt.plot(hist_3.history['val_loss'])\n",
    "plt.title('Model loss')\n",
    "plt.ylabel('Loss')\n",
    "plt.xlabel('Epoch')\n",
    "plt.legend(['Train', 'Val'], loc='upper right')\n",
    "plt.ylim(top=1.2, bottom=0)\n",
    "plt.show()"
   ]
  },
  {
   "cell_type": "code",
   "execution_count": 20,
   "id": "2c58b627",
   "metadata": {},
   "outputs": [
    {
     "data": {
      "image/png": "[encoded data removed]",
      "text/plain": [
       "<Figure size 432x288 with 1 Axes>"
      ]
     },
     "metadata": {
      "needs_background": "light"
     },
     "output_type": "display_data"
    }
   ],
   "source": [
    "plt.plot(hist_3.history['accuracy'])\n",
    "plt.plot(hist_3.history['val_accuracy'])\n",
    "plt.title('Model accuracy')\n",
    "plt.ylabel('Accuracy')\n",
    "plt.xlabel('Epoch')\n",
    "plt.legend(['Train', 'Val'], loc='lower right')\n",
    "plt.show()"
   ]
  },
  {
   "cell_type": "code",
   "execution_count": null,
   "id": "197a0968",
   "metadata": {},
   "outputs": [],
   "source": []
  }
 ],
 "metadata": {
  "kernelspec": {
   "display_name": "Python 3 (ipykernel)",
   "language": "python",
   "name": "python3"
  },
  "language_info": {
   "codemirror_mode": {
    "name": "ipython",
    "version": 3
   },
   "file_extension": ".py",
   "mimetype": "text/x-python",
   "name": "python",
   "nbconvert_exporter": "python",
   "pygments_lexer": "ipython3",
   "version": "3.9.12"
  }
 },
 "nbformat": 4,
 "nbformat_minor": 5
}
