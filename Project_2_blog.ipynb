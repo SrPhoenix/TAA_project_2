{
 "cells": [
  {
   "cell_type": "markdown",
   "id": "d86fa563",
   "metadata": {},
   "source": [
    "## Project 2 TAA Blog"
   ]
  },
  {
   "cell_type": "code",
   "execution_count": 1,
   "id": "696fa026",
   "metadata": {},
   "outputs": [],
   "source": [
    "import pandas as pd\n",
    "from sklearn import preprocessing\n",
    "from sklearn.model_selection import train_test_split\n",
    "import matplotlib.pyplot as plt"
   ]
  },
  {
   "cell_type": "markdown",
   "id": "4f3d0cf3",
   "metadata": {},
   "source": [
    "### Processing the data"
   ]
  },
  {
   "cell_type": "code",
   "execution_count": 2,
   "id": "b3a8131f",
   "metadata": {},
   "outputs": [],
   "source": [
    "df = pd.read_csv('housepricedata.csv')\n",
    "dataset = df.values\n",
    "\n",
    "X = dataset[:,:-1]\n",
    "Y = dataset[:,-1]\n"
   ]
  },
  {
   "cell_type": "code",
   "execution_count": 3,
   "id": "fdd3186e",
   "metadata": {},
   "outputs": [],
   "source": [
    "min_max_scaler = preprocessing.MinMaxScaler()\n",
    "X_scale = min_max_scaler.fit_transform(X)"
   ]
  },
  {
   "cell_type": "code",
   "execution_count": 4,
   "id": "89e5eaf5",
   "metadata": {},
   "outputs": [],
   "source": [
    "X_train, X_val_and_test, Y_train, Y_val_and_test = train_test_split(X_scale, Y, test_size=0.3)\n",
    "\n",
    "X_val, X_test, Y_val, Y_test = train_test_split(X_val_and_test, Y_val_and_test, test_size=0.5)\n"
   ]
  },
  {
   "cell_type": "markdown",
   "id": "dc3682f4",
   "metadata": {},
   "source": [
    "### Blog NN "
   ]
  },
  {
   "cell_type": "code",
   "execution_count": 5,
   "id": "335670e4",
   "metadata": {
    "scrolled": true
   },
   "outputs": [],
   "source": [
    "from keras.models import Sequential\n",
    "from keras.layers import Dense"
   ]
  },
  {
   "cell_type": "markdown",
   "id": "ce50a6a7",
   "metadata": {},
   "source": [
    "#### Define architecture"
   ]
  },
  {
   "cell_type": "code",
   "execution_count": 6,
   "id": "d183767c",
   "metadata": {},
   "outputs": [
    {
     "name": "stdout",
     "output_type": "stream",
     "text": [
      "Epoch 1/100\n",
      "32/32 [==============================] - 1s 15ms/step - loss: 0.7005 - accuracy: 0.4912 - precision: 0.4762 - recall: 0.0193 - val_loss: 0.6887 - val_accuracy: 0.5434 - val_precision: 0.3684 - val_recall: 0.0737\n",
      "Epoch 2/100\n",
      "32/32 [==============================] - 0s 2ms/step - loss: 0.6858 - accuracy: 0.6027 - precision: 0.7132 - recall: 0.3642 - val_loss: 0.6828 - val_accuracy: 0.5936 - val_precision: 0.5349 - val_recall: 0.4842\n",
      "Epoch 3/100\n",
      "32/32 [==============================] - 0s 2ms/step - loss: 0.6753 - accuracy: 0.6429 - precision: 0.6667 - recall: 0.5934 - val_loss: 0.6780 - val_accuracy: 0.6347 - val_precision: 0.5664 - val_recall: 0.6737\n",
      "Epoch 4/100\n",
      "32/32 [==============================] - 0s 2ms/step - loss: 0.6667 - accuracy: 0.6791 - precision: 0.6462 - recall: 0.8131 - val_loss: 0.6722 - val_accuracy: 0.6393 - val_precision: 0.5597 - val_recall: 0.7895\n",
      "Epoch 5/100\n",
      "32/32 [==============================] - 0s 2ms/step - loss: 0.6584 - accuracy: 0.7025 - precision: 0.6529 - recall: 0.8844 - val_loss: 0.6663 - val_accuracy: 0.6667 - val_precision: 0.5733 - val_recall: 0.9053\n",
      "Epoch 6/100\n",
      "32/32 [==============================] - 0s 2ms/step - loss: 0.6505 - accuracy: 0.7006 - precision: 0.6385 - recall: 0.9461 - val_loss: 0.6595 - val_accuracy: 0.6895 - val_precision: 0.5882 - val_recall: 0.9474\n",
      "Epoch 7/100\n",
      "32/32 [==============================] - 0s 2ms/step - loss: 0.6428 - accuracy: 0.7329 - precision: 0.6662 - recall: 0.9499 - val_loss: 0.6529 - val_accuracy: 0.7169 - val_precision: 0.6107 - val_recall: 0.9579\n",
      "Epoch 8/100\n",
      "32/32 [==============================] - 0s 2ms/step - loss: 0.6350 - accuracy: 0.7407 - precision: 0.6702 - recall: 0.9634 - val_loss: 0.6445 - val_accuracy: 0.7397 - val_precision: 0.6319 - val_recall: 0.9579\n",
      "Epoch 9/100\n",
      "32/32 [==============================] - 0s 2ms/step - loss: 0.6271 - accuracy: 0.7710 - precision: 0.7016 - recall: 0.9557 - val_loss: 0.6363 - val_accuracy: 0.7443 - val_precision: 0.6383 - val_recall: 0.9474\n",
      "Epoch 10/100\n",
      "32/32 [==============================] - 0s 2ms/step - loss: 0.6191 - accuracy: 0.7808 - precision: 0.7122 - recall: 0.9538 - val_loss: 0.6281 - val_accuracy: 0.7580 - val_precision: 0.6544 - val_recall: 0.9368\n",
      "Epoch 11/100\n",
      "32/32 [==============================] - 0s 2ms/step - loss: 0.6112 - accuracy: 0.7994 - precision: 0.7336 - recall: 0.9499 - val_loss: 0.6209 - val_accuracy: 0.7626 - val_precision: 0.6593 - val_recall: 0.9368\n",
      "Epoch 12/100\n",
      "32/32 [==============================] - 0s 2ms/step - loss: 0.6035 - accuracy: 0.7955 - precision: 0.7293 - recall: 0.9499 - val_loss: 0.6130 - val_accuracy: 0.7717 - val_precision: 0.6692 - val_recall: 0.9368\n",
      "Epoch 13/100\n",
      "32/32 [==============================] - 0s 2ms/step - loss: 0.5958 - accuracy: 0.8102 - precision: 0.7466 - recall: 0.9480 - val_loss: 0.6052 - val_accuracy: 0.7763 - val_precision: 0.6742 - val_recall: 0.9368\n",
      "Epoch 14/100\n",
      "32/32 [==============================] - 0s 3ms/step - loss: 0.5875 - accuracy: 0.8082 - precision: 0.7429 - recall: 0.9518 - val_loss: 0.5959 - val_accuracy: 0.7900 - val_precision: 0.6992 - val_recall: 0.9053\n",
      "Epoch 15/100\n",
      "32/32 [==============================] - 0s 2ms/step - loss: 0.5791 - accuracy: 0.8190 - precision: 0.7626 - recall: 0.9345 - val_loss: 0.5879 - val_accuracy: 0.7945 - val_precision: 0.7016 - val_recall: 0.9158\n",
      "Epoch 16/100\n",
      "32/32 [==============================] - 0s 3ms/step - loss: 0.5703 - accuracy: 0.8190 - precision: 0.7601 - recall: 0.9403 - val_loss: 0.5784 - val_accuracy: 0.8082 - val_precision: 0.7227 - val_recall: 0.9053\n",
      "Epoch 17/100\n",
      "32/32 [==============================] - 0s 2ms/step - loss: 0.5614 - accuracy: 0.8268 - precision: 0.7732 - recall: 0.9326 - val_loss: 0.5697 - val_accuracy: 0.8128 - val_precision: 0.7250 - val_recall: 0.9158\n",
      "Epoch 18/100\n",
      "32/32 [==============================] - 0s 2ms/step - loss: 0.5527 - accuracy: 0.8268 - precision: 0.7732 - recall: 0.9326 - val_loss: 0.5604 - val_accuracy: 0.8174 - val_precision: 0.7391 - val_recall: 0.8947\n",
      "Epoch 19/100\n",
      "32/32 [==============================] - 0s 2ms/step - loss: 0.5437 - accuracy: 0.8346 - precision: 0.7841 - recall: 0.9306 - val_loss: 0.5509 - val_accuracy: 0.8174 - val_precision: 0.7434 - val_recall: 0.8842\n",
      "Epoch 20/100\n",
      "32/32 [==============================] - 0s 2ms/step - loss: 0.5344 - accuracy: 0.8327 - precision: 0.7825 - recall: 0.9287 - val_loss: 0.5410 - val_accuracy: 0.8265 - val_precision: 0.7568 - val_recall: 0.8842\n",
      "Epoch 21/100\n",
      "32/32 [==============================] - 0s 2ms/step - loss: 0.5254 - accuracy: 0.8434 - precision: 0.7977 - recall: 0.9268 - val_loss: 0.5319 - val_accuracy: 0.8265 - val_precision: 0.7568 - val_recall: 0.8842\n",
      "Epoch 22/100\n",
      "32/32 [==============================] - 0s 2ms/step - loss: 0.5160 - accuracy: 0.8395 - precision: 0.7963 - recall: 0.9191 - val_loss: 0.5230 - val_accuracy: 0.8311 - val_precision: 0.7589 - val_recall: 0.8947\n",
      "Epoch 23/100\n",
      "32/32 [==============================] - 0s 2ms/step - loss: 0.5069 - accuracy: 0.8464 - precision: 0.8027 - recall: 0.9249 - val_loss: 0.5139 - val_accuracy: 0.8356 - val_precision: 0.7658 - val_recall: 0.8947\n",
      "Epoch 24/100\n",
      "32/32 [==============================] - 0s 2ms/step - loss: 0.4977 - accuracy: 0.8444 - precision: 0.8010 - recall: 0.9229 - val_loss: 0.5027 - val_accuracy: 0.8311 - val_precision: 0.7636 - val_recall: 0.8842\n",
      "Epoch 25/100\n",
      "32/32 [==============================] - 0s 2ms/step - loss: 0.4886 - accuracy: 0.8454 - precision: 0.8044 - recall: 0.9191 - val_loss: 0.4927 - val_accuracy: 0.8311 - val_precision: 0.7685 - val_recall: 0.8737\n",
      "Epoch 26/100\n",
      "32/32 [==============================] - 0s 2ms/step - loss: 0.4796 - accuracy: 0.8542 - precision: 0.8136 - recall: 0.9249 - val_loss: 0.4826 - val_accuracy: 0.8447 - val_precision: 0.7905 - val_recall: 0.8737\n",
      "Epoch 27/100\n",
      "32/32 [==============================] - 0s 2ms/step - loss: 0.4706 - accuracy: 0.8493 - precision: 0.8141 - recall: 0.9114 - val_loss: 0.4747 - val_accuracy: 0.8356 - val_precision: 0.7757 - val_recall: 0.8737\n",
      "Epoch 28/100\n",
      "32/32 [==============================] - 0s 2ms/step - loss: 0.4616 - accuracy: 0.8532 - precision: 0.8132 - recall: 0.9229 - val_loss: 0.4644 - val_accuracy: 0.8539 - val_precision: 0.8058 - val_recall: 0.8737\n",
      "Epoch 29/100\n",
      "32/32 [==============================] - 0s 2ms/step - loss: 0.4530 - accuracy: 0.8611 - precision: 0.8325 - recall: 0.9094 - val_loss: 0.4577 - val_accuracy: 0.8493 - val_precision: 0.7870 - val_recall: 0.8947\n",
      "Epoch 30/100\n",
      "32/32 [==============================] - 0s 2ms/step - loss: 0.4448 - accuracy: 0.8571 - precision: 0.8221 - recall: 0.9171 - val_loss: 0.4482 - val_accuracy: 0.8584 - val_precision: 0.8077 - val_recall: 0.8842\n",
      "Epoch 31/100\n",
      "32/32 [==============================] - 0s 2ms/step - loss: 0.4366 - accuracy: 0.8640 - precision: 0.8299 - recall: 0.9210 - val_loss: 0.4398 - val_accuracy: 0.8630 - val_precision: 0.8155 - val_recall: 0.8842\n",
      "Epoch 32/100\n",
      "32/32 [==============================] - 0s 2ms/step - loss: 0.4287 - accuracy: 0.8650 - precision: 0.8348 - recall: 0.9152 - val_loss: 0.4324 - val_accuracy: 0.8676 - val_precision: 0.8173 - val_recall: 0.8947\n",
      "Epoch 33/100\n",
      "32/32 [==============================] - 0s 2ms/step - loss: 0.4212 - accuracy: 0.8630 - precision: 0.8307 - recall: 0.9171 - val_loss: 0.4238 - val_accuracy: 0.8676 - val_precision: 0.8235 - val_recall: 0.8842\n",
      "Epoch 34/100\n",
      "32/32 [==============================] - 0s 2ms/step - loss: 0.4138 - accuracy: 0.8659 - precision: 0.8351 - recall: 0.9171 - val_loss: 0.4160 - val_accuracy: 0.8676 - val_precision: 0.8235 - val_recall: 0.8842\n",
      "Epoch 35/100\n",
      "32/32 [==============================] - 0s 2ms/step - loss: 0.4068 - accuracy: 0.8659 - precision: 0.8375 - recall: 0.9133 - val_loss: 0.4083 - val_accuracy: 0.8676 - val_precision: 0.8235 - val_recall: 0.8842\n",
      "Epoch 36/100\n",
      "32/32 [==============================] - 0s 2ms/step - loss: 0.3999 - accuracy: 0.8640 - precision: 0.8357 - recall: 0.9114 - val_loss: 0.4011 - val_accuracy: 0.8676 - val_precision: 0.8235 - val_recall: 0.8842\n",
      "Epoch 37/100\n",
      "32/32 [==============================] - 0s 2ms/step - loss: 0.3936 - accuracy: 0.8689 - precision: 0.8419 - recall: 0.9133 - val_loss: 0.3939 - val_accuracy: 0.8721 - val_precision: 0.8384 - val_recall: 0.8737\n"
     ]
    },
    {
     "name": "stdout",
     "output_type": "stream",
     "text": [
      "Epoch 38/100\n",
      "32/32 [==============================] - 0s 2ms/step - loss: 0.3873 - accuracy: 0.8659 - precision: 0.8399 - recall: 0.9094 - val_loss: 0.3872 - val_accuracy: 0.8767 - val_precision: 0.8469 - val_recall: 0.8737\n",
      "Epoch 39/100\n",
      "32/32 [==============================] - 0s 2ms/step - loss: 0.3814 - accuracy: 0.8659 - precision: 0.8399 - recall: 0.9094 - val_loss: 0.3806 - val_accuracy: 0.8767 - val_precision: 0.8617 - val_recall: 0.8526\n",
      "Epoch 40/100\n",
      "32/32 [==============================] - 0s 2ms/step - loss: 0.3758 - accuracy: 0.8669 - precision: 0.8450 - recall: 0.9037 - val_loss: 0.3756 - val_accuracy: 0.8813 - val_precision: 0.8557 - val_recall: 0.8737\n",
      "Epoch 41/100\n",
      "32/32 [==============================] - 0s 2ms/step - loss: 0.3702 - accuracy: 0.8650 - precision: 0.8420 - recall: 0.9037 - val_loss: 0.3708 - val_accuracy: 0.8767 - val_precision: 0.8400 - val_recall: 0.8842\n",
      "Epoch 42/100\n",
      "32/32 [==============================] - 0s 2ms/step - loss: 0.3653 - accuracy: 0.8689 - precision: 0.8456 - recall: 0.9075 - val_loss: 0.3658 - val_accuracy: 0.8767 - val_precision: 0.8400 - val_recall: 0.8842\n",
      "Epoch 43/100\n",
      "32/32 [==============================] - 0s 2ms/step - loss: 0.3610 - accuracy: 0.8699 - precision: 0.8459 - recall: 0.9094 - val_loss: 0.3594 - val_accuracy: 0.8858 - val_precision: 0.8723 - val_recall: 0.8632\n",
      "Epoch 44/100\n",
      "32/32 [==============================] - 0s 2ms/step - loss: 0.3559 - accuracy: 0.8708 - precision: 0.8537 - recall: 0.8998 - val_loss: 0.3567 - val_accuracy: 0.8767 - val_precision: 0.8400 - val_recall: 0.8842\n",
      "Epoch 45/100\n",
      "32/32 [==============================] - 0s 2ms/step - loss: 0.3513 - accuracy: 0.8738 - precision: 0.8520 - recall: 0.9094 - val_loss: 0.3508 - val_accuracy: 0.8813 - val_precision: 0.8557 - val_recall: 0.8737\n",
      "Epoch 46/100\n",
      "32/32 [==============================] - 0s 2ms/step - loss: 0.3472 - accuracy: 0.8748 - precision: 0.8574 - recall: 0.9037 - val_loss: 0.3462 - val_accuracy: 0.8767 - val_precision: 0.8617 - val_recall: 0.8526\n",
      "Epoch 47/100\n",
      "32/32 [==============================] - 0s 2ms/step - loss: 0.3433 - accuracy: 0.8738 - precision: 0.8611 - recall: 0.8960 - val_loss: 0.3429 - val_accuracy: 0.8767 - val_precision: 0.8542 - val_recall: 0.8632\n",
      "Epoch 48/100\n",
      "32/32 [==============================] - 0s 2ms/step - loss: 0.3398 - accuracy: 0.8748 - precision: 0.8523 - recall: 0.9114 - val_loss: 0.3374 - val_accuracy: 0.8813 - val_precision: 0.8710 - val_recall: 0.8526\n",
      "Epoch 49/100\n",
      "32/32 [==============================] - 0s 2ms/step - loss: 0.3367 - accuracy: 0.8806 - precision: 0.8738 - recall: 0.8940 - val_loss: 0.3368 - val_accuracy: 0.8904 - val_precision: 0.8586 - val_recall: 0.8947\n",
      "Epoch 50/100\n",
      "32/32 [==============================] - 0s 2ms/step - loss: 0.3329 - accuracy: 0.8787 - precision: 0.8624 - recall: 0.9056 - val_loss: 0.3317 - val_accuracy: 0.8813 - val_precision: 0.8632 - val_recall: 0.8632\n",
      "Epoch 51/100\n",
      "32/32 [==============================] - 0s 2ms/step - loss: 0.3299 - accuracy: 0.8767 - precision: 0.8659 - recall: 0.8960 - val_loss: 0.3286 - val_accuracy: 0.8813 - val_precision: 0.8632 - val_recall: 0.8632\n",
      "Epoch 52/100\n",
      "32/32 [==============================] - 0s 2ms/step - loss: 0.3273 - accuracy: 0.8787 - precision: 0.8678 - recall: 0.8979 - val_loss: 0.3260 - val_accuracy: 0.8813 - val_precision: 0.8557 - val_recall: 0.8737\n",
      "Epoch 53/100\n",
      "32/32 [==============================] - 0s 2ms/step - loss: 0.3239 - accuracy: 0.8816 - precision: 0.8727 - recall: 0.8979 - val_loss: 0.3225 - val_accuracy: 0.8858 - val_precision: 0.8646 - val_recall: 0.8737\n",
      "Epoch 54/100\n",
      "32/32 [==============================] - 0s 2ms/step - loss: 0.3212 - accuracy: 0.8816 - precision: 0.8713 - recall: 0.8998 - val_loss: 0.3194 - val_accuracy: 0.8813 - val_precision: 0.8632 - val_recall: 0.8632\n",
      "Epoch 55/100\n",
      "32/32 [==============================] - 0s 2ms/step - loss: 0.3186 - accuracy: 0.8806 - precision: 0.8696 - recall: 0.8998 - val_loss: 0.3174 - val_accuracy: 0.8858 - val_precision: 0.8646 - val_recall: 0.8737\n",
      "Epoch 56/100\n",
      "32/32 [==============================] - 0s 2ms/step - loss: 0.3164 - accuracy: 0.8826 - precision: 0.8715 - recall: 0.9017 - val_loss: 0.3140 - val_accuracy: 0.8858 - val_precision: 0.8804 - val_recall: 0.8526\n",
      "Epoch 57/100\n",
      "32/32 [==============================] - 0s 2ms/step - loss: 0.3138 - accuracy: 0.8806 - precision: 0.8710 - recall: 0.8979 - val_loss: 0.3130 - val_accuracy: 0.8858 - val_precision: 0.8646 - val_recall: 0.8737\n",
      "Epoch 58/100\n",
      "32/32 [==============================] - 0s 2ms/step - loss: 0.3122 - accuracy: 0.8816 - precision: 0.8713 - recall: 0.8998 - val_loss: 0.3111 - val_accuracy: 0.8904 - val_precision: 0.8660 - val_recall: 0.8842\n",
      "Epoch 59/100\n",
      "32/32 [==============================] - 0s 2ms/step - loss: 0.3105 - accuracy: 0.8796 - precision: 0.8708 - recall: 0.8960 - val_loss: 0.3087 - val_accuracy: 0.8904 - val_precision: 0.8660 - val_recall: 0.8842\n",
      "Epoch 60/100\n",
      "32/32 [==============================] - 0s 2ms/step - loss: 0.3080 - accuracy: 0.8777 - precision: 0.8689 - recall: 0.8940 - val_loss: 0.3067 - val_accuracy: 0.8950 - val_precision: 0.8750 - val_recall: 0.8842\n",
      "Epoch 61/100\n",
      "32/32 [==============================] - 0s 2ms/step - loss: 0.3060 - accuracy: 0.8816 - precision: 0.8713 - recall: 0.8998 - val_loss: 0.3053 - val_accuracy: 0.8950 - val_precision: 0.8750 - val_recall: 0.8842\n",
      "Epoch 62/100\n",
      "32/32 [==============================] - 0s 2ms/step - loss: 0.3043 - accuracy: 0.8796 - precision: 0.8722 - recall: 0.8940 - val_loss: 0.3029 - val_accuracy: 0.8995 - val_precision: 0.8925 - val_recall: 0.8737\n",
      "Epoch 63/100\n",
      "32/32 [==============================] - 0s 2ms/step - loss: 0.3023 - accuracy: 0.8767 - precision: 0.8687 - recall: 0.8921 - val_loss: 0.3014 - val_accuracy: 0.8995 - val_precision: 0.8842 - val_recall: 0.8842\n",
      "Epoch 64/100\n",
      "32/32 [==============================] - 0s 2ms/step - loss: 0.3005 - accuracy: 0.8796 - precision: 0.8764 - recall: 0.8882 - val_loss: 0.3015 - val_accuracy: 0.8950 - val_precision: 0.8750 - val_recall: 0.8842\n",
      "Epoch 65/100\n",
      "32/32 [==============================] - 0s 2ms/step - loss: 0.2995 - accuracy: 0.8767 - precision: 0.8646 - recall: 0.8979 - val_loss: 0.2975 - val_accuracy: 0.8995 - val_precision: 0.8925 - val_recall: 0.8737\n",
      "Epoch 66/100\n",
      "32/32 [==============================] - 0s 2ms/step - loss: 0.2977 - accuracy: 0.8777 - precision: 0.8717 - recall: 0.8902 - val_loss: 0.2964 - val_accuracy: 0.8995 - val_precision: 0.8925 - val_recall: 0.8737\n",
      "Epoch 67/100\n",
      "32/32 [==============================] - 0s 2ms/step - loss: 0.2959 - accuracy: 0.8787 - precision: 0.8705 - recall: 0.8940 - val_loss: 0.2948 - val_accuracy: 0.8995 - val_precision: 0.8925 - val_recall: 0.8737\n",
      "Epoch 68/100\n",
      "32/32 [==============================] - 0s 2ms/step - loss: 0.2953 - accuracy: 0.8787 - precision: 0.8733 - recall: 0.8902 - val_loss: 0.2947 - val_accuracy: 0.9041 - val_precision: 0.8936 - val_recall: 0.8842\n",
      "Epoch 69/100\n",
      "32/32 [==============================] - 0s 2ms/step - loss: 0.2933 - accuracy: 0.8787 - precision: 0.8692 - recall: 0.8960 - val_loss: 0.2924 - val_accuracy: 0.8995 - val_precision: 0.8925 - val_recall: 0.8737\n",
      "Epoch 70/100\n",
      "32/32 [==============================] - 0s 3ms/step - loss: 0.2923 - accuracy: 0.8757 - precision: 0.8726 - recall: 0.8844 - val_loss: 0.2912 - val_accuracy: 0.9087 - val_precision: 0.9121 - val_recall: 0.8737\n",
      "Epoch 71/100\n",
      "32/32 [==============================] - 0s 2ms/step - loss: 0.2911 - accuracy: 0.8796 - precision: 0.8722 - recall: 0.8940 - val_loss: 0.2901 - val_accuracy: 0.9087 - val_precision: 0.9121 - val_recall: 0.8737\n",
      "Epoch 72/100\n",
      "32/32 [==============================] - 0s 2ms/step - loss: 0.2895 - accuracy: 0.8757 - precision: 0.8726 - recall: 0.8844 - val_loss: 0.2916 - val_accuracy: 0.9041 - val_precision: 0.8776 - val_recall: 0.9053\n",
      "Epoch 73/100\n",
      "32/32 [==============================] - 0s 2ms/step - loss: 0.2890 - accuracy: 0.8796 - precision: 0.8722 - recall: 0.8940 - val_loss: 0.2882 - val_accuracy: 0.8995 - val_precision: 0.8925 - val_recall: 0.8737\n",
      "Epoch 74/100\n"
     ]
    },
    {
     "name": "stdout",
     "output_type": "stream",
     "text": [
      "32/32 [==============================] - 0s 2ms/step - loss: 0.2869 - accuracy: 0.8767 - precision: 0.8715 - recall: 0.8882 - val_loss: 0.2878 - val_accuracy: 0.9041 - val_precision: 0.8936 - val_recall: 0.8842\n",
      "Epoch 75/100\n",
      "32/32 [==============================] - 0s 2ms/step - loss: 0.2861 - accuracy: 0.8767 - precision: 0.8701 - recall: 0.8902 - val_loss: 0.2864 - val_accuracy: 0.9041 - val_precision: 0.8936 - val_recall: 0.8842\n",
      "Epoch 76/100\n",
      "32/32 [==============================] - 0s 2ms/step - loss: 0.2848 - accuracy: 0.8787 - precision: 0.8692 - recall: 0.8960 - val_loss: 0.2855 - val_accuracy: 0.9132 - val_precision: 0.9222 - val_recall: 0.8737\n",
      "Epoch 77/100\n",
      "32/32 [==============================] - 0s 2ms/step - loss: 0.2848 - accuracy: 0.8796 - precision: 0.8779 - recall: 0.8863 - val_loss: 0.2850 - val_accuracy: 0.9087 - val_precision: 0.8947 - val_recall: 0.8947\n",
      "Epoch 78/100\n",
      "32/32 [==============================] - 0s 2ms/step - loss: 0.2828 - accuracy: 0.8787 - precision: 0.8762 - recall: 0.8863 - val_loss: 0.2849 - val_accuracy: 0.9087 - val_precision: 0.8947 - val_recall: 0.8947\n",
      "Epoch 79/100\n",
      "32/32 [==============================] - 0s 2ms/step - loss: 0.2825 - accuracy: 0.8767 - precision: 0.8687 - recall: 0.8921 - val_loss: 0.2833 - val_accuracy: 0.9132 - val_precision: 0.9043 - val_recall: 0.8947\n",
      "Epoch 80/100\n",
      "32/32 [==============================] - 0s 2ms/step - loss: 0.2812 - accuracy: 0.8767 - precision: 0.8729 - recall: 0.8863 - val_loss: 0.2832 - val_accuracy: 0.9087 - val_precision: 0.8947 - val_recall: 0.8947\n",
      "Epoch 81/100\n",
      "32/32 [==============================] - 0s 2ms/step - loss: 0.2807 - accuracy: 0.8777 - precision: 0.8703 - recall: 0.8921 - val_loss: 0.2814 - val_accuracy: 0.9132 - val_precision: 0.9222 - val_recall: 0.8737\n",
      "Epoch 82/100\n",
      "32/32 [==============================] - 0s 2ms/step - loss: 0.2793 - accuracy: 0.8806 - precision: 0.8781 - recall: 0.8882 - val_loss: 0.2818 - val_accuracy: 0.9087 - val_precision: 0.8947 - val_recall: 0.8947\n",
      "Epoch 83/100\n",
      "32/32 [==============================] - 0s 2ms/step - loss: 0.2782 - accuracy: 0.8777 - precision: 0.8731 - recall: 0.8882 - val_loss: 0.2817 - val_accuracy: 0.9132 - val_precision: 0.8958 - val_recall: 0.9053\n",
      "Epoch 84/100\n",
      "32/32 [==============================] - 0s 2ms/step - loss: 0.2779 - accuracy: 0.8826 - precision: 0.8786 - recall: 0.8921 - val_loss: 0.2808 - val_accuracy: 0.9132 - val_precision: 0.8958 - val_recall: 0.9053\n",
      "Epoch 85/100\n",
      "32/32 [==============================] - 0s 2ms/step - loss: 0.2765 - accuracy: 0.8787 - precision: 0.8705 - recall: 0.8940 - val_loss: 0.2790 - val_accuracy: 0.9132 - val_precision: 0.9222 - val_recall: 0.8737\n",
      "Epoch 86/100\n",
      "32/32 [==============================] - 0s 2ms/step - loss: 0.2759 - accuracy: 0.8806 - precision: 0.8795 - recall: 0.8863 - val_loss: 0.2787 - val_accuracy: 0.9224 - val_precision: 0.9239 - val_recall: 0.8947\n",
      "Epoch 87/100\n",
      "32/32 [==============================] - 0s 2ms/step - loss: 0.2753 - accuracy: 0.8806 - precision: 0.8752 - recall: 0.8921 - val_loss: 0.2778 - val_accuracy: 0.9178 - val_precision: 0.9231 - val_recall: 0.8842\n",
      "Epoch 88/100\n",
      "32/32 [==============================] - 0s 2ms/step - loss: 0.2744 - accuracy: 0.8826 - precision: 0.8800 - recall: 0.8902 - val_loss: 0.2773 - val_accuracy: 0.9224 - val_precision: 0.9239 - val_recall: 0.8947\n",
      "Epoch 89/100\n",
      "32/32 [==============================] - 0s 2ms/step - loss: 0.2740 - accuracy: 0.8796 - precision: 0.8779 - recall: 0.8863 - val_loss: 0.2778 - val_accuracy: 0.9178 - val_precision: 0.9053 - val_recall: 0.9053\n",
      "Epoch 90/100\n",
      "32/32 [==============================] - 0s 2ms/step - loss: 0.2728 - accuracy: 0.8806 - precision: 0.8767 - recall: 0.8902 - val_loss: 0.2773 - val_accuracy: 0.9178 - val_precision: 0.9053 - val_recall: 0.9053\n",
      "Epoch 91/100\n",
      "32/32 [==============================] - 0s 2ms/step - loss: 0.2727 - accuracy: 0.8816 - precision: 0.8755 - recall: 0.8940 - val_loss: 0.2766 - val_accuracy: 0.9224 - val_precision: 0.9149 - val_recall: 0.9053\n",
      "Epoch 92/100\n",
      "32/32 [==============================] - 0s 2ms/step - loss: 0.2716 - accuracy: 0.8826 - precision: 0.8800 - recall: 0.8902 - val_loss: 0.2761 - val_accuracy: 0.9224 - val_precision: 0.9149 - val_recall: 0.9053\n",
      "Epoch 93/100\n",
      "32/32 [==============================] - 0s 2ms/step - loss: 0.2707 - accuracy: 0.8845 - precision: 0.8805 - recall: 0.8940 - val_loss: 0.2758 - val_accuracy: 0.9224 - val_precision: 0.9149 - val_recall: 0.9053\n",
      "Epoch 94/100\n",
      "32/32 [==============================] - 0s 2ms/step - loss: 0.2705 - accuracy: 0.8816 - precision: 0.8769 - recall: 0.8921 - val_loss: 0.2744 - val_accuracy: 0.9224 - val_precision: 0.9239 - val_recall: 0.8947\n",
      "Epoch 95/100\n",
      "32/32 [==============================] - 0s 2ms/step - loss: 0.2693 - accuracy: 0.8845 - precision: 0.8819 - recall: 0.8921 - val_loss: 0.2741 - val_accuracy: 0.9224 - val_precision: 0.9239 - val_recall: 0.8947\n",
      "Epoch 96/100\n",
      "32/32 [==============================] - 0s 2ms/step - loss: 0.2684 - accuracy: 0.8806 - precision: 0.8795 - recall: 0.8863 - val_loss: 0.2757 - val_accuracy: 0.9132 - val_precision: 0.8958 - val_recall: 0.9053\n",
      "Epoch 97/100\n",
      "32/32 [==============================] - 0s 2ms/step - loss: 0.2689 - accuracy: 0.8806 - precision: 0.8738 - recall: 0.8940 - val_loss: 0.2738 - val_accuracy: 0.9269 - val_precision: 0.9247 - val_recall: 0.9053\n",
      "Epoch 98/100\n",
      "32/32 [==============================] - 0s 2ms/step - loss: 0.2677 - accuracy: 0.8816 - precision: 0.8769 - recall: 0.8921 - val_loss: 0.2727 - val_accuracy: 0.9178 - val_precision: 0.9231 - val_recall: 0.8842\n",
      "Epoch 99/100\n",
      "32/32 [==============================] - 0s 2ms/step - loss: 0.2654 - accuracy: 0.8787 - precision: 0.8748 - recall: 0.8882 - val_loss: 0.2733 - val_accuracy: 0.9132 - val_precision: 0.9222 - val_recall: 0.8737\n",
      "Epoch 100/100\n",
      "32/32 [==============================] - 0s 2ms/step - loss: 0.2664 - accuracy: 0.8826 - precision: 0.8815 - recall: 0.8882 - val_loss: 0.2724 - val_accuracy: 0.9269 - val_precision: 0.9247 - val_recall: 0.9053\n"
     ]
    }
   ],
   "source": [
    "model = Sequential([\n",
    "    Dense(32, activation='relu', input_shape=(10,)),\n",
    "    Dense(32, activation='relu'),\n",
    "    Dense(1, activation='sigmoid'),\n",
    "])\n",
    "\n",
    "model.compile(optimizer='sgd',\n",
    "              loss='binary_crossentropy',\n",
    "              metrics=['accuracy', 'Precision', 'Recall'])\n",
    "\n",
    "\n",
    "hist = model.fit(X_train, Y_train,\n",
    "          batch_size=32, epochs=100,\n",
    "          validation_data=(X_val, Y_val))"
   ]
  },
  {
   "cell_type": "code",
   "execution_count": 7,
   "id": "4227c118",
   "metadata": {},
   "outputs": [
    {
     "name": "stdout",
     "output_type": "stream",
     "text": [
      "7/7 [==============================] - 0s 2ms/step - loss: 0.3024 - accuracy: 0.8858 - precision: 0.8678 - recall: 0.9211\n"
     ]
    }
   ],
   "source": [
    "evaluate_results = model.evaluate(X_test, Y_test)"
   ]
  },
  {
   "cell_type": "markdown",
   "id": "69820405",
   "metadata": {},
   "source": [
    "### Loss visualization"
   ]
  },
  {
   "cell_type": "code",
   "execution_count": 8,
   "id": "5586af99",
   "metadata": {},
   "outputs": [
    {
     "data": {
      "image/png": "[encoded data removed]",
      "text/plain": [
       "<Figure size 432x288 with 1 Axes>"
      ]
     },
     "metadata": {
      "needs_background": "light"
     },
     "output_type": "display_data"
    }
   ],
   "source": [
    "plt.plot(hist.history['loss'])\n",
    "plt.plot(hist.history['val_loss'])\n",
    "plt.title('Model loss')\n",
    "plt.ylabel('Loss')\n",
    "plt.xlabel('Epoch')\n",
    "plt.legend(['Train', 'Val'], loc='upper right')\n",
    "plt.show()"
   ]
  },
  {
   "cell_type": "markdown",
   "id": "0886f842",
   "metadata": {},
   "source": [
    "### Accuracy visualization"
   ]
  },
  {
   "cell_type": "code",
   "execution_count": 9,
   "id": "c8d7ef98",
   "metadata": {},
   "outputs": [
    {
     "data": {
      "image/png": "[encoded data removed]",
      "text/plain": [
       "<Figure size 432x288 with 1 Axes>"
      ]
     },
     "metadata": {
      "needs_background": "light"
     },
     "output_type": "display_data"
    }
   ],
   "source": [
    "plt.plot(hist.history['accuracy'])\n",
    "plt.plot(hist.history['val_accuracy'])\n",
    "plt.title('Model accuracy')\n",
    "plt.ylabel('Accuracy')\n",
    "plt.xlabel('Epoch')\n",
    "plt.legend(['Train', 'Val'], loc='lower right')\n",
    "plt.show()"
   ]
  },
  {
   "cell_type": "markdown",
   "id": "417529e4",
   "metadata": {},
   "source": [
    "## Hyperparameter Tuning"
   ]
  },
  {
   "cell_type": "code",
   "execution_count": 19,
   "id": "ef5eee1f",
   "metadata": {},
   "outputs": [],
   "source": [
    "def get_mlp_model(hiddenLayerOne=32, hiddenLayerTwo=32):\n",
    "\n",
    "    model = Sequential()\n",
    "    model.add(Dense(hiddenLayerOne, activation=\"relu\", input_shape=(10,)))\n",
    "    model.add(Dense(hiddenLayerTwo, activation=\"relu\"))\n",
    "    model.add(Dense(1, activation=\"sigmoid\"))\n",
    "    \n",
    "    # compile the model\n",
    "    model.compile(optimizer='sgd',\n",
    "              loss='binary_crossentropy',\n",
    "              metrics=['accuracy', 'Precision', 'Recall'])\n",
    "    # return compiled model\n",
    "    return model"
   ]
  },
  {
   "cell_type": "code",
   "execution_count": 20,
   "id": "8863c846",
   "metadata": {},
   "outputs": [],
   "source": [
    "from scikeras.wrappers import KerasClassifier\n",
    "\n",
    "model_2 = KerasClassifier(get_mlp_model, hiddenLayerOne = 32, hiddenLayerTwo = 32, verbose=0)\n",
    "\n",
    "hiddenLayerOne = [2, 4, 8,16,32,64,128]\n",
    "hiddenLayerTwo = [2, 4, 8,16,32,64,128]\n",
    "batchSize = [4, 8, 16, 32, 64]\n",
    "epochs = [10, 20, 30, 40,50,60,70,80,90,100,110,120,130,140,150,160,170,180,190,200]\n",
    "\n",
    "grid = dict(\n",
    "    hiddenLayerOne=hiddenLayerOne,\n",
    "    hiddenLayerTwo=hiddenLayerTwo,\n",
    "    batch_size=batchSize,\n",
    "    epochs=epochs\n",
    ")"
   ]
  },
  {
   "cell_type": "code",
   "execution_count": 21,
   "id": "4af12158",
   "metadata": {},
   "outputs": [
    {
     "name": "stdout",
     "output_type": "stream",
     "text": [
      "[INFO] best score is 0.90 using {'batch_size': 4, 'epochs': 160, 'hiddenLayerOne': 16, 'hiddenLayerTwo': 64}\n"
     ]
    }
   ],
   "source": [
    "from sklearn.model_selection import GridSearchCV\n",
    "\n",
    "searcher = GridSearchCV(\n",
    "    estimator=model_2,\n",
    "    param_grid=grid,\n",
    "    scoring=\"accuracy\",\n",
    "    cv=3,\n",
    "    n_jobs=-1,\n",
    ")\n",
    "\n",
    "\n",
    "searchResults = searcher.fit(X_train, Y_train)\n",
    "# summarize grid search information\n",
    "bestScore = searchResults.best_score_\n",
    "bestParams = searchResults.best_params_\n",
    "print(\"[INFO] best score is {:.2f} using {}\".format(bestScore, bestParams))"
   ]
  },
  {
   "cell_type": "markdown",
   "id": "45feae38",
   "metadata": {},
   "source": [
    "## Model After Hyperparameter Tuning"
   ]
  },
  {
   "cell_type": "code",
   "execution_count": 23,
   "id": "0fbf2842",
   "metadata": {},
   "outputs": [
    {
     "name": "stdout",
     "output_type": "stream",
     "text": [
      "Epoch 1/160\n",
      "256/256 [==============================] - 1s 3ms/step - loss: 0.6730 - accuracy: 0.5802 - precision: 0.5536 - recall: 0.8960 - val_loss: 0.6636 - val_accuracy: 0.4521 - val_precision: 0.4413 - val_recall: 0.9895\n",
      "Epoch 2/160\n",
      "256/256 [==============================] - 0s 2ms/step - loss: 0.6347 - accuracy: 0.6634 - precision: 0.6038 - recall: 0.9807 - val_loss: 0.6220 - val_accuracy: 0.7215 - val_precision: 0.6104 - val_recall: 0.9895\n",
      "Epoch 3/160\n",
      "256/256 [==============================] - 0s 2ms/step - loss: 0.5889 - accuracy: 0.7828 - precision: 0.7200 - recall: 0.9364 - val_loss: 0.5676 - val_accuracy: 0.8174 - val_precision: 0.7200 - val_recall: 0.9474\n",
      "Epoch 4/160\n",
      "256/256 [==============================] - 0s 2ms/step - loss: 0.5337 - accuracy: 0.8209 - precision: 0.7667 - recall: 0.9306 - val_loss: 0.5109 - val_accuracy: 0.8082 - val_precision: 0.7120 - val_recall: 0.9368\n",
      "Epoch 5/160\n",
      "256/256 [==============================] - 0s 2ms/step - loss: 0.4738 - accuracy: 0.8376 - precision: 0.7917 - recall: 0.9229 - val_loss: 0.4352 - val_accuracy: 0.8813 - val_precision: 0.8286 - val_recall: 0.9158\n",
      "Epoch 6/160\n",
      "256/256 [==============================] - 0s 2ms/step - loss: 0.4216 - accuracy: 0.8483 - precision: 0.8160 - recall: 0.9056 - val_loss: 0.3858 - val_accuracy: 0.9041 - val_precision: 0.8854 - val_recall: 0.8947\n",
      "Epoch 7/160\n",
      "256/256 [==============================] - 0s 2ms/step - loss: 0.3832 - accuracy: 0.8532 - precision: 0.8254 - recall: 0.9017 - val_loss: 0.3524 - val_accuracy: 0.9041 - val_precision: 0.8854 - val_recall: 0.8947\n",
      "Epoch 8/160\n",
      "256/256 [==============================] - 0s 2ms/step - loss: 0.3530 - accuracy: 0.8650 - precision: 0.8483 - recall: 0.8940 - val_loss: 0.3320 - val_accuracy: 0.9041 - val_precision: 0.8776 - val_recall: 0.9053\n",
      "Epoch 9/160\n",
      "256/256 [==============================] - 0s 2ms/step - loss: 0.3380 - accuracy: 0.8611 - precision: 0.8484 - recall: 0.8844 - val_loss: 0.3171 - val_accuracy: 0.9087 - val_precision: 0.8947 - val_recall: 0.8947\n",
      "Epoch 10/160\n",
      "256/256 [==============================] - 0s 2ms/step - loss: 0.3259 - accuracy: 0.8689 - precision: 0.8598 - recall: 0.8863 - val_loss: 0.3203 - val_accuracy: 0.8721 - val_precision: 0.8131 - val_recall: 0.9158\n",
      "Epoch 11/160\n",
      "256/256 [==============================] - 0s 2ms/step - loss: 0.3156 - accuracy: 0.8718 - precision: 0.8606 - recall: 0.8921 - val_loss: 0.3009 - val_accuracy: 0.9132 - val_precision: 0.9130 - val_recall: 0.8842\n",
      "Epoch 12/160\n",
      "256/256 [==============================] - 0s 2ms/step - loss: 0.3084 - accuracy: 0.8699 - precision: 0.8628 - recall: 0.8844 - val_loss: 0.2949 - val_accuracy: 0.9178 - val_precision: 0.9231 - val_recall: 0.8842\n",
      "Epoch 13/160\n",
      "256/256 [==============================] - 0s 2ms/step - loss: 0.3016 - accuracy: 0.8767 - precision: 0.8701 - recall: 0.8902 - val_loss: 0.2905 - val_accuracy: 0.9224 - val_precision: 0.9239 - val_recall: 0.8947\n",
      "Epoch 14/160\n",
      "256/256 [==============================] - 0s 2ms/step - loss: 0.2973 - accuracy: 0.8767 - precision: 0.8701 - recall: 0.8902 - val_loss: 0.2875 - val_accuracy: 0.9224 - val_precision: 0.9239 - val_recall: 0.8947\n",
      "Epoch 15/160\n",
      "256/256 [==============================] - 0s 2ms/step - loss: 0.2930 - accuracy: 0.8708 - precision: 0.8658 - recall: 0.8825 - val_loss: 0.2855 - val_accuracy: 0.9224 - val_precision: 0.9149 - val_recall: 0.9053\n",
      "Epoch 16/160\n",
      "256/256 [==============================] - 0s 2ms/step - loss: 0.2841 - accuracy: 0.8767 - precision: 0.8701 - recall: 0.8902 - val_loss: 0.3305 - val_accuracy: 0.8767 - val_precision: 0.9359 - val_recall: 0.7684\n",
      "Epoch 17/160\n",
      "256/256 [==============================] - 0s 2ms/step - loss: 0.2840 - accuracy: 0.8787 - precision: 0.8719 - recall: 0.8921 - val_loss: 0.2848 - val_accuracy: 0.9132 - val_precision: 0.8800 - val_recall: 0.9263\n",
      "Epoch 18/160\n",
      "256/256 [==============================] - 0s 2ms/step - loss: 0.2727 - accuracy: 0.8875 - precision: 0.8783 - recall: 0.9037 - val_loss: 0.2810 - val_accuracy: 0.9087 - val_precision: 0.9213 - val_recall: 0.8632\n",
      "Epoch 19/160\n",
      "256/256 [==============================] - 0s 2ms/step - loss: 0.2779 - accuracy: 0.8806 - precision: 0.8795 - recall: 0.8863 - val_loss: 0.2924 - val_accuracy: 0.8950 - val_precision: 0.8462 - val_recall: 0.9263\n",
      "Epoch 20/160\n",
      "256/256 [==============================] - 0s 2ms/step - loss: 0.2725 - accuracy: 0.8836 - precision: 0.8788 - recall: 0.8940 - val_loss: 0.2780 - val_accuracy: 0.9178 - val_precision: 0.9326 - val_recall: 0.8737\n",
      "Epoch 21/160\n",
      "256/256 [==============================] - 0s 2ms/step - loss: 0.2750 - accuracy: 0.8845 - precision: 0.8863 - recall: 0.8863 - val_loss: 0.2753 - val_accuracy: 0.9178 - val_precision: 0.9231 - val_recall: 0.8842\n",
      "Epoch 22/160\n",
      "256/256 [==============================] - 0s 2ms/step - loss: 0.2706 - accuracy: 0.8826 - precision: 0.8786 - recall: 0.8921 - val_loss: 0.2752 - val_accuracy: 0.9178 - val_precision: 0.9140 - val_recall: 0.8947\n",
      "Epoch 23/160\n",
      "256/256 [==============================] - 0s 2ms/step - loss: 0.2693 - accuracy: 0.8845 - precision: 0.8819 - recall: 0.8921 - val_loss: 0.2741 - val_accuracy: 0.9178 - val_precision: 0.9231 - val_recall: 0.8842\n",
      "Epoch 24/160\n",
      "256/256 [==============================] - 1s 2ms/step - loss: 0.2631 - accuracy: 0.8796 - precision: 0.8793 - recall: 0.8844 - val_loss: 0.2793 - val_accuracy: 0.9224 - val_precision: 0.8980 - val_recall: 0.9263\n",
      "Epoch 25/160\n",
      "256/256 [==============================] - 0s 2ms/step - loss: 0.2651 - accuracy: 0.8914 - precision: 0.8878 - recall: 0.8998 - val_loss: 0.2752 - val_accuracy: 0.9178 - val_precision: 0.9140 - val_recall: 0.8947\n",
      "Epoch 26/160\n",
      "256/256 [==============================] - 0s 1ms/step - loss: 0.2620 - accuracy: 0.8875 - precision: 0.8885 - recall: 0.8902 - val_loss: 0.2834 - val_accuracy: 0.9087 - val_precision: 0.8713 - val_recall: 0.9263\n",
      "Epoch 27/160\n",
      "256/256 [==============================] - 0s 2ms/step - loss: 0.2623 - accuracy: 0.8845 - precision: 0.8834 - recall: 0.8902 - val_loss: 0.2811 - val_accuracy: 0.9132 - val_precision: 0.8800 - val_recall: 0.9263\n",
      "Epoch 28/160\n",
      "256/256 [==============================] - 0s 1ms/step - loss: 0.2627 - accuracy: 0.8924 - precision: 0.8880 - recall: 0.9017 - val_loss: 0.2742 - val_accuracy: 0.9178 - val_precision: 0.9231 - val_recall: 0.8842\n",
      "Epoch 29/160\n",
      "256/256 [==============================] - 0s 2ms/step - loss: 0.2577 - accuracy: 0.8885 - precision: 0.8887 - recall: 0.8921 - val_loss: 0.2815 - val_accuracy: 0.9087 - val_precision: 0.8713 - val_recall: 0.9263\n",
      "Epoch 30/160\n",
      "256/256 [==============================] - 0s 2ms/step - loss: 0.2595 - accuracy: 0.8933 - precision: 0.8853 - recall: 0.9075 - val_loss: 0.2799 - val_accuracy: 0.9132 - val_precision: 0.8878 - val_recall: 0.9158\n",
      "Epoch 31/160\n",
      "256/256 [==============================] - 0s 2ms/step - loss: 0.2533 - accuracy: 0.8894 - precision: 0.8859 - recall: 0.8979 - val_loss: 0.3012 - val_accuracy: 0.8858 - val_precision: 0.8182 - val_recall: 0.9474\n",
      "Epoch 32/160\n",
      "256/256 [==============================] - 0s 2ms/step - loss: 0.2567 - accuracy: 0.8836 - precision: 0.8846 - recall: 0.8863 - val_loss: 0.2789 - val_accuracy: 0.9178 - val_precision: 0.8969 - val_recall: 0.9158\n",
      "Epoch 33/160\n",
      "256/256 [==============================] - 0s 1ms/step - loss: 0.2522 - accuracy: 0.8885 - precision: 0.8857 - recall: 0.8960 - val_loss: 0.2854 - val_accuracy: 0.9087 - val_precision: 0.9310 - val_recall: 0.8526\n",
      "Epoch 34/160\n",
      "256/256 [==============================] - 0s 2ms/step - loss: 0.2526 - accuracy: 0.8855 - precision: 0.8836 - recall: 0.8921 - val_loss: 0.2842 - val_accuracy: 0.9087 - val_precision: 0.9310 - val_recall: 0.8526\n",
      "Epoch 35/160\n",
      "256/256 [==============================] - 0s 2ms/step - loss: 0.2529 - accuracy: 0.8885 - precision: 0.8872 - recall: 0.8940 - val_loss: 0.2918 - val_accuracy: 0.9132 - val_precision: 0.8725 - val_recall: 0.9368\n",
      "Epoch 36/160\n",
      "256/256 [==============================] - 0s 2ms/step - loss: 0.2530 - accuracy: 0.8826 - precision: 0.8729 - recall: 0.8998 - val_loss: 0.2888 - val_accuracy: 0.9087 - val_precision: 0.9310 - val_recall: 0.8526\n",
      "Epoch 37/160\n"
     ]
    },
    {
     "name": "stdout",
     "output_type": "stream",
     "text": [
      "256/256 [==============================] - 0s 2ms/step - loss: 0.2532 - accuracy: 0.8943 - precision: 0.8944 - recall: 0.8979 - val_loss: 0.2835 - val_accuracy: 0.9132 - val_precision: 0.8878 - val_recall: 0.9158\n",
      "Epoch 38/160\n",
      "256/256 [==============================] - 0s 2ms/step - loss: 0.2541 - accuracy: 0.8845 - precision: 0.8790 - recall: 0.8960 - val_loss: 0.2797 - val_accuracy: 0.9178 - val_precision: 0.9140 - val_recall: 0.8947\n",
      "Epoch 39/160\n",
      "256/256 [==============================] - 0s 1ms/step - loss: 0.2496 - accuracy: 0.8885 - precision: 0.8917 - recall: 0.8882 - val_loss: 0.2948 - val_accuracy: 0.9087 - val_precision: 0.9310 - val_recall: 0.8526\n",
      "Epoch 40/160\n",
      "256/256 [==============================] - 0s 1ms/step - loss: 0.2497 - accuracy: 0.8894 - precision: 0.8874 - recall: 0.8960 - val_loss: 0.2839 - val_accuracy: 0.9178 - val_precision: 0.8969 - val_recall: 0.9158\n",
      "Epoch 41/160\n",
      "256/256 [==============================] - 0s 1ms/step - loss: 0.2436 - accuracy: 0.8914 - precision: 0.8908 - recall: 0.8960 - val_loss: 0.2917 - val_accuracy: 0.9132 - val_precision: 0.8725 - val_recall: 0.9368\n",
      "Epoch 42/160\n",
      "256/256 [==============================] - 0s 2ms/step - loss: 0.2498 - accuracy: 0.8914 - precision: 0.8893 - recall: 0.8979 - val_loss: 0.2832 - val_accuracy: 0.9224 - val_precision: 0.9062 - val_recall: 0.9158\n",
      "Epoch 43/160\n",
      "256/256 [==============================] - 0s 2ms/step - loss: 0.2464 - accuracy: 0.8845 - precision: 0.8819 - recall: 0.8921 - val_loss: 0.2895 - val_accuracy: 0.9178 - val_precision: 0.9326 - val_recall: 0.8737\n",
      "Epoch 44/160\n",
      "256/256 [==============================] - 0s 2ms/step - loss: 0.2467 - accuracy: 0.8914 - precision: 0.8864 - recall: 0.9017 - val_loss: 0.2874 - val_accuracy: 0.9132 - val_precision: 0.9222 - val_recall: 0.8737\n",
      "Epoch 45/160\n",
      "256/256 [==============================] - 0s 1ms/step - loss: 0.2502 - accuracy: 0.8894 - precision: 0.8830 - recall: 0.9017 - val_loss: 0.2908 - val_accuracy: 0.9178 - val_precision: 0.9326 - val_recall: 0.8737\n",
      "Epoch 46/160\n",
      "256/256 [==============================] - 0s 1ms/step - loss: 0.2485 - accuracy: 0.8875 - precision: 0.8840 - recall: 0.8960 - val_loss: 0.2850 - val_accuracy: 0.9132 - val_precision: 0.8958 - val_recall: 0.9053\n",
      "Epoch 47/160\n",
      "256/256 [==============================] - 0s 2ms/step - loss: 0.2458 - accuracy: 0.8885 - precision: 0.8887 - recall: 0.8921 - val_loss: 0.2968 - val_accuracy: 0.9132 - val_precision: 0.8725 - val_recall: 0.9368\n",
      "Epoch 48/160\n",
      "256/256 [==============================] - 0s 1ms/step - loss: 0.2498 - accuracy: 0.8826 - precision: 0.8771 - recall: 0.8940 - val_loss: 0.2849 - val_accuracy: 0.9178 - val_precision: 0.9140 - val_recall: 0.8947\n",
      "Epoch 49/160\n",
      "256/256 [==============================] - 0s 1ms/step - loss: 0.2403 - accuracy: 0.8973 - precision: 0.8966 - recall: 0.9017 - val_loss: 0.2867 - val_accuracy: 0.9178 - val_precision: 0.9140 - val_recall: 0.8947\n",
      "Epoch 50/160\n",
      "256/256 [==============================] - 0s 2ms/step - loss: 0.2446 - accuracy: 0.8914 - precision: 0.8864 - recall: 0.9017 - val_loss: 0.2907 - val_accuracy: 0.9178 - val_precision: 0.8889 - val_recall: 0.9263\n",
      "Epoch 51/160\n",
      "256/256 [==============================] - 0s 2ms/step - loss: 0.2427 - accuracy: 0.8914 - precision: 0.8864 - recall: 0.9017 - val_loss: 0.2865 - val_accuracy: 0.9132 - val_precision: 0.8958 - val_recall: 0.9053\n",
      "Epoch 52/160\n",
      "256/256 [==============================] - 0s 1ms/step - loss: 0.2434 - accuracy: 0.8953 - precision: 0.8916 - recall: 0.9037 - val_loss: 0.3520 - val_accuracy: 0.8767 - val_precision: 0.8036 - val_recall: 0.9474\n",
      "Epoch 53/160\n",
      "256/256 [==============================] - 0s 2ms/step - loss: 0.2440 - accuracy: 0.9002 - precision: 0.8956 - recall: 0.9094 - val_loss: 0.2940 - val_accuracy: 0.9132 - val_precision: 0.8800 - val_recall: 0.9263\n",
      "Epoch 54/160\n",
      "256/256 [==============================] - 0s 2ms/step - loss: 0.2445 - accuracy: 0.8914 - precision: 0.8893 - recall: 0.8979 - val_loss: 0.3048 - val_accuracy: 0.9041 - val_precision: 0.9302 - val_recall: 0.8421\n",
      "Epoch 55/160\n",
      "256/256 [==============================] - 0s 2ms/step - loss: 0.2463 - accuracy: 0.8933 - precision: 0.8942 - recall: 0.8960 - val_loss: 0.2949 - val_accuracy: 0.9132 - val_precision: 0.8800 - val_recall: 0.9263\n",
      "Epoch 56/160\n",
      "256/256 [==============================] - 0s 2ms/step - loss: 0.2425 - accuracy: 0.8933 - precision: 0.8897 - recall: 0.9017 - val_loss: 0.3007 - val_accuracy: 0.9087 - val_precision: 0.8713 - val_recall: 0.9263\n",
      "Epoch 57/160\n",
      "256/256 [==============================] - 0s 1ms/step - loss: 0.2411 - accuracy: 0.8973 - precision: 0.8935 - recall: 0.9056 - val_loss: 0.2905 - val_accuracy: 0.9178 - val_precision: 0.9231 - val_recall: 0.8842\n",
      "Epoch 58/160\n",
      "256/256 [==============================] - 0s 2ms/step - loss: 0.2452 - accuracy: 0.8943 - precision: 0.8914 - recall: 0.9017 - val_loss: 0.3073 - val_accuracy: 0.8995 - val_precision: 0.8476 - val_recall: 0.9368\n",
      "Epoch 59/160\n",
      "256/256 [==============================] - 0s 1ms/step - loss: 0.2425 - accuracy: 0.8865 - precision: 0.8824 - recall: 0.8960 - val_loss: 0.2968 - val_accuracy: 0.9132 - val_precision: 0.8800 - val_recall: 0.9263\n",
      "Epoch 60/160\n",
      "256/256 [==============================] - 0s 1ms/step - loss: 0.2452 - accuracy: 0.8904 - precision: 0.8847 - recall: 0.9017 - val_loss: 0.2886 - val_accuracy: 0.9178 - val_precision: 0.9140 - val_recall: 0.8947\n",
      "Epoch 61/160\n",
      "256/256 [==============================] - 0s 2ms/step - loss: 0.2442 - accuracy: 0.8885 - precision: 0.8843 - recall: 0.8979 - val_loss: 0.2916 - val_accuracy: 0.9224 - val_precision: 0.8980 - val_recall: 0.9263\n",
      "Epoch 62/160\n",
      "256/256 [==============================] - 0s 1ms/step - loss: 0.2398 - accuracy: 0.8865 - precision: 0.8780 - recall: 0.9017 - val_loss: 0.3053 - val_accuracy: 0.9041 - val_precision: 0.8558 - val_recall: 0.9368\n",
      "Epoch 63/160\n",
      "256/256 [==============================] - 0s 2ms/step - loss: 0.2410 - accuracy: 0.8933 - precision: 0.8853 - recall: 0.9075 - val_loss: 0.3195 - val_accuracy: 0.8950 - val_precision: 0.9286 - val_recall: 0.8211\n",
      "Epoch 64/160\n",
      "256/256 [==============================] - 0s 1ms/step - loss: 0.2428 - accuracy: 0.8924 - precision: 0.8925 - recall: 0.8960 - val_loss: 0.2948 - val_accuracy: 0.9224 - val_precision: 0.8980 - val_recall: 0.9263\n",
      "Epoch 65/160\n",
      "256/256 [==============================] - 0s 1ms/step - loss: 0.2419 - accuracy: 0.8904 - precision: 0.8876 - recall: 0.8979 - val_loss: 0.2912 - val_accuracy: 0.9178 - val_precision: 0.9140 - val_recall: 0.8947\n",
      "Epoch 66/160\n",
      "256/256 [==============================] - 0s 2ms/step - loss: 0.2368 - accuracy: 0.8963 - precision: 0.8918 - recall: 0.9056 - val_loss: 0.2978 - val_accuracy: 0.9132 - val_precision: 0.9222 - val_recall: 0.8737\n",
      "Epoch 67/160\n",
      "256/256 [==============================] - 0s 1ms/step - loss: 0.2433 - accuracy: 0.8845 - precision: 0.8805 - recall: 0.8940 - val_loss: 0.3022 - val_accuracy: 0.9041 - val_precision: 0.8627 - val_recall: 0.9263\n",
      "Epoch 68/160\n",
      "256/256 [==============================] - 0s 1ms/step - loss: 0.2439 - accuracy: 0.8894 - precision: 0.8889 - recall: 0.8940 - val_loss: 0.2926 - val_accuracy: 0.9132 - val_precision: 0.8958 - val_recall: 0.9053\n",
      "Epoch 69/160\n",
      "256/256 [==============================] - 0s 2ms/step - loss: 0.2428 - accuracy: 0.8943 - precision: 0.8899 - recall: 0.9037 - val_loss: 0.2975 - val_accuracy: 0.9178 - val_precision: 0.8889 - val_recall: 0.9263\n",
      "Epoch 70/160\n",
      "256/256 [==============================] - 0s 2ms/step - loss: 0.2421 - accuracy: 0.8904 - precision: 0.8832 - recall: 0.9037 - val_loss: 0.2912 - val_accuracy: 0.9224 - val_precision: 0.9149 - val_recall: 0.9053\n",
      "Epoch 71/160\n",
      "256/256 [==============================] - 0s 1ms/step - loss: 0.2424 - accuracy: 0.8904 - precision: 0.8876 - recall: 0.8979 - val_loss: 0.2969 - val_accuracy: 0.9178 - val_precision: 0.8889 - val_recall: 0.9263\n",
      "Epoch 72/160\n",
      "256/256 [==============================] - 0s 2ms/step - loss: 0.2389 - accuracy: 0.8943 - precision: 0.8870 - recall: 0.9075 - val_loss: 0.3053 - val_accuracy: 0.9041 - val_precision: 0.8627 - val_recall: 0.9263\n",
      "Epoch 73/160\n"
     ]
    },
    {
     "name": "stdout",
     "output_type": "stream",
     "text": [
      "256/256 [==============================] - 0s 1ms/step - loss: 0.2401 - accuracy: 0.8914 - precision: 0.8835 - recall: 0.9056 - val_loss: 0.3136 - val_accuracy: 0.8995 - val_precision: 0.9294 - val_recall: 0.8316\n",
      "Epoch 74/160\n",
      "256/256 [==============================] - 0s 2ms/step - loss: 0.2391 - accuracy: 0.8875 - precision: 0.8797 - recall: 0.9017 - val_loss: 0.2963 - val_accuracy: 0.9178 - val_precision: 0.9231 - val_recall: 0.8842\n",
      "Epoch 75/160\n",
      "256/256 [==============================] - 0s 1ms/step - loss: 0.2364 - accuracy: 0.8933 - precision: 0.8912 - recall: 0.8998 - val_loss: 0.2928 - val_accuracy: 0.9178 - val_precision: 0.9140 - val_recall: 0.8947\n",
      "Epoch 76/160\n",
      "256/256 [==============================] - 0s 1ms/step - loss: 0.2392 - accuracy: 0.8933 - precision: 0.8897 - recall: 0.9017 - val_loss: 0.2940 - val_accuracy: 0.9178 - val_precision: 0.9053 - val_recall: 0.9053\n",
      "Epoch 77/160\n",
      "256/256 [==============================] - 0s 1ms/step - loss: 0.2368 - accuracy: 0.8982 - precision: 0.8937 - recall: 0.9075 - val_loss: 0.3092 - val_accuracy: 0.9087 - val_precision: 0.9310 - val_recall: 0.8526\n",
      "Epoch 78/160\n",
      "256/256 [==============================] - 0s 2ms/step - loss: 0.2381 - accuracy: 0.8933 - precision: 0.8883 - recall: 0.9037 - val_loss: 0.2971 - val_accuracy: 0.9178 - val_precision: 0.9231 - val_recall: 0.8842\n",
      "Epoch 79/160\n",
      "256/256 [==============================] - 0s 2ms/step - loss: 0.2347 - accuracy: 0.8992 - precision: 0.8969 - recall: 0.9056 - val_loss: 0.3002 - val_accuracy: 0.9178 - val_precision: 0.8889 - val_recall: 0.9263\n",
      "Epoch 80/160\n",
      "256/256 [==============================] - 0s 2ms/step - loss: 0.2370 - accuracy: 0.8953 - precision: 0.8887 - recall: 0.9075 - val_loss: 0.3134 - val_accuracy: 0.9041 - val_precision: 0.8558 - val_recall: 0.9368\n",
      "Epoch 81/160\n",
      "256/256 [==============================] - 0s 1ms/step - loss: 0.2339 - accuracy: 0.9041 - precision: 0.9010 - recall: 0.9114 - val_loss: 0.3489 - val_accuracy: 0.8813 - val_precision: 0.8165 - val_recall: 0.9368\n",
      "Epoch 82/160\n",
      "256/256 [==============================] - 0s 1ms/step - loss: 0.2412 - accuracy: 0.8865 - precision: 0.8780 - recall: 0.9017 - val_loss: 0.2982 - val_accuracy: 0.9178 - val_precision: 0.9231 - val_recall: 0.8842\n",
      "Epoch 83/160\n",
      "256/256 [==============================] - 0s 1ms/step - loss: 0.2398 - accuracy: 0.8933 - precision: 0.8883 - recall: 0.9037 - val_loss: 0.3005 - val_accuracy: 0.9132 - val_precision: 0.9222 - val_recall: 0.8737\n",
      "Epoch 84/160\n",
      "256/256 [==============================] - 0s 1ms/step - loss: 0.2373 - accuracy: 0.8904 - precision: 0.8818 - recall: 0.9056 - val_loss: 0.2948 - val_accuracy: 0.9178 - val_precision: 0.9140 - val_recall: 0.8947\n",
      "Epoch 85/160\n",
      "256/256 [==============================] - 0s 2ms/step - loss: 0.2369 - accuracy: 0.8943 - precision: 0.8885 - recall: 0.9056 - val_loss: 0.2971 - val_accuracy: 0.9132 - val_precision: 0.8958 - val_recall: 0.9053\n",
      "Epoch 86/160\n",
      "256/256 [==============================] - 0s 1ms/step - loss: 0.2386 - accuracy: 0.8963 - precision: 0.8918 - recall: 0.9056 - val_loss: 0.2954 - val_accuracy: 0.9178 - val_precision: 0.9140 - val_recall: 0.8947\n",
      "Epoch 87/160\n",
      "256/256 [==============================] - 0s 1ms/step - loss: 0.2382 - accuracy: 0.8943 - precision: 0.8856 - recall: 0.9094 - val_loss: 0.2975 - val_accuracy: 0.9178 - val_precision: 0.9231 - val_recall: 0.8842\n",
      "Epoch 88/160\n",
      "256/256 [==============================] - 0s 2ms/step - loss: 0.2333 - accuracy: 0.8924 - precision: 0.8866 - recall: 0.9037 - val_loss: 0.2990 - val_accuracy: 0.9178 - val_precision: 0.8889 - val_recall: 0.9263\n",
      "Epoch 89/160\n",
      "256/256 [==============================] - 0s 1ms/step - loss: 0.2370 - accuracy: 0.8914 - precision: 0.8835 - recall: 0.9056 - val_loss: 0.3001 - val_accuracy: 0.9178 - val_precision: 0.8889 - val_recall: 0.9263\n",
      "Epoch 90/160\n",
      "256/256 [==============================] - 0s 2ms/step - loss: 0.2346 - accuracy: 0.8914 - precision: 0.8835 - recall: 0.9056 - val_loss: 0.2987 - val_accuracy: 0.9178 - val_precision: 0.9231 - val_recall: 0.8842\n",
      "Epoch 91/160\n",
      "256/256 [==============================] - 0s 2ms/step - loss: 0.2369 - accuracy: 0.8953 - precision: 0.8946 - recall: 0.8998 - val_loss: 0.2973 - val_accuracy: 0.9132 - val_precision: 0.8958 - val_recall: 0.9053\n",
      "Epoch 92/160\n",
      "256/256 [==============================] - 0s 2ms/step - loss: 0.2379 - accuracy: 0.8875 - precision: 0.8783 - recall: 0.9037 - val_loss: 0.3075 - val_accuracy: 0.9087 - val_precision: 0.8713 - val_recall: 0.9263\n",
      "Epoch 93/160\n",
      "256/256 [==============================] - 0s 2ms/step - loss: 0.2363 - accuracy: 0.8963 - precision: 0.8889 - recall: 0.9094 - val_loss: 0.3091 - val_accuracy: 0.9087 - val_precision: 0.9213 - val_recall: 0.8632\n",
      "Epoch 94/160\n",
      "256/256 [==============================] - 0s 2ms/step - loss: 0.2371 - accuracy: 0.8963 - precision: 0.8948 - recall: 0.9017 - val_loss: 0.3024 - val_accuracy: 0.9178 - val_precision: 0.8889 - val_recall: 0.9263\n",
      "Epoch 95/160\n",
      "256/256 [==============================] - 0s 2ms/step - loss: 0.2348 - accuracy: 0.8914 - precision: 0.8878 - recall: 0.8998 - val_loss: 0.3029 - val_accuracy: 0.9132 - val_precision: 0.8800 - val_recall: 0.9263\n",
      "Epoch 96/160\n",
      "256/256 [==============================] - 0s 2ms/step - loss: 0.2381 - accuracy: 0.8933 - precision: 0.8912 - recall: 0.8998 - val_loss: 0.2965 - val_accuracy: 0.9132 - val_precision: 0.8958 - val_recall: 0.9053\n",
      "Epoch 97/160\n",
      "256/256 [==============================] - 0s 2ms/step - loss: 0.2351 - accuracy: 0.8982 - precision: 0.8893 - recall: 0.9133 - val_loss: 0.3055 - val_accuracy: 0.9087 - val_precision: 0.8641 - val_recall: 0.9368\n",
      "Epoch 98/160\n",
      "256/256 [==============================] - 0s 2ms/step - loss: 0.2418 - accuracy: 0.8885 - precision: 0.8843 - recall: 0.8979 - val_loss: 0.2962 - val_accuracy: 0.9178 - val_precision: 0.9053 - val_recall: 0.9053\n",
      "Epoch 99/160\n",
      "256/256 [==============================] - 0s 2ms/step - loss: 0.2364 - accuracy: 0.8943 - precision: 0.8885 - recall: 0.9056 - val_loss: 0.3040 - val_accuracy: 0.9132 - val_precision: 0.8725 - val_recall: 0.9368\n",
      "Epoch 100/160\n",
      "256/256 [==============================] - 0s 1ms/step - loss: 0.2344 - accuracy: 0.9012 - precision: 0.8943 - recall: 0.9133 - val_loss: 0.2971 - val_accuracy: 0.9178 - val_precision: 0.9053 - val_recall: 0.9053\n",
      "Epoch 101/160\n",
      "256/256 [==============================] - 0s 2ms/step - loss: 0.2360 - accuracy: 0.9022 - precision: 0.8990 - recall: 0.9094 - val_loss: 0.3094 - val_accuracy: 0.9041 - val_precision: 0.8558 - val_recall: 0.9368\n",
      "Epoch 102/160\n",
      "256/256 [==============================] - 0s 1ms/step - loss: 0.2379 - accuracy: 0.8943 - precision: 0.8870 - recall: 0.9075 - val_loss: 0.3280 - val_accuracy: 0.9041 - val_precision: 0.9405 - val_recall: 0.8316\n",
      "Epoch 103/160\n",
      "256/256 [==============================] - 0s 1ms/step - loss: 0.2387 - accuracy: 0.8924 - precision: 0.8880 - recall: 0.9017 - val_loss: 0.3049 - val_accuracy: 0.9087 - val_precision: 0.8713 - val_recall: 0.9263\n",
      "Epoch 104/160\n",
      "256/256 [==============================] - 0s 1ms/step - loss: 0.2340 - accuracy: 0.8894 - precision: 0.8874 - recall: 0.8960 - val_loss: 0.3213 - val_accuracy: 0.8995 - val_precision: 0.8476 - val_recall: 0.9368\n",
      "Epoch 105/160\n",
      "256/256 [==============================] - 0s 1ms/step - loss: 0.2331 - accuracy: 0.8973 - precision: 0.8966 - recall: 0.9017 - val_loss: 0.2982 - val_accuracy: 0.9132 - val_precision: 0.9130 - val_recall: 0.8842\n",
      "Epoch 106/160\n",
      "256/256 [==============================] - 0s 2ms/step - loss: 0.2346 - accuracy: 0.8963 - precision: 0.8904 - recall: 0.9075 - val_loss: 0.2971 - val_accuracy: 0.9178 - val_precision: 0.9053 - val_recall: 0.9053\n",
      "Epoch 107/160\n",
      "256/256 [==============================] - 0s 1ms/step - loss: 0.2317 - accuracy: 0.8924 - precision: 0.8866 - recall: 0.9037 - val_loss: 0.2961 - val_accuracy: 0.9224 - val_precision: 0.9149 - val_recall: 0.9053\n",
      "Epoch 108/160\n",
      "256/256 [==============================] - 0s 1ms/step - loss: 0.2351 - accuracy: 0.8943 - precision: 0.8914 - recall: 0.9017 - val_loss: 0.3002 - val_accuracy: 0.9178 - val_precision: 0.9231 - val_recall: 0.8842\n",
      "Epoch 109/160\n"
     ]
    },
    {
     "name": "stdout",
     "output_type": "stream",
     "text": [
      "256/256 [==============================] - 0s 2ms/step - loss: 0.2351 - accuracy: 0.8973 - precision: 0.8906 - recall: 0.9094 - val_loss: 0.3399 - val_accuracy: 0.8858 - val_precision: 0.8241 - val_recall: 0.9368\n",
      "Epoch 110/160\n",
      "256/256 [==============================] - 0s 2ms/step - loss: 0.2387 - accuracy: 0.8924 - precision: 0.8880 - recall: 0.9017 - val_loss: 0.2983 - val_accuracy: 0.9132 - val_precision: 0.8878 - val_recall: 0.9158\n",
      "Epoch 111/160\n",
      "256/256 [==============================] - 0s 1ms/step - loss: 0.2357 - accuracy: 0.8885 - precision: 0.8799 - recall: 0.9037 - val_loss: 0.2976 - val_accuracy: 0.9178 - val_precision: 0.9231 - val_recall: 0.8842\n",
      "Epoch 112/160\n",
      "256/256 [==============================] - 0s 2ms/step - loss: 0.2355 - accuracy: 0.8963 - precision: 0.8948 - recall: 0.9017 - val_loss: 0.2961 - val_accuracy: 0.9132 - val_precision: 0.8958 - val_recall: 0.9053\n",
      "Epoch 113/160\n",
      "256/256 [==============================] - 0s 2ms/step - loss: 0.2323 - accuracy: 0.8973 - precision: 0.8920 - recall: 0.9075 - val_loss: 0.2982 - val_accuracy: 0.9178 - val_precision: 0.9053 - val_recall: 0.9053\n",
      "Epoch 114/160\n",
      "256/256 [==============================] - 0s 2ms/step - loss: 0.2371 - accuracy: 0.8914 - precision: 0.8864 - recall: 0.9017 - val_loss: 0.2963 - val_accuracy: 0.9178 - val_precision: 0.9140 - val_recall: 0.8947\n",
      "Epoch 115/160\n",
      "256/256 [==============================] - 0s 2ms/step - loss: 0.2319 - accuracy: 0.9031 - precision: 0.8992 - recall: 0.9114 - val_loss: 0.2974 - val_accuracy: 0.9132 - val_precision: 0.8878 - val_recall: 0.9158\n",
      "Epoch 116/160\n",
      "256/256 [==============================] - 0s 1ms/step - loss: 0.2314 - accuracy: 0.8973 - precision: 0.8920 - recall: 0.9075 - val_loss: 0.2989 - val_accuracy: 0.9178 - val_precision: 0.9231 - val_recall: 0.8842\n",
      "Epoch 117/160\n",
      "256/256 [==============================] - 0s 2ms/step - loss: 0.2322 - accuracy: 0.8894 - precision: 0.8845 - recall: 0.8998 - val_loss: 0.3196 - val_accuracy: 0.8995 - val_precision: 0.8476 - val_recall: 0.9368\n",
      "Epoch 118/160\n",
      "256/256 [==============================] - 0s 2ms/step - loss: 0.2332 - accuracy: 0.8953 - precision: 0.8887 - recall: 0.9075 - val_loss: 0.2975 - val_accuracy: 0.9178 - val_precision: 0.9053 - val_recall: 0.9053\n",
      "Epoch 119/160\n",
      "256/256 [==============================] - 0s 2ms/step - loss: 0.2311 - accuracy: 0.8982 - precision: 0.8879 - recall: 0.9152 - val_loss: 0.3007 - val_accuracy: 0.9178 - val_precision: 0.9231 - val_recall: 0.8842\n",
      "Epoch 120/160\n",
      "256/256 [==============================] - 0s 2ms/step - loss: 0.2356 - accuracy: 0.8904 - precision: 0.8847 - recall: 0.9017 - val_loss: 0.2969 - val_accuracy: 0.9178 - val_precision: 0.9053 - val_recall: 0.9053\n",
      "Epoch 121/160\n",
      "256/256 [==============================] - 0s 1ms/step - loss: 0.2345 - accuracy: 0.8914 - precision: 0.8878 - recall: 0.8998 - val_loss: 0.2987 - val_accuracy: 0.9132 - val_precision: 0.8958 - val_recall: 0.9053\n",
      "Epoch 122/160\n",
      "256/256 [==============================] - 0s 2ms/step - loss: 0.2324 - accuracy: 0.8982 - precision: 0.8908 - recall: 0.9114 - val_loss: 0.2967 - val_accuracy: 0.9178 - val_precision: 0.9053 - val_recall: 0.9053\n",
      "Epoch 123/160\n",
      "256/256 [==============================] - 0s 2ms/step - loss: 0.2341 - accuracy: 0.8953 - precision: 0.8962 - recall: 0.8979 - val_loss: 0.3105 - val_accuracy: 0.9041 - val_precision: 0.8558 - val_recall: 0.9368\n",
      "Epoch 124/160\n",
      "256/256 [==============================] - 0s 2ms/step - loss: 0.2327 - accuracy: 0.8924 - precision: 0.8851 - recall: 0.9056 - val_loss: 0.2969 - val_accuracy: 0.9132 - val_precision: 0.9130 - val_recall: 0.8842\n",
      "Epoch 125/160\n",
      "256/256 [==============================] - 0s 2ms/step - loss: 0.2319 - accuracy: 0.8933 - precision: 0.8883 - recall: 0.9037 - val_loss: 0.3048 - val_accuracy: 0.9087 - val_precision: 0.8713 - val_recall: 0.9263\n",
      "Epoch 126/160\n",
      "256/256 [==============================] - 0s 2ms/step - loss: 0.2299 - accuracy: 0.8963 - precision: 0.8831 - recall: 0.9171 - val_loss: 0.3106 - val_accuracy: 0.9132 - val_precision: 0.9318 - val_recall: 0.8632\n",
      "Epoch 127/160\n",
      "256/256 [==============================] - 0s 1ms/step - loss: 0.2358 - accuracy: 0.8982 - precision: 0.8908 - recall: 0.9114 - val_loss: 0.2987 - val_accuracy: 0.9132 - val_precision: 0.8958 - val_recall: 0.9053\n",
      "Epoch 128/160\n",
      "256/256 [==============================] - 0s 2ms/step - loss: 0.2322 - accuracy: 0.8973 - precision: 0.8906 - recall: 0.9094 - val_loss: 0.3059 - val_accuracy: 0.9132 - val_precision: 0.9222 - val_recall: 0.8737\n",
      "Epoch 129/160\n",
      "256/256 [==============================] - 0s 1ms/step - loss: 0.2289 - accuracy: 0.8992 - precision: 0.8925 - recall: 0.9114 - val_loss: 0.2974 - val_accuracy: 0.9132 - val_precision: 0.9130 - val_recall: 0.8842\n",
      "Epoch 130/160\n",
      "256/256 [==============================] - 0s 1ms/step - loss: 0.2332 - accuracy: 0.8943 - precision: 0.8929 - recall: 0.8998 - val_loss: 0.2963 - val_accuracy: 0.9178 - val_precision: 0.9140 - val_recall: 0.8947\n",
      "Epoch 131/160\n",
      "256/256 [==============================] - 0s 2ms/step - loss: 0.2304 - accuracy: 0.8943 - precision: 0.8870 - recall: 0.9075 - val_loss: 0.3059 - val_accuracy: 0.9041 - val_precision: 0.8627 - val_recall: 0.9263\n",
      "Epoch 132/160\n",
      "256/256 [==============================] - 0s 1ms/step - loss: 0.2307 - accuracy: 0.8914 - precision: 0.8864 - recall: 0.9017 - val_loss: 0.3012 - val_accuracy: 0.9178 - val_precision: 0.8889 - val_recall: 0.9263\n",
      "Epoch 133/160\n",
      "256/256 [==============================] - 0s 1ms/step - loss: 0.2304 - accuracy: 0.8963 - precision: 0.8874 - recall: 0.9114 - val_loss: 0.3072 - val_accuracy: 0.9132 - val_precision: 0.9222 - val_recall: 0.8737\n",
      "Epoch 134/160\n",
      "256/256 [==============================] - 0s 1ms/step - loss: 0.2267 - accuracy: 0.8973 - precision: 0.8891 - recall: 0.9114 - val_loss: 0.3058 - val_accuracy: 0.9087 - val_precision: 0.9213 - val_recall: 0.8632\n",
      "Epoch 135/160\n",
      "256/256 [==============================] - 0s 2ms/step - loss: 0.2321 - accuracy: 0.8973 - precision: 0.8920 - recall: 0.9075 - val_loss: 0.3006 - val_accuracy: 0.9178 - val_precision: 0.8969 - val_recall: 0.9158\n",
      "Epoch 136/160\n",
      "256/256 [==============================] - 0s 2ms/step - loss: 0.2302 - accuracy: 0.8982 - precision: 0.8864 - recall: 0.9171 - val_loss: 0.2993 - val_accuracy: 0.9132 - val_precision: 0.9130 - val_recall: 0.8842\n",
      "Epoch 137/160\n",
      "256/256 [==============================] - 0s 2ms/step - loss: 0.2307 - accuracy: 0.8933 - precision: 0.8868 - recall: 0.9056 - val_loss: 0.3034 - val_accuracy: 0.9178 - val_precision: 0.9231 - val_recall: 0.8842\n",
      "Epoch 138/160\n",
      "256/256 [==============================] - 0s 2ms/step - loss: 0.2343 - accuracy: 0.8973 - precision: 0.8950 - recall: 0.9037 - val_loss: 0.3014 - val_accuracy: 0.9178 - val_precision: 0.8969 - val_recall: 0.9158\n",
      "Epoch 139/160\n",
      "256/256 [==============================] - 0s 2ms/step - loss: 0.2287 - accuracy: 0.8973 - precision: 0.8906 - recall: 0.9094 - val_loss: 0.3108 - val_accuracy: 0.9041 - val_precision: 0.8558 - val_recall: 0.9368\n",
      "Epoch 140/160\n",
      "256/256 [==============================] - 0s 1ms/step - loss: 0.2310 - accuracy: 0.8992 - precision: 0.8939 - recall: 0.9094 - val_loss: 0.3054 - val_accuracy: 0.9132 - val_precision: 0.9222 - val_recall: 0.8737\n",
      "Epoch 141/160\n",
      "256/256 [==============================] - 0s 2ms/step - loss: 0.2312 - accuracy: 0.8933 - precision: 0.8912 - recall: 0.8998 - val_loss: 0.2984 - val_accuracy: 0.9178 - val_precision: 0.9053 - val_recall: 0.9053\n",
      "Epoch 142/160\n",
      "256/256 [==============================] - 0s 2ms/step - loss: 0.2309 - accuracy: 0.8973 - precision: 0.8891 - recall: 0.9114 - val_loss: 0.3131 - val_accuracy: 0.9087 - val_precision: 0.9310 - val_recall: 0.8526\n",
      "Epoch 143/160\n",
      "256/256 [==============================] - 0s 2ms/step - loss: 0.2333 - accuracy: 0.8943 - precision: 0.8929 - recall: 0.8998 - val_loss: 0.2970 - val_accuracy: 0.9224 - val_precision: 0.9149 - val_recall: 0.9053\n",
      "Epoch 144/160\n",
      "256/256 [==============================] - 0s 2ms/step - loss: 0.2267 - accuracy: 0.9061 - precision: 0.8953 - recall: 0.9229 - val_loss: 0.2980 - val_accuracy: 0.9178 - val_precision: 0.8969 - val_recall: 0.9158\n",
      "Epoch 145/160\n"
     ]
    },
    {
     "name": "stdout",
     "output_type": "stream",
     "text": [
      "256/256 [==============================] - 0s 1ms/step - loss: 0.2297 - accuracy: 0.8953 - precision: 0.8872 - recall: 0.9094 - val_loss: 0.3030 - val_accuracy: 0.9178 - val_precision: 0.8889 - val_recall: 0.9263\n",
      "Epoch 146/160\n",
      "256/256 [==============================] - 0s 2ms/step - loss: 0.2311 - accuracy: 0.8933 - precision: 0.8883 - recall: 0.9037 - val_loss: 0.2988 - val_accuracy: 0.9178 - val_precision: 0.9053 - val_recall: 0.9053\n",
      "Epoch 147/160\n",
      "256/256 [==============================] - 0s 2ms/step - loss: 0.2267 - accuracy: 0.9022 - precision: 0.8945 - recall: 0.9152 - val_loss: 0.3169 - val_accuracy: 0.8995 - val_precision: 0.8476 - val_recall: 0.9368\n",
      "Epoch 148/160\n",
      "256/256 [==============================] - 0s 1ms/step - loss: 0.2301 - accuracy: 0.8943 - precision: 0.8841 - recall: 0.9114 - val_loss: 0.3486 - val_accuracy: 0.8950 - val_precision: 0.9500 - val_recall: 0.8000\n",
      "Epoch 149/160\n",
      "256/256 [==============================] - 0s 1ms/step - loss: 0.2337 - accuracy: 0.8953 - precision: 0.8887 - recall: 0.9075 - val_loss: 0.2982 - val_accuracy: 0.9178 - val_precision: 0.9053 - val_recall: 0.9053\n",
      "Epoch 150/160\n",
      "256/256 [==============================] - 0s 2ms/step - loss: 0.2343 - accuracy: 0.8933 - precision: 0.8853 - recall: 0.9075 - val_loss: 0.3029 - val_accuracy: 0.9178 - val_precision: 0.9231 - val_recall: 0.8842\n",
      "Epoch 151/160\n",
      "256/256 [==============================] - 0s 2ms/step - loss: 0.2272 - accuracy: 0.8982 - precision: 0.8908 - recall: 0.9114 - val_loss: 0.2969 - val_accuracy: 0.9178 - val_precision: 0.9053 - val_recall: 0.9053\n",
      "Epoch 152/160\n",
      "256/256 [==============================] - 0s 2ms/step - loss: 0.2343 - accuracy: 0.8933 - precision: 0.8839 - recall: 0.9094 - val_loss: 0.3043 - val_accuracy: 0.9087 - val_precision: 0.9213 - val_recall: 0.8632\n",
      "Epoch 153/160\n",
      "256/256 [==============================] - 0s 1ms/step - loss: 0.2289 - accuracy: 0.8982 - precision: 0.8952 - recall: 0.9056 - val_loss: 0.3085 - val_accuracy: 0.9041 - val_precision: 0.8558 - val_recall: 0.9368\n",
      "Epoch 154/160\n",
      "256/256 [==============================] - 0s 2ms/step - loss: 0.2314 - accuracy: 0.8963 - precision: 0.8904 - recall: 0.9075 - val_loss: 0.3294 - val_accuracy: 0.8950 - val_precision: 0.8396 - val_recall: 0.9368\n",
      "Epoch 155/160\n",
      "256/256 [==============================] - 0s 2ms/step - loss: 0.2293 - accuracy: 0.9012 - precision: 0.8929 - recall: 0.9152 - val_loss: 0.3151 - val_accuracy: 0.9041 - val_precision: 0.8558 - val_recall: 0.9368\n",
      "Epoch 156/160\n",
      "256/256 [==============================] - 0s 1ms/step - loss: 0.2300 - accuracy: 0.9031 - precision: 0.8977 - recall: 0.9133 - val_loss: 0.3138 - val_accuracy: 0.8995 - val_precision: 0.8476 - val_recall: 0.9368\n",
      "Epoch 157/160\n",
      "256/256 [==============================] - 0s 2ms/step - loss: 0.2265 - accuracy: 0.8992 - precision: 0.8925 - recall: 0.9114 - val_loss: 0.3056 - val_accuracy: 0.9087 - val_precision: 0.9213 - val_recall: 0.8632\n",
      "Epoch 158/160\n",
      "256/256 [==============================] - 0s 2ms/step - loss: 0.2321 - accuracy: 0.8924 - precision: 0.8851 - recall: 0.9056 - val_loss: 0.3117 - val_accuracy: 0.9041 - val_precision: 0.8558 - val_recall: 0.9368\n",
      "Epoch 159/160\n",
      "256/256 [==============================] - 0s 2ms/step - loss: 0.2283 - accuracy: 0.9002 - precision: 0.8956 - recall: 0.9094 - val_loss: 0.2992 - val_accuracy: 0.9178 - val_precision: 0.9053 - val_recall: 0.9053\n",
      "Epoch 160/160\n",
      "256/256 [==============================] - 0s 2ms/step - loss: 0.2293 - accuracy: 0.8914 - precision: 0.8835 - recall: 0.9056 - val_loss: 0.2994 - val_accuracy: 0.9132 - val_precision: 0.9130 - val_recall: 0.8842\n"
     ]
    }
   ],
   "source": [
    "model_2 = Sequential([\n",
    "    Dense(16, activation='relu', input_shape=(10,)),\n",
    "    Dense(64, activation='relu'),\n",
    "    Dense(1, activation='sigmoid'),\n",
    "])\n",
    "\n",
    "model_2.compile(optimizer='sgd',\n",
    "              loss='binary_crossentropy',\n",
    "              metrics=['accuracy', 'Precision', 'Recall'])\n",
    "\n",
    "\n",
    "hist_2 = model_2.fit(X_train, Y_train,\n",
    "          batch_size=4, epochs=160,\n",
    "          validation_data=(X_val, Y_val))"
   ]
  },
  {
   "cell_type": "code",
   "execution_count": 24,
   "id": "251840f4",
   "metadata": {},
   "outputs": [
    {
     "name": "stdout",
     "output_type": "stream",
     "text": [
      "7/7 [==============================] - 0s 2ms/step - loss: 0.2536 - accuracy: 0.9087 - precision: 0.8983 - recall: 0.9298\n"
     ]
    }
   ],
   "source": [
    "evaluate_results_2 = model_2.evaluate(X_test, Y_test)"
   ]
  },
  {
   "cell_type": "markdown",
   "id": "08e047b2",
   "metadata": {},
   "source": [
    "### Loss visualization of Best Model"
   ]
  },
  {
   "cell_type": "code",
   "execution_count": 27,
   "id": "d52a1024",
   "metadata": {
    "scrolled": true
   },
   "outputs": [
    {
     "data": {
      "image/png": "[encoded data removed]",
      "text/plain": [
       "<Figure size 432x288 with 1 Axes>"
      ]
     },
     "metadata": {
      "needs_background": "light"
     },
     "output_type": "display_data"
    }
   ],
   "source": [
    "plt.plot(hist_2.history['loss'])\n",
    "plt.plot(hist_2.history['val_loss'])\n",
    "plt.title('Best Model loss')\n",
    "plt.ylabel('Loss')\n",
    "plt.xlabel('Epoch')\n",
    "plt.legend(['Train', 'Val'], loc='upper right')\n",
    "plt.show()"
   ]
  },
  {
   "cell_type": "markdown",
   "id": "94b27971",
   "metadata": {},
   "source": [
    "### Accuracy visualization of Best Model"
   ]
  },
  {
   "cell_type": "code",
   "execution_count": 26,
   "id": "af14a235",
   "metadata": {},
   "outputs": [
    {
     "data": {
      "image/png": "[encoded data removed]",
      "text/plain": [
       "<Figure size 432x288 with 1 Axes>"
      ]
     },
     "metadata": {
      "needs_background": "light"
     },
     "output_type": "display_data"
    }
   ],
   "source": [
    "plt.plot(hist_2.history['accuracy'])\n",
    "plt.plot(hist_2.history['val_accuracy'])\n",
    "plt.title('Best Model accuracy')\n",
    "plt.ylabel('Accuracy')\n",
    "plt.xlabel('Epoch')\n",
    "plt.legend(['Train', 'Val'], loc='lower right')\n",
    "plt.show()"
   ]
  },
  {
   "cell_type": "code",
   "execution_count": null,
   "id": "e269cf54",
   "metadata": {},
   "outputs": [],
   "source": []
  }
 ],
 "metadata": {
  "kernelspec": {
   "display_name": "Python 3 (ipykernel)",
   "language": "python",
   "name": "python3"
  },
  "language_info": {
   "codemirror_mode": {
    "name": "ipython",
    "version": 3
   },
   "file_extension": ".py",
   "mimetype": "text/x-python",
   "name": "python",
   "nbconvert_exporter": "python",
   "pygments_lexer": "ipython3",
   "version": "3.9.12"
  }
 },
 "nbformat": 4,
 "nbformat_minor": 5
}
