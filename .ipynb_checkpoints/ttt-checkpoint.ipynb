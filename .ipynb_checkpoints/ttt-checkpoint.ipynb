{
 "cells": [
  {
   "cell_type": "markdown",
   "id": "d86fa563",
   "metadata": {},
   "source": [
    "## Project 2 TAA Blog"
   ]
  },
  {
   "cell_type": "code",
   "execution_count": 1,
   "id": "696fa026",
   "metadata": {},
   "outputs": [],
   "source": [
    "import pandas as pd\n",
    "from sklearn import preprocessing\n",
    "from sklearn.model_selection import train_test_split\n",
    "import matplotlib.pyplot as plt"
   ]
  },
  {
   "cell_type": "markdown",
   "id": "4f3d0cf3",
   "metadata": {},
   "source": [
    "### Processing the data"
   ]
  },
  {
   "cell_type": "code",
   "execution_count": 2,
   "id": "b3a8131f",
   "metadata": {},
   "outputs": [],
   "source": [
    "df = pd.read_csv('housepricedata.csv')\n",
    "dataset = df.values\n",
    "\n",
    "X = dataset[:,:-1]\n",
    "Y = dataset[:,-1]\n"
   ]
  },
  {
   "cell_type": "code",
   "execution_count": 3,
   "id": "fdd3186e",
   "metadata": {},
   "outputs": [],
   "source": [
    "min_max_scaler = preprocessing.MinMaxScaler()\n",
    "X_scale = min_max_scaler.fit_transform(X)"
   ]
  },
  {
   "cell_type": "code",
   "execution_count": 4,
   "id": "89e5eaf5",
   "metadata": {},
   "outputs": [],
   "source": [
    "X_train, X_val_and_test, Y_train, Y_val_and_test = train_test_split(X_scale, Y, test_size=0.3)\n",
    "\n",
    "X_val, X_test, Y_val, Y_test = train_test_split(X_val_and_test, Y_val_and_test, test_size=0.5)\n"
   ]
  },
  {
   "cell_type": "markdown",
   "id": "dc3682f4",
   "metadata": {},
   "source": [
    "### Blog NN "
   ]
  },
  {
   "cell_type": "code",
   "execution_count": 5,
   "id": "335670e4",
   "metadata": {
    "scrolled": true
   },
   "outputs": [],
   "source": [
    "from keras.models import Sequential\n",
    "from keras.layers import Dense"
   ]
  },
  {
   "cell_type": "markdown",
   "id": "ce50a6a7",
   "metadata": {},
   "source": [
    "#### Define architecture"
   ]
  },
  {
   "cell_type": "code",
   "execution_count": 6,
   "id": "d183767c",
   "metadata": {},
   "outputs": [
    {
     "name": "stdout",
     "output_type": "stream",
     "text": [
      "Epoch 1/100\n",
      "32/32 [==============================] - 2s 17ms/step - loss: 0.6861 - accuracy: 0.5685 - precision: 0.5431 - recall: 0.7209 - val_loss: 0.6821 - val_accuracy: 0.6119 - val_precision: 0.5912 - val_recall: 0.8246\n",
      "Epoch 2/100\n",
      "32/32 [==============================] - 0s 3ms/step - loss: 0.6785 - accuracy: 0.6086 - precision: 0.5684 - recall: 0.8173 - val_loss: 0.6748 - val_accuracy: 0.6347 - val_precision: 0.6024 - val_recall: 0.8772\n",
      "Epoch 3/100\n",
      "32/32 [==============================] - 0s 2ms/step - loss: 0.6722 - accuracy: 0.6096 - precision: 0.5632 - recall: 0.8855 - val_loss: 0.6690 - val_accuracy: 0.6758 - val_precision: 0.6369 - val_recall: 0.8772\n",
      "Epoch 4/100\n",
      "32/32 [==============================] - 0s 2ms/step - loss: 0.6668 - accuracy: 0.6654 - precision: 0.6057 - recall: 0.8976 - val_loss: 0.6637 - val_accuracy: 0.7078 - val_precision: 0.6603 - val_recall: 0.9035\n",
      "Epoch 5/100\n",
      "32/32 [==============================] - 0s 2ms/step - loss: 0.6619 - accuracy: 0.7035 - precision: 0.6387 - recall: 0.9016 - val_loss: 0.6587 - val_accuracy: 0.7260 - val_precision: 0.6753 - val_recall: 0.9123\n",
      "Epoch 6/100\n",
      "32/32 [==============================] - 0s 2ms/step - loss: 0.6571 - accuracy: 0.7084 - precision: 0.6401 - recall: 0.9177 - val_loss: 0.6538 - val_accuracy: 0.7352 - val_precision: 0.6867 - val_recall: 0.9035\n",
      "Epoch 7/100\n",
      "32/32 [==============================] - 0s 2ms/step - loss: 0.6522 - accuracy: 0.7319 - precision: 0.6642 - recall: 0.9096 - val_loss: 0.6489 - val_accuracy: 0.7534 - val_precision: 0.7027 - val_recall: 0.9123\n",
      "Epoch 8/100\n",
      "32/32 [==============================] - 0s 2ms/step - loss: 0.6473 - accuracy: 0.7505 - precision: 0.6795 - recall: 0.9237 - val_loss: 0.6438 - val_accuracy: 0.7717 - val_precision: 0.7254 - val_recall: 0.9035\n",
      "Epoch 9/100\n",
      "32/32 [==============================] - 0s 2ms/step - loss: 0.6421 - accuracy: 0.7798 - precision: 0.7129 - recall: 0.9177 - val_loss: 0.6385 - val_accuracy: 0.7763 - val_precision: 0.7305 - val_recall: 0.9035\n",
      "Epoch 10/100\n",
      "32/32 [==============================] - 0s 2ms/step - loss: 0.6369 - accuracy: 0.7740 - precision: 0.7032 - recall: 0.9277 - val_loss: 0.6331 - val_accuracy: 0.7854 - val_precision: 0.7410 - val_recall: 0.9035\n",
      "Epoch 11/100\n",
      "32/32 [==============================] - 0s 3ms/step - loss: 0.6314 - accuracy: 0.7965 - precision: 0.7294 - recall: 0.9257 - val_loss: 0.6274 - val_accuracy: 0.8037 - val_precision: 0.7630 - val_recall: 0.9035\n",
      "Epoch 12/100\n",
      "32/32 [==============================] - 0s 2ms/step - loss: 0.6257 - accuracy: 0.8004 - precision: 0.7311 - recall: 0.9337 - val_loss: 0.6216 - val_accuracy: 0.8037 - val_precision: 0.7669 - val_recall: 0.8947\n",
      "Epoch 13/100\n",
      "32/32 [==============================] - 0s 2ms/step - loss: 0.6196 - accuracy: 0.8102 - precision: 0.7508 - recall: 0.9137 - val_loss: 0.6152 - val_accuracy: 0.8082 - val_precision: 0.7687 - val_recall: 0.9035\n",
      "Epoch 14/100\n",
      "32/32 [==============================] - 0s 3ms/step - loss: 0.6134 - accuracy: 0.8170 - precision: 0.7553 - recall: 0.9237 - val_loss: 0.6087 - val_accuracy: 0.8037 - val_precision: 0.7669 - val_recall: 0.8947\n",
      "Epoch 15/100\n",
      "32/32 [==============================] - 0s 3ms/step - loss: 0.6068 - accuracy: 0.8053 - precision: 0.7392 - recall: 0.9277 - val_loss: 0.6020 - val_accuracy: 0.8174 - val_precision: 0.7846 - val_recall: 0.8947\n",
      "Epoch 16/100\n",
      "32/32 [==============================] - 0s 3ms/step - loss: 0.5999 - accuracy: 0.8307 - precision: 0.7731 - recall: 0.9237 - val_loss: 0.5949 - val_accuracy: 0.8174 - val_precision: 0.7846 - val_recall: 0.8947\n",
      "Epoch 17/100\n",
      "32/32 [==============================] - 0s 2ms/step - loss: 0.5928 - accuracy: 0.8239 - precision: 0.7650 - recall: 0.9217 - val_loss: 0.5875 - val_accuracy: 0.8174 - val_precision: 0.7846 - val_recall: 0.8947\n",
      "Epoch 18/100\n",
      "32/32 [==============================] - 0s 2ms/step - loss: 0.5853 - accuracy: 0.8307 - precision: 0.7695 - recall: 0.9317 - val_loss: 0.5801 - val_accuracy: 0.8219 - val_precision: 0.7953 - val_recall: 0.8860\n",
      "Epoch 19/100\n",
      "32/32 [==============================] - 0s 2ms/step - loss: 0.5774 - accuracy: 0.8376 - precision: 0.7882 - recall: 0.9116 - val_loss: 0.5719 - val_accuracy: 0.8174 - val_precision: 0.7891 - val_recall: 0.8860\n",
      "Epoch 20/100\n",
      "32/32 [==============================] - 0s 2ms/step - loss: 0.5695 - accuracy: 0.8356 - precision: 0.7835 - recall: 0.9157 - val_loss: 0.5638 - val_accuracy: 0.8174 - val_precision: 0.7891 - val_recall: 0.8860\n",
      "Epoch 21/100\n",
      "32/32 [==============================] - 0s 2ms/step - loss: 0.5614 - accuracy: 0.8346 - precision: 0.7765 - recall: 0.9277 - val_loss: 0.5559 - val_accuracy: 0.8402 - val_precision: 0.8211 - val_recall: 0.8860\n",
      "Epoch 22/100\n",
      "32/32 [==============================] - 0s 2ms/step - loss: 0.5532 - accuracy: 0.8474 - precision: 0.7990 - recall: 0.9177 - val_loss: 0.5473 - val_accuracy: 0.8402 - val_precision: 0.8160 - val_recall: 0.8947\n",
      "Epoch 23/100\n",
      "32/32 [==============================] - 0s 2ms/step - loss: 0.5447 - accuracy: 0.8425 - precision: 0.7900 - recall: 0.9217 - val_loss: 0.5390 - val_accuracy: 0.8447 - val_precision: 0.8226 - val_recall: 0.8947\n",
      "Epoch 24/100\n",
      "32/32 [==============================] - 0s 3ms/step - loss: 0.5363 - accuracy: 0.8503 - precision: 0.7990 - recall: 0.9257 - val_loss: 0.5308 - val_accuracy: 0.8402 - val_precision: 0.8211 - val_recall: 0.8860\n",
      "Epoch 25/100\n",
      "32/32 [==============================] - 0s 3ms/step - loss: 0.5275 - accuracy: 0.8513 - precision: 0.8057 - recall: 0.9157 - val_loss: 0.5220 - val_accuracy: 0.8447 - val_precision: 0.8226 - val_recall: 0.8947\n",
      "Epoch 26/100\n",
      "32/32 [==============================] - 0s 2ms/step - loss: 0.5189 - accuracy: 0.8493 - precision: 0.8018 - recall: 0.9177 - val_loss: 0.5136 - val_accuracy: 0.8402 - val_precision: 0.8211 - val_recall: 0.8860\n",
      "Epoch 27/100\n",
      "32/32 [==============================] - 0s 2ms/step - loss: 0.5102 - accuracy: 0.8532 - precision: 0.8107 - recall: 0.9116 - val_loss: 0.5050 - val_accuracy: 0.8539 - val_precision: 0.8417 - val_recall: 0.8860\n",
      "Epoch 28/100\n",
      "32/32 [==============================] - 0s 2ms/step - loss: 0.5015 - accuracy: 0.8562 - precision: 0.8128 - recall: 0.9157 - val_loss: 0.4965 - val_accuracy: 0.8539 - val_precision: 0.8417 - val_recall: 0.8860\n",
      "Epoch 29/100\n",
      "32/32 [==============================] - 0s 2ms/step - loss: 0.4928 - accuracy: 0.8581 - precision: 0.8157 - recall: 0.9157 - val_loss: 0.4886 - val_accuracy: 0.8584 - val_precision: 0.8487 - val_recall: 0.8860\n",
      "Epoch 30/100\n",
      "32/32 [==============================] - 0s 2ms/step - loss: 0.4843 - accuracy: 0.8620 - precision: 0.8240 - recall: 0.9116 - val_loss: 0.4797 - val_accuracy: 0.8584 - val_precision: 0.8487 - val_recall: 0.8860\n",
      "Epoch 31/100\n",
      "32/32 [==============================] - 0s 2ms/step - loss: 0.4758 - accuracy: 0.8581 - precision: 0.8203 - recall: 0.9076 - val_loss: 0.4713 - val_accuracy: 0.8584 - val_precision: 0.8487 - val_recall: 0.8860\n",
      "Epoch 32/100\n",
      "32/32 [==============================] - 0s 2ms/step - loss: 0.4675 - accuracy: 0.8620 - precision: 0.8240 - recall: 0.9116 - val_loss: 0.4631 - val_accuracy: 0.8584 - val_precision: 0.8487 - val_recall: 0.8860\n",
      "Epoch 33/100\n",
      "32/32 [==============================] - 0s 2ms/step - loss: 0.4588 - accuracy: 0.8640 - precision: 0.8270 - recall: 0.9116 - val_loss: 0.4552 - val_accuracy: 0.8584 - val_precision: 0.8487 - val_recall: 0.8860\n",
      "Epoch 34/100\n",
      "32/32 [==============================] - 0s 2ms/step - loss: 0.4505 - accuracy: 0.8630 - precision: 0.8243 - recall: 0.9137 - val_loss: 0.4483 - val_accuracy: 0.8630 - val_precision: 0.8559 - val_recall: 0.8860\n",
      "Epoch 35/100\n",
      "32/32 [==============================] - 0s 2ms/step - loss: 0.4427 - accuracy: 0.8650 - precision: 0.8321 - recall: 0.9056 - val_loss: 0.4404 - val_accuracy: 0.8630 - val_precision: 0.8559 - val_recall: 0.8860\n",
      "Epoch 36/100\n",
      "32/32 [==============================] - 0s 2ms/step - loss: 0.4342 - accuracy: 0.8630 - precision: 0.8243 - recall: 0.9137 - val_loss: 0.4341 - val_accuracy: 0.8630 - val_precision: 0.8621 - val_recall: 0.8772\n",
      "Epoch 37/100\n",
      "32/32 [==============================] - 0s 2ms/step - loss: 0.4265 - accuracy: 0.8679 - precision: 0.8431 - recall: 0.8956 - val_loss: 0.4255 - val_accuracy: 0.8630 - val_precision: 0.8559 - val_recall: 0.8860\n"
     ]
    },
    {
     "name": "stdout",
     "output_type": "stream",
     "text": [
      "Epoch 38/100\n",
      "32/32 [==============================] - 0s 3ms/step - loss: 0.4193 - accuracy: 0.8708 - precision: 0.8401 - recall: 0.9076 - val_loss: 0.4196 - val_accuracy: 0.8676 - val_precision: 0.8632 - val_recall: 0.8860\n",
      "Epoch 39/100\n",
      "32/32 [==============================] - 0s 2ms/step - loss: 0.4118 - accuracy: 0.8718 - precision: 0.8482 - recall: 0.8976 - val_loss: 0.4124 - val_accuracy: 0.8676 - val_precision: 0.8632 - val_recall: 0.8860\n",
      "Epoch 40/100\n",
      "32/32 [==============================] - 0s 2ms/step - loss: 0.4051 - accuracy: 0.8689 - precision: 0.8434 - recall: 0.8976 - val_loss: 0.4060 - val_accuracy: 0.8630 - val_precision: 0.8559 - val_recall: 0.8860\n",
      "Epoch 41/100\n",
      "32/32 [==============================] - 0s 2ms/step - loss: 0.3986 - accuracy: 0.8689 - precision: 0.8383 - recall: 0.9056 - val_loss: 0.4018 - val_accuracy: 0.8630 - val_precision: 0.8621 - val_recall: 0.8772\n",
      "Epoch 42/100\n",
      "32/32 [==============================] - 0s 2ms/step - loss: 0.3927 - accuracy: 0.8689 - precision: 0.8487 - recall: 0.8896 - val_loss: 0.3958 - val_accuracy: 0.8676 - val_precision: 0.8632 - val_recall: 0.8860\n",
      "Epoch 43/100\n",
      "32/32 [==============================] - 0s 3ms/step - loss: 0.3863 - accuracy: 0.8699 - precision: 0.8424 - recall: 0.9016 - val_loss: 0.3918 - val_accuracy: 0.8630 - val_precision: 0.8621 - val_recall: 0.8772\n",
      "Epoch 44/100\n",
      "32/32 [==============================] - 0s 2ms/step - loss: 0.3810 - accuracy: 0.8718 - precision: 0.8549 - recall: 0.8876 - val_loss: 0.3850 - val_accuracy: 0.8676 - val_precision: 0.8632 - val_recall: 0.8860\n",
      "Epoch 45/100\n",
      "32/32 [==============================] - 0s 2ms/step - loss: 0.3761 - accuracy: 0.8728 - precision: 0.8498 - recall: 0.8976 - val_loss: 0.3814 - val_accuracy: 0.8676 - val_precision: 0.8632 - val_recall: 0.8860\n",
      "Epoch 46/100\n",
      "32/32 [==============================] - 0s 2ms/step - loss: 0.3712 - accuracy: 0.8708 - precision: 0.8479 - recall: 0.8956 - val_loss: 0.3777 - val_accuracy: 0.8630 - val_precision: 0.8621 - val_recall: 0.8772\n",
      "Epoch 47/100\n",
      "32/32 [==============================] - 0s 2ms/step - loss: 0.3662 - accuracy: 0.8757 - precision: 0.8574 - recall: 0.8936 - val_loss: 0.3743 - val_accuracy: 0.8630 - val_precision: 0.8621 - val_recall: 0.8772\n",
      "Epoch 48/100\n",
      "32/32 [==============================] - 0s 2ms/step - loss: 0.3619 - accuracy: 0.8738 - precision: 0.8583 - recall: 0.8876 - val_loss: 0.3700 - val_accuracy: 0.8630 - val_precision: 0.8621 - val_recall: 0.8772\n",
      "Epoch 49/100\n",
      "32/32 [==============================] - 0s 2ms/step - loss: 0.3576 - accuracy: 0.8767 - precision: 0.8605 - recall: 0.8916 - val_loss: 0.3686 - val_accuracy: 0.8630 - val_precision: 0.8750 - val_recall: 0.8596\n",
      "Epoch 50/100\n",
      "32/32 [==============================] - 0s 2ms/step - loss: 0.3535 - accuracy: 0.8738 - precision: 0.8611 - recall: 0.8835 - val_loss: 0.3625 - val_accuracy: 0.8676 - val_precision: 0.8632 - val_recall: 0.8860\n",
      "Epoch 51/100\n",
      "32/32 [==============================] - 0s 2ms/step - loss: 0.3499 - accuracy: 0.8757 - precision: 0.8630 - recall: 0.8855 - val_loss: 0.3591 - val_accuracy: 0.8676 - val_precision: 0.8632 - val_recall: 0.8860\n",
      "Epoch 52/100\n",
      "32/32 [==============================] - 0s 2ms/step - loss: 0.3464 - accuracy: 0.8767 - precision: 0.8591 - recall: 0.8936 - val_loss: 0.3575 - val_accuracy: 0.8630 - val_precision: 0.8621 - val_recall: 0.8772\n",
      "Epoch 53/100\n",
      "32/32 [==============================] - 0s 2ms/step - loss: 0.3428 - accuracy: 0.8777 - precision: 0.8635 - recall: 0.8896 - val_loss: 0.3554 - val_accuracy: 0.8630 - val_precision: 0.8750 - val_recall: 0.8596\n",
      "Epoch 54/100\n",
      "32/32 [==============================] - 0s 2ms/step - loss: 0.3396 - accuracy: 0.8777 - precision: 0.8664 - recall: 0.8855 - val_loss: 0.3529 - val_accuracy: 0.8630 - val_precision: 0.8750 - val_recall: 0.8596\n",
      "Epoch 55/100\n",
      "32/32 [==============================] - 0s 2ms/step - loss: 0.3369 - accuracy: 0.8757 - precision: 0.8644 - recall: 0.8835 - val_loss: 0.3495 - val_accuracy: 0.8676 - val_precision: 0.8632 - val_recall: 0.8860\n",
      "Epoch 56/100\n",
      "32/32 [==============================] - 0s 2ms/step - loss: 0.3339 - accuracy: 0.8826 - precision: 0.8677 - recall: 0.8956 - val_loss: 0.3489 - val_accuracy: 0.8630 - val_precision: 0.8750 - val_recall: 0.8596\n",
      "Epoch 57/100\n",
      "32/32 [==============================] - 0s 2ms/step - loss: 0.3313 - accuracy: 0.8796 - precision: 0.8713 - recall: 0.8835 - val_loss: 0.3450 - val_accuracy: 0.8676 - val_precision: 0.8632 - val_recall: 0.8860\n",
      "Epoch 58/100\n",
      "32/32 [==============================] - 0s 2ms/step - loss: 0.3287 - accuracy: 0.8777 - precision: 0.8650 - recall: 0.8876 - val_loss: 0.3438 - val_accuracy: 0.8584 - val_precision: 0.8673 - val_recall: 0.8596\n",
      "Epoch 59/100\n",
      "32/32 [==============================] - 0s 2ms/step - loss: 0.3255 - accuracy: 0.8767 - precision: 0.8605 - recall: 0.8916 - val_loss: 0.3457 - val_accuracy: 0.8539 - val_precision: 0.8796 - val_recall: 0.8333\n",
      "Epoch 60/100\n",
      "32/32 [==============================] - 0s 2ms/step - loss: 0.3242 - accuracy: 0.8806 - precision: 0.8760 - recall: 0.8795 - val_loss: 0.3393 - val_accuracy: 0.8676 - val_precision: 0.8632 - val_recall: 0.8860\n",
      "Epoch 61/100\n",
      "32/32 [==============================] - 0s 2ms/step - loss: 0.3214 - accuracy: 0.8767 - precision: 0.8661 - recall: 0.8835 - val_loss: 0.3374 - val_accuracy: 0.8676 - val_precision: 0.8632 - val_recall: 0.8860\n",
      "Epoch 62/100\n",
      "32/32 [==============================] - 0s 2ms/step - loss: 0.3203 - accuracy: 0.8796 - precision: 0.8698 - recall: 0.8855 - val_loss: 0.3364 - val_accuracy: 0.8721 - val_precision: 0.8707 - val_recall: 0.8860\n",
      "Epoch 63/100\n",
      "32/32 [==============================] - 0s 2ms/step - loss: 0.3179 - accuracy: 0.8806 - precision: 0.8730 - recall: 0.8835 - val_loss: 0.3349 - val_accuracy: 0.8721 - val_precision: 0.8707 - val_recall: 0.8860\n",
      "Epoch 64/100\n",
      "32/32 [==============================] - 0s 3ms/step - loss: 0.3162 - accuracy: 0.8806 - precision: 0.8730 - recall: 0.8835 - val_loss: 0.3332 - val_accuracy: 0.8676 - val_precision: 0.8632 - val_recall: 0.8860\n",
      "Epoch 65/100\n",
      "32/32 [==============================] - 0s 3ms/step - loss: 0.3142 - accuracy: 0.8796 - precision: 0.8743 - recall: 0.8795 - val_loss: 0.3309 - val_accuracy: 0.8676 - val_precision: 0.8632 - val_recall: 0.8860\n",
      "Epoch 66/100\n",
      "32/32 [==============================] - 0s 3ms/step - loss: 0.3124 - accuracy: 0.8806 - precision: 0.8745 - recall: 0.8815 - val_loss: 0.3296 - val_accuracy: 0.8676 - val_precision: 0.8632 - val_recall: 0.8860\n",
      "Epoch 67/100\n",
      "32/32 [==============================] - 0s 3ms/step - loss: 0.3109 - accuracy: 0.8796 - precision: 0.8669 - recall: 0.8896 - val_loss: 0.3298 - val_accuracy: 0.8584 - val_precision: 0.8673 - val_recall: 0.8596\n",
      "Epoch 68/100\n",
      "32/32 [==============================] - 0s 3ms/step - loss: 0.3099 - accuracy: 0.8826 - precision: 0.8750 - recall: 0.8855 - val_loss: 0.3274 - val_accuracy: 0.8630 - val_precision: 0.8621 - val_recall: 0.8772\n",
      "Epoch 69/100\n",
      "32/32 [==============================] - 0s 3ms/step - loss: 0.3086 - accuracy: 0.8806 - precision: 0.8715 - recall: 0.8855 - val_loss: 0.3284 - val_accuracy: 0.8584 - val_precision: 0.8739 - val_recall: 0.8509\n",
      "Epoch 70/100\n",
      "32/32 [==============================] - 0s 3ms/step - loss: 0.3063 - accuracy: 0.8836 - precision: 0.8767 - recall: 0.8855 - val_loss: 0.3265 - val_accuracy: 0.8539 - val_precision: 0.8661 - val_recall: 0.8509\n",
      "Epoch 71/100\n",
      "32/32 [==============================] - 0s 2ms/step - loss: 0.3053 - accuracy: 0.8836 - precision: 0.8782 - recall: 0.8835 - val_loss: 0.3258 - val_accuracy: 0.8584 - val_precision: 0.8739 - val_recall: 0.8509\n",
      "Epoch 72/100\n",
      "32/32 [==============================] - 0s 2ms/step - loss: 0.3048 - accuracy: 0.8836 - precision: 0.8798 - recall: 0.8815 - val_loss: 0.3242 - val_accuracy: 0.8539 - val_precision: 0.8661 - val_recall: 0.8509\n",
      "Epoch 73/100\n",
      "32/32 [==============================] - 0s 2ms/step - loss: 0.3028 - accuracy: 0.8836 - precision: 0.8782 - recall: 0.8835 - val_loss: 0.3219 - val_accuracy: 0.8676 - val_precision: 0.8696 - val_recall: 0.8772\n",
      "Epoch 74/100\n"
     ]
    },
    {
     "name": "stdout",
     "output_type": "stream",
     "text": [
      "32/32 [==============================] - 0s 3ms/step - loss: 0.3012 - accuracy: 0.8865 - precision: 0.8745 - recall: 0.8956 - val_loss: 0.3257 - val_accuracy: 0.8584 - val_precision: 0.8807 - val_recall: 0.8421\n",
      "Epoch 75/100\n",
      "32/32 [==============================] - 0s 3ms/step - loss: 0.3005 - accuracy: 0.8826 - precision: 0.8826 - recall: 0.8755 - val_loss: 0.3202 - val_accuracy: 0.8676 - val_precision: 0.8696 - val_recall: 0.8772\n",
      "Epoch 76/100\n",
      "32/32 [==============================] - 0s 2ms/step - loss: 0.2989 - accuracy: 0.8865 - precision: 0.8790 - recall: 0.8896 - val_loss: 0.3214 - val_accuracy: 0.8584 - val_precision: 0.8739 - val_recall: 0.8509\n",
      "Epoch 77/100\n",
      "32/32 [==============================] - 0s 2ms/step - loss: 0.2982 - accuracy: 0.8855 - precision: 0.8787 - recall: 0.8876 - val_loss: 0.3210 - val_accuracy: 0.8630 - val_precision: 0.8818 - val_recall: 0.8509\n",
      "Epoch 78/100\n",
      "32/32 [==============================] - 0s 2ms/step - loss: 0.2974 - accuracy: 0.8855 - precision: 0.8833 - recall: 0.8815 - val_loss: 0.3167 - val_accuracy: 0.8676 - val_precision: 0.8632 - val_recall: 0.8860\n",
      "Epoch 79/100\n",
      "32/32 [==============================] - 0s 3ms/step - loss: 0.2962 - accuracy: 0.8855 - precision: 0.8802 - recall: 0.8855 - val_loss: 0.3152 - val_accuracy: 0.8721 - val_precision: 0.8644 - val_recall: 0.8947\n",
      "Epoch 80/100\n",
      "32/32 [==============================] - 0s 3ms/step - loss: 0.2950 - accuracy: 0.8885 - precision: 0.8765 - recall: 0.8976 - val_loss: 0.3180 - val_accuracy: 0.8630 - val_precision: 0.8818 - val_recall: 0.8509\n",
      "Epoch 81/100\n",
      "32/32 [==============================] - 0s 3ms/step - loss: 0.2942 - accuracy: 0.8855 - precision: 0.8818 - recall: 0.8835 - val_loss: 0.3143 - val_accuracy: 0.8721 - val_precision: 0.8707 - val_recall: 0.8860\n",
      "Epoch 82/100\n",
      "32/32 [==============================] - 0s 3ms/step - loss: 0.2933 - accuracy: 0.8894 - precision: 0.8782 - recall: 0.8976 - val_loss: 0.3154 - val_accuracy: 0.8584 - val_precision: 0.8739 - val_recall: 0.8509\n",
      "Epoch 83/100\n",
      "32/32 [==============================] - 0s 2ms/step - loss: 0.2926 - accuracy: 0.8885 - precision: 0.8794 - recall: 0.8936 - val_loss: 0.3148 - val_accuracy: 0.8630 - val_precision: 0.8818 - val_recall: 0.8509\n",
      "Epoch 84/100\n",
      "32/32 [==============================] - 0s 2ms/step - loss: 0.2916 - accuracy: 0.8855 - precision: 0.8802 - recall: 0.8855 - val_loss: 0.3137 - val_accuracy: 0.8584 - val_precision: 0.8739 - val_recall: 0.8509\n",
      "Epoch 85/100\n",
      "32/32 [==============================] - 0s 2ms/step - loss: 0.2906 - accuracy: 0.8924 - precision: 0.8865 - recall: 0.8936 - val_loss: 0.3128 - val_accuracy: 0.8584 - val_precision: 0.8739 - val_recall: 0.8509\n",
      "Epoch 86/100\n",
      "32/32 [==============================] - 0s 2ms/step - loss: 0.2895 - accuracy: 0.8914 - precision: 0.8847 - recall: 0.8936 - val_loss: 0.3139 - val_accuracy: 0.8630 - val_precision: 0.8818 - val_recall: 0.8509\n",
      "Epoch 87/100\n",
      "32/32 [==============================] - 0s 2ms/step - loss: 0.2892 - accuracy: 0.8875 - precision: 0.8822 - recall: 0.8876 - val_loss: 0.3120 - val_accuracy: 0.8630 - val_precision: 0.8818 - val_recall: 0.8509\n",
      "Epoch 88/100\n",
      "32/32 [==============================] - 0s 3ms/step - loss: 0.2884 - accuracy: 0.8904 - precision: 0.8799 - recall: 0.8976 - val_loss: 0.3154 - val_accuracy: 0.8630 - val_precision: 0.8889 - val_recall: 0.8421\n",
      "Epoch 89/100\n",
      "32/32 [==============================] - 0s 3ms/step - loss: 0.2871 - accuracy: 0.8894 - precision: 0.8873 - recall: 0.8855 - val_loss: 0.3083 - val_accuracy: 0.8676 - val_precision: 0.8696 - val_recall: 0.8772\n",
      "Epoch 90/100\n",
      "32/32 [==============================] - 0s 3ms/step - loss: 0.2871 - accuracy: 0.8875 - precision: 0.8792 - recall: 0.8916 - val_loss: 0.3100 - val_accuracy: 0.8630 - val_precision: 0.8818 - val_recall: 0.8509\n",
      "Epoch 91/100\n",
      "32/32 [==============================] - 0s 3ms/step - loss: 0.2856 - accuracy: 0.8885 - precision: 0.8810 - recall: 0.8916 - val_loss: 0.3081 - val_accuracy: 0.8721 - val_precision: 0.8772 - val_recall: 0.8772\n",
      "Epoch 92/100\n",
      "32/32 [==============================] - 0s 2ms/step - loss: 0.2851 - accuracy: 0.8875 - precision: 0.8807 - recall: 0.8896 - val_loss: 0.3086 - val_accuracy: 0.8630 - val_precision: 0.8818 - val_recall: 0.8509\n",
      "Epoch 93/100\n",
      "32/32 [==============================] - 0s 3ms/step - loss: 0.2839 - accuracy: 0.8894 - precision: 0.8842 - recall: 0.8896 - val_loss: 0.3057 - val_accuracy: 0.8721 - val_precision: 0.8772 - val_recall: 0.8772\n",
      "Epoch 94/100\n",
      "32/32 [==============================] - 0s 2ms/step - loss: 0.2835 - accuracy: 0.8904 - precision: 0.8829 - recall: 0.8936 - val_loss: 0.3064 - val_accuracy: 0.8721 - val_precision: 0.8772 - val_recall: 0.8772\n",
      "Epoch 95/100\n",
      "32/32 [==============================] - 0s 2ms/step - loss: 0.2829 - accuracy: 0.8865 - precision: 0.8790 - recall: 0.8896 - val_loss: 0.3076 - val_accuracy: 0.8630 - val_precision: 0.8818 - val_recall: 0.8509\n",
      "Epoch 96/100\n",
      "32/32 [==============================] - 0s 2ms/step - loss: 0.2822 - accuracy: 0.8894 - precision: 0.8842 - recall: 0.8896 - val_loss: 0.3061 - val_accuracy: 0.8676 - val_precision: 0.8829 - val_recall: 0.8596\n",
      "Epoch 97/100\n",
      "32/32 [==============================] - 0s 2ms/step - loss: 0.2812 - accuracy: 0.8904 - precision: 0.8829 - recall: 0.8936 - val_loss: 0.3077 - val_accuracy: 0.8630 - val_precision: 0.8818 - val_recall: 0.8509\n",
      "Epoch 98/100\n",
      "32/32 [==============================] - 0s 3ms/step - loss: 0.2801 - accuracy: 0.8904 - precision: 0.8829 - recall: 0.8936 - val_loss: 0.3096 - val_accuracy: 0.8630 - val_precision: 0.8889 - val_recall: 0.8421\n",
      "Epoch 99/100\n",
      "32/32 [==============================] - 0s 3ms/step - loss: 0.2805 - accuracy: 0.8885 - precision: 0.8840 - recall: 0.8876 - val_loss: 0.3059 - val_accuracy: 0.8630 - val_precision: 0.8818 - val_recall: 0.8509\n",
      "Epoch 100/100\n",
      "32/32 [==============================] - 0s 2ms/step - loss: 0.2795 - accuracy: 0.8914 - precision: 0.8878 - recall: 0.8896 - val_loss: 0.3067 - val_accuracy: 0.8676 - val_precision: 0.8899 - val_recall: 0.8509\n"
     ]
    }
   ],
   "source": [
    "model = Sequential([\n",
    "    Dense(32, activation='relu', input_shape=(10,)),\n",
    "    Dense(32, activation='relu'),\n",
    "    Dense(1, activation='sigmoid'),\n",
    "])\n",
    "\n",
    "model.compile(optimizer='sgd',\n",
    "              loss='binary_crossentropy',\n",
    "              metrics=['accuracy', 'Precision', 'Recall'])\n",
    "\n",
    "\n",
    "hist = model.fit(X_train, Y_train,\n",
    "          batch_size=32, epochs=100,\n",
    "          validation_data=(X_val, Y_val))"
   ]
  },
  {
   "cell_type": "code",
   "execution_count": 7,
   "id": "4227c118",
   "metadata": {},
   "outputs": [
    {
     "name": "stdout",
     "output_type": "stream",
     "text": [
      "7/7 [==============================] - 0s 2ms/step - loss: 0.2661 - accuracy: 0.8950 - precision: 0.9346 - recall: 0.8621\n"
     ]
    }
   ],
   "source": [
    "evaluate_results = model.evaluate(X_test, Y_test)"
   ]
  },
  {
   "cell_type": "markdown",
   "id": "69820405",
   "metadata": {},
   "source": [
    "### Loss visualization"
   ]
  },
  {
   "cell_type": "code",
   "execution_count": 8,
   "id": "5586af99",
   "metadata": {},
   "outputs": [
    {
     "data": {
      "image/png": "[encoded data removed]",
      "text/plain": [
       "<Figure size 432x288 with 1 Axes>"
      ]
     },
     "metadata": {
      "needs_background": "light"
     },
     "output_type": "display_data"
    }
   ],
   "source": [
    "plt.plot(hist.history['loss'])\n",
    "plt.plot(hist.history['val_loss'])\n",
    "plt.title('Model loss')\n",
    "plt.ylabel('Loss')\n",
    "plt.xlabel('Epoch')\n",
    "plt.legend(['Train', 'Val'], loc='upper right')\n",
    "plt.show()"
   ]
  },
  {
   "cell_type": "code",
   "execution_count": 9,
   "id": "c8d7ef98",
   "metadata": {},
   "outputs": [
    {
     "data": {
      "image/png": "[encoded data removed]",
      "text/plain": [
       "<Figure size 432x288 with 1 Axes>"
      ]
     },
     "metadata": {
      "needs_background": "light"
     },
     "output_type": "display_data"
    }
   ],
   "source": [
    "plt.plot(hist.history['accuracy'])\n",
    "plt.plot(hist.history['val_accuracy'])\n",
    "plt.title('Model accuracy')\n",
    "plt.ylabel('Accuracy')\n",
    "plt.xlabel('Epoch')\n",
    "plt.legend(['Train', 'Val'], loc='lower right')\n",
    "plt.show()"
   ]
  },
  {
   "cell_type": "markdown",
   "id": "c46a3265",
   "metadata": {},
   "source": [
    "## Hyperparameter Tuning"
   ]
  },
  {
   "cell_type": "code",
   "execution_count": 10,
   "id": "ef5eee1f",
   "metadata": {},
   "outputs": [],
   "source": [
    "def get_mlp_model(hiddenLayerOne=32, hiddenLayerTwo=32):\n",
    "\n",
    "    model = Sequential()\n",
    "    model.add(Dense(hiddenLayerOne, activation=\"relu\", input_shape=(10,)))\n",
    "    model.add(Dense(hiddenLayerTwo, activation=\"relu\"))\n",
    "    model.add(Dense(1, activation=\"sigmoid\"))\n",
    "    \n",
    "    # compile the model\n",
    "    model.compile(optimizer='sgd',\n",
    "              loss='binary_crossentropy',\n",
    "              metrics=['accuracy', 'Precision', 'Recall'])\n",
    "    # return compiled model\n",
    "    return model"
   ]
  },
  {
   "cell_type": "code",
   "execution_count": 13,
   "id": "e85d68c1",
   "metadata": {},
   "outputs": [
    {
     "ename": "ModuleNotFoundError",
     "evalue": "No module named 'scikeras'",
     "output_type": "error",
     "traceback": [
      "\u001b[1;31m---------------------------------------------------------------------------\u001b[0m",
      "\u001b[1;31mModuleNotFoundError\u001b[0m                       Traceback (most recent call last)",
      "Input \u001b[1;32mIn [13]\u001b[0m, in \u001b[0;36m<cell line: 1>\u001b[1;34m()\u001b[0m\n\u001b[1;32m----> 1\u001b[0m \u001b[38;5;28;01mfrom\u001b[39;00m \u001b[38;5;21;01mscikeras\u001b[39;00m\u001b[38;5;21;01m.\u001b[39;00m\u001b[38;5;21;01mwrappers\u001b[39;00m \u001b[38;5;28;01mimport\u001b[39;00m KerasClassifier\n\u001b[0;32m      3\u001b[0m model_2 \u001b[38;5;241m=\u001b[39m KerasClassifier(build_fn\u001b[38;5;241m=\u001b[39mget_mlp_model, verbose\u001b[38;5;241m=\u001b[39m\u001b[38;5;241m0\u001b[39m)\n\u001b[0;32m      5\u001b[0m hiddenLayerOne \u001b[38;5;241m=\u001b[39m [\u001b[38;5;241m2\u001b[39m, \u001b[38;5;241m4\u001b[39m, \u001b[38;5;241m8\u001b[39m,\u001b[38;5;241m16\u001b[39m,\u001b[38;5;241m32\u001b[39m,\u001b[38;5;241m64\u001b[39m,\u001b[38;5;241m128\u001b[39m]\n",
      "\u001b[1;31mModuleNotFoundError\u001b[0m: No module named 'scikeras'"
     ]
    }
   ],
   "source": [
    "from scikeras.wrappers import KerasClassifier\n",
    "\n",
    "model_2 = KerasClassifier(build_fn=get_mlp_model, verbose=0)\n",
    "\n",
    "hiddenLayerOne = [2, 4, 8,16,32,64,128]\n",
    "hiddenLayerTwo = [2, 4, 8,16,32,64,128]\n",
    "batchSize = [4, 8, 16, 32, 64]\n",
    "epochs = [10, 20, 30, 40,50,60,70,80,90,100,110,120,130,140,150,160,170,180,190,200]\n",
    "\n",
    "grid = dict(\n",
    "    hiddenLayerOne=hiddenLayerOne,\n",
    "    hiddenLayerTwo=hiddenLayerTwo,\n",
    "    batch_size=batchSize,\n",
    "    epochs=epochs\n",
    ")"
   ]
  },
  {
   "cell_type": "code",
   "execution_count": null,
   "id": "6b7f3ee7",
   "metadata": {},
   "outputs": [],
   "source": [
    "searcher = GridSearchCV(\n",
    "    estimator=model_2,\n",
    "    param_grid=param_grid,\n",
    "    scoring=\"accuracy\",\n",
    "    cv=3,\n",
    "    n_jobs=-1,\n",
    ")\n",
    "\n",
    "\n",
    "searchResults = searcher.fit(X_train, Y_train)\n",
    "# summarize grid search information\n",
    "bestScore = searchResults.best_score_\n",
    "bestParams = searchResults.best_params_\n",
    "print(\"[INFO] best score is {:.2f} using {}\".format(bestScore, bestParams))"
   ]
  }
 ],
 "metadata": {
  "kernelspec": {
   "display_name": "Python 3 (ipykernel)",
   "language": "python",
   "name": "python3"
  },
  "language_info": {
   "codemirror_mode": {
    "name": "ipython",
    "version": 3
   },
   "file_extension": ".py",
   "mimetype": "text/x-python",
   "name": "python",
   "nbconvert_exporter": "python",
   "pygments_lexer": "ipython3",
   "version": "3.9.12"
  }
 },
 "nbformat": 4,
 "nbformat_minor": 5
}
