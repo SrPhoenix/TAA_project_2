{
 "cells": [
  {
   "cell_type": "markdown",
   "id": "d86fa563",
   "metadata": {},
   "source": [
    "## Project 2 TAA Blog"
   ]
  },
  {
   "cell_type": "code",
   "execution_count": 1,
   "id": "696fa026",
   "metadata": {},
   "outputs": [],
   "source": [
    "import pandas as pd\n",
    "from sklearn import preprocessing\n",
    "from sklearn.model_selection import train_test_split\n",
    "import matplotlib.pyplot as plt"
   ]
  },
  {
   "cell_type": "markdown",
   "id": "4f3d0cf3",
   "metadata": {},
   "source": [
    "### Processing the data"
   ]
  },
  {
   "cell_type": "code",
   "execution_count": 2,
   "id": "b3a8131f",
   "metadata": {},
   "outputs": [],
   "source": [
    "df = pd.read_csv('housepricedata.csv')\n",
    "dataset = df.values\n",
    "\n",
    "X = dataset[:,:-1]\n",
    "Y = dataset[:,-1]\n"
   ]
  },
  {
   "cell_type": "code",
   "execution_count": 3,
   "id": "fdd3186e",
   "metadata": {},
   "outputs": [],
   "source": [
    "min_max_scaler = preprocessing.MinMaxScaler()\n",
    "X_scale = min_max_scaler.fit_transform(X)"
   ]
  },
  {
   "cell_type": "code",
   "execution_count": 4,
   "id": "89e5eaf5",
   "metadata": {},
   "outputs": [],
   "source": [
    "X_train, X_val_and_test, Y_train, Y_val_and_test = train_test_split(X_scale, Y, test_size=0.3)\n",
    "\n",
    "X_val, X_test, Y_val, Y_test = train_test_split(X_val_and_test, Y_val_and_test, test_size=0.5)\n"
   ]
  },
  {
   "cell_type": "markdown",
   "id": "dc3682f4",
   "metadata": {},
   "source": [
    "### Blog NN "
   ]
  },
  {
   "cell_type": "code",
   "execution_count": 5,
   "id": "335670e4",
   "metadata": {
    "scrolled": true
   },
   "outputs": [],
   "source": [
    "from keras.models import Sequential\n",
    "from keras.layers import Dense"
   ]
  },
  {
   "cell_type": "markdown",
   "id": "ce50a6a7",
   "metadata": {},
   "source": [
    "#### Define architecture"
   ]
  },
  {
   "cell_type": "code",
   "execution_count": 6,
   "id": "d183767c",
   "metadata": {},
   "outputs": [
    {
     "name": "stdout",
     "output_type": "stream",
     "text": [
      "Epoch 1/100\n",
      "32/32 [==============================] - 1s 15ms/step - loss: 0.7005 - accuracy: 0.4912 - precision: 0.4762 - recall: 0.0193 - val_loss: 0.6887 - val_accuracy: 0.5434 - val_precision: 0.3684 - val_recall: 0.0737\n",
      "Epoch 2/100\n",
      "32/32 [==============================] - 0s 2ms/step - loss: 0.6858 - accuracy: 0.6027 - precision: 0.7132 - recall: 0.3642 - val_loss: 0.6828 - val_accuracy: 0.5936 - val_precision: 0.5349 - val_recall: 0.4842\n",
      "Epoch 3/100\n",
      "32/32 [==============================] - 0s 2ms/step - loss: 0.6753 - accuracy: 0.6429 - precision: 0.6667 - recall: 0.5934 - val_loss: 0.6780 - val_accuracy: 0.6347 - val_precision: 0.5664 - val_recall: 0.6737\n",
      "Epoch 4/100\n",
      "32/32 [==============================] - 0s 2ms/step - loss: 0.6667 - accuracy: 0.6791 - precision: 0.6462 - recall: 0.8131 - val_loss: 0.6722 - val_accuracy: 0.6393 - val_precision: 0.5597 - val_recall: 0.7895\n",
      "Epoch 5/100\n",
      "32/32 [==============================] - 0s 2ms/step - loss: 0.6584 - accuracy: 0.7025 - precision: 0.6529 - recall: 0.8844 - val_loss: 0.6663 - val_accuracy: 0.6667 - val_precision: 0.5733 - val_recall: 0.9053\n",
      "Epoch 6/100\n",
      "32/32 [==============================] - 0s 2ms/step - loss: 0.6505 - accuracy: 0.7006 - precision: 0.6385 - recall: 0.9461 - val_loss: 0.6595 - val_accuracy: 0.6895 - val_precision: 0.5882 - val_recall: 0.9474\n",
      "Epoch 7/100\n",
      "32/32 [==============================] - 0s 2ms/step - loss: 0.6428 - accuracy: 0.7329 - precision: 0.6662 - recall: 0.9499 - val_loss: 0.6529 - val_accuracy: 0.7169 - val_precision: 0.6107 - val_recall: 0.9579\n",
      "Epoch 8/100\n",
      "32/32 [==============================] - 0s 2ms/step - loss: 0.6350 - accuracy: 0.7407 - precision: 0.6702 - recall: 0.9634 - val_loss: 0.6445 - val_accuracy: 0.7397 - val_precision: 0.6319 - val_recall: 0.9579\n",
      "Epoch 9/100\n",
      "32/32 [==============================] - 0s 2ms/step - loss: 0.6271 - accuracy: 0.7710 - precision: 0.7016 - recall: 0.9557 - val_loss: 0.6363 - val_accuracy: 0.7443 - val_precision: 0.6383 - val_recall: 0.9474\n",
      "Epoch 10/100\n",
      "32/32 [==============================] - 0s 2ms/step - loss: 0.6191 - accuracy: 0.7808 - precision: 0.7122 - recall: 0.9538 - val_loss: 0.6281 - val_accuracy: 0.7580 - val_precision: 0.6544 - val_recall: 0.9368\n",
      "Epoch 11/100\n",
      "32/32 [==============================] - 0s 2ms/step - loss: 0.6112 - accuracy: 0.7994 - precision: 0.7336 - recall: 0.9499 - val_loss: 0.6209 - val_accuracy: 0.7626 - val_precision: 0.6593 - val_recall: 0.9368\n",
      "Epoch 12/100\n",
      "32/32 [==============================] - 0s 2ms/step - loss: 0.6035 - accuracy: 0.7955 - precision: 0.7293 - recall: 0.9499 - val_loss: 0.6130 - val_accuracy: 0.7717 - val_precision: 0.6692 - val_recall: 0.9368\n",
      "Epoch 13/100\n",
      "32/32 [==============================] - 0s 2ms/step - loss: 0.5958 - accuracy: 0.8102 - precision: 0.7466 - recall: 0.9480 - val_loss: 0.6052 - val_accuracy: 0.7763 - val_precision: 0.6742 - val_recall: 0.9368\n",
      "Epoch 14/100\n",
      "32/32 [==============================] - 0s 3ms/step - loss: 0.5875 - accuracy: 0.8082 - precision: 0.7429 - recall: 0.9518 - val_loss: 0.5959 - val_accuracy: 0.7900 - val_precision: 0.6992 - val_recall: 0.9053\n",
      "Epoch 15/100\n",
      "32/32 [==============================] - 0s 2ms/step - loss: 0.5791 - accuracy: 0.8190 - precision: 0.7626 - recall: 0.9345 - val_loss: 0.5879 - val_accuracy: 0.7945 - val_precision: 0.7016 - val_recall: 0.9158\n",
      "Epoch 16/100\n",
      "32/32 [==============================] - 0s 3ms/step - loss: 0.5703 - accuracy: 0.8190 - precision: 0.7601 - recall: 0.9403 - val_loss: 0.5784 - val_accuracy: 0.8082 - val_precision: 0.7227 - val_recall: 0.9053\n",
      "Epoch 17/100\n",
      "32/32 [==============================] - 0s 2ms/step - loss: 0.5614 - accuracy: 0.8268 - precision: 0.7732 - recall: 0.9326 - val_loss: 0.5697 - val_accuracy: 0.8128 - val_precision: 0.7250 - val_recall: 0.9158\n",
      "Epoch 18/100\n",
      "32/32 [==============================] - 0s 2ms/step - loss: 0.5527 - accuracy: 0.8268 - precision: 0.7732 - recall: 0.9326 - val_loss: 0.5604 - val_accuracy: 0.8174 - val_precision: 0.7391 - val_recall: 0.8947\n",
      "Epoch 19/100\n",
      "32/32 [==============================] - 0s 2ms/step - loss: 0.5437 - accuracy: 0.8346 - precision: 0.7841 - recall: 0.9306 - val_loss: 0.5509 - val_accuracy: 0.8174 - val_precision: 0.7434 - val_recall: 0.8842\n",
      "Epoch 20/100\n",
      "32/32 [==============================] - 0s 2ms/step - loss: 0.5344 - accuracy: 0.8327 - precision: 0.7825 - recall: 0.9287 - val_loss: 0.5410 - val_accuracy: 0.8265 - val_precision: 0.7568 - val_recall: 0.8842\n",
      "Epoch 21/100\n",
      "32/32 [==============================] - 0s 2ms/step - loss: 0.5254 - accuracy: 0.8434 - precision: 0.7977 - recall: 0.9268 - val_loss: 0.5319 - val_accuracy: 0.8265 - val_precision: 0.7568 - val_recall: 0.8842\n",
      "Epoch 22/100\n",
      "32/32 [==============================] - 0s 2ms/step - loss: 0.5160 - accuracy: 0.8395 - precision: 0.7963 - recall: 0.9191 - val_loss: 0.5230 - val_accuracy: 0.8311 - val_precision: 0.7589 - val_recall: 0.8947\n",
      "Epoch 23/100\n",
      "32/32 [==============================] - 0s 2ms/step - loss: 0.5069 - accuracy: 0.8464 - precision: 0.8027 - recall: 0.9249 - val_loss: 0.5139 - val_accuracy: 0.8356 - val_precision: 0.7658 - val_recall: 0.8947\n",
      "Epoch 24/100\n",
      "32/32 [==============================] - 0s 2ms/step - loss: 0.4977 - accuracy: 0.8444 - precision: 0.8010 - recall: 0.9229 - val_loss: 0.5027 - val_accuracy: 0.8311 - val_precision: 0.7636 - val_recall: 0.8842\n",
      "Epoch 25/100\n",
      "32/32 [==============================] - 0s 2ms/step - loss: 0.4886 - accuracy: 0.8454 - precision: 0.8044 - recall: 0.9191 - val_loss: 0.4927 - val_accuracy: 0.8311 - val_precision: 0.7685 - val_recall: 0.8737\n",
      "Epoch 26/100\n",
      "32/32 [==============================] - 0s 2ms/step - loss: 0.4796 - accuracy: 0.8542 - precision: 0.8136 - recall: 0.9249 - val_loss: 0.4826 - val_accuracy: 0.8447 - val_precision: 0.7905 - val_recall: 0.8737\n",
      "Epoch 27/100\n",
      "32/32 [==============================] - 0s 2ms/step - loss: 0.4706 - accuracy: 0.8493 - precision: 0.8141 - recall: 0.9114 - val_loss: 0.4747 - val_accuracy: 0.8356 - val_precision: 0.7757 - val_recall: 0.8737\n",
      "Epoch 28/100\n",
      "32/32 [==============================] - 0s 2ms/step - loss: 0.4616 - accuracy: 0.8532 - precision: 0.8132 - recall: 0.9229 - val_loss: 0.4644 - val_accuracy: 0.8539 - val_precision: 0.8058 - val_recall: 0.8737\n",
      "Epoch 29/100\n",
      "32/32 [==============================] - 0s 2ms/step - loss: 0.4530 - accuracy: 0.8611 - precision: 0.8325 - recall: 0.9094 - val_loss: 0.4577 - val_accuracy: 0.8493 - val_precision: 0.7870 - val_recall: 0.8947\n",
      "Epoch 30/100\n",
      "32/32 [==============================] - 0s 2ms/step - loss: 0.4448 - accuracy: 0.8571 - precision: 0.8221 - recall: 0.9171 - val_loss: 0.4482 - val_accuracy: 0.8584 - val_precision: 0.8077 - val_recall: 0.8842\n",
      "Epoch 31/100\n",
      "32/32 [==============================] - 0s 2ms/step - loss: 0.4366 - accuracy: 0.8640 - precision: 0.8299 - recall: 0.9210 - val_loss: 0.4398 - val_accuracy: 0.8630 - val_precision: 0.8155 - val_recall: 0.8842\n",
      "Epoch 32/100\n",
      "32/32 [==============================] - 0s 2ms/step - loss: 0.4287 - accuracy: 0.8650 - precision: 0.8348 - recall: 0.9152 - val_loss: 0.4324 - val_accuracy: 0.8676 - val_precision: 0.8173 - val_recall: 0.8947\n",
      "Epoch 33/100\n",
      "32/32 [==============================] - 0s 2ms/step - loss: 0.4212 - accuracy: 0.8630 - precision: 0.8307 - recall: 0.9171 - val_loss: 0.4238 - val_accuracy: 0.8676 - val_precision: 0.8235 - val_recall: 0.8842\n",
      "Epoch 34/100\n",
      "32/32 [==============================] - 0s 2ms/step - loss: 0.4138 - accuracy: 0.8659 - precision: 0.8351 - recall: 0.9171 - val_loss: 0.4160 - val_accuracy: 0.8676 - val_precision: 0.8235 - val_recall: 0.8842\n",
      "Epoch 35/100\n",
      "32/32 [==============================] - 0s 2ms/step - loss: 0.4068 - accuracy: 0.8659 - precision: 0.8375 - recall: 0.9133 - val_loss: 0.4083 - val_accuracy: 0.8676 - val_precision: 0.8235 - val_recall: 0.8842\n",
      "Epoch 36/100\n",
      "32/32 [==============================] - 0s 2ms/step - loss: 0.3999 - accuracy: 0.8640 - precision: 0.8357 - recall: 0.9114 - val_loss: 0.4011 - val_accuracy: 0.8676 - val_precision: 0.8235 - val_recall: 0.8842\n",
      "Epoch 37/100\n",
      "32/32 [==============================] - 0s 2ms/step - loss: 0.3936 - accuracy: 0.8689 - precision: 0.8419 - recall: 0.9133 - val_loss: 0.3939 - val_accuracy: 0.8721 - val_precision: 0.8384 - val_recall: 0.8737\n"
     ]
    },
    {
     "name": "stdout",
     "output_type": "stream",
     "text": [
      "Epoch 38/100\n",
      "32/32 [==============================] - 0s 2ms/step - loss: 0.3873 - accuracy: 0.8659 - precision: 0.8399 - recall: 0.9094 - val_loss: 0.3872 - val_accuracy: 0.8767 - val_precision: 0.8469 - val_recall: 0.8737\n",
      "Epoch 39/100\n",
      "32/32 [==============================] - 0s 2ms/step - loss: 0.3814 - accuracy: 0.8659 - precision: 0.8399 - recall: 0.9094 - val_loss: 0.3806 - val_accuracy: 0.8767 - val_precision: 0.8617 - val_recall: 0.8526\n",
      "Epoch 40/100\n",
      "32/32 [==============================] - 0s 2ms/step - loss: 0.3758 - accuracy: 0.8669 - precision: 0.8450 - recall: 0.9037 - val_loss: 0.3756 - val_accuracy: 0.8813 - val_precision: 0.8557 - val_recall: 0.8737\n",
      "Epoch 41/100\n",
      "32/32 [==============================] - 0s 2ms/step - loss: 0.3702 - accuracy: 0.8650 - precision: 0.8420 - recall: 0.9037 - val_loss: 0.3708 - val_accuracy: 0.8767 - val_precision: 0.8400 - val_recall: 0.8842\n",
      "Epoch 42/100\n",
      "32/32 [==============================] - 0s 2ms/step - loss: 0.3653 - accuracy: 0.8689 - precision: 0.8456 - recall: 0.9075 - val_loss: 0.3658 - val_accuracy: 0.8767 - val_precision: 0.8400 - val_recall: 0.8842\n",
      "Epoch 43/100\n",
      "32/32 [==============================] - 0s 2ms/step - loss: 0.3610 - accuracy: 0.8699 - precision: 0.8459 - recall: 0.9094 - val_loss: 0.3594 - val_accuracy: 0.8858 - val_precision: 0.8723 - val_recall: 0.8632\n",
      "Epoch 44/100\n",
      "32/32 [==============================] - 0s 2ms/step - loss: 0.3559 - accuracy: 0.8708 - precision: 0.8537 - recall: 0.8998 - val_loss: 0.3567 - val_accuracy: 0.8767 - val_precision: 0.8400 - val_recall: 0.8842\n",
      "Epoch 45/100\n",
      "32/32 [==============================] - 0s 2ms/step - loss: 0.3513 - accuracy: 0.8738 - precision: 0.8520 - recall: 0.9094 - val_loss: 0.3508 - val_accuracy: 0.8813 - val_precision: 0.8557 - val_recall: 0.8737\n",
      "Epoch 46/100\n",
      "32/32 [==============================] - 0s 2ms/step - loss: 0.3472 - accuracy: 0.8748 - precision: 0.8574 - recall: 0.9037 - val_loss: 0.3462 - val_accuracy: 0.8767 - val_precision: 0.8617 - val_recall: 0.8526\n",
      "Epoch 47/100\n",
      "32/32 [==============================] - 0s 2ms/step - loss: 0.3433 - accuracy: 0.8738 - precision: 0.8611 - recall: 0.8960 - val_loss: 0.3429 - val_accuracy: 0.8767 - val_precision: 0.8542 - val_recall: 0.8632\n",
      "Epoch 48/100\n",
      "32/32 [==============================] - 0s 2ms/step - loss: 0.3398 - accuracy: 0.8748 - precision: 0.8523 - recall: 0.9114 - val_loss: 0.3374 - val_accuracy: 0.8813 - val_precision: 0.8710 - val_recall: 0.8526\n",
      "Epoch 49/100\n",
      "32/32 [==============================] - 0s 2ms/step - loss: 0.3367 - accuracy: 0.8806 - precision: 0.8738 - recall: 0.8940 - val_loss: 0.3368 - val_accuracy: 0.8904 - val_precision: 0.8586 - val_recall: 0.8947\n",
      "Epoch 50/100\n",
      "32/32 [==============================] - 0s 2ms/step - loss: 0.3329 - accuracy: 0.8787 - precision: 0.8624 - recall: 0.9056 - val_loss: 0.3317 - val_accuracy: 0.8813 - val_precision: 0.8632 - val_recall: 0.8632\n",
      "Epoch 51/100\n",
      "32/32 [==============================] - 0s 2ms/step - loss: 0.3299 - accuracy: 0.8767 - precision: 0.8659 - recall: 0.8960 - val_loss: 0.3286 - val_accuracy: 0.8813 - val_precision: 0.8632 - val_recall: 0.8632\n",
      "Epoch 52/100\n",
      "32/32 [==============================] - 0s 2ms/step - loss: 0.3273 - accuracy: 0.8787 - precision: 0.8678 - recall: 0.8979 - val_loss: 0.3260 - val_accuracy: 0.8813 - val_precision: 0.8557 - val_recall: 0.8737\n",
      "Epoch 53/100\n",
      "32/32 [==============================] - 0s 2ms/step - loss: 0.3239 - accuracy: 0.8816 - precision: 0.8727 - recall: 0.8979 - val_loss: 0.3225 - val_accuracy: 0.8858 - val_precision: 0.8646 - val_recall: 0.8737\n",
      "Epoch 54/100\n",
      "32/32 [==============================] - 0s 2ms/step - loss: 0.3212 - accuracy: 0.8816 - precision: 0.8713 - recall: 0.8998 - val_loss: 0.3194 - val_accuracy: 0.8813 - val_precision: 0.8632 - val_recall: 0.8632\n",
      "Epoch 55/100\n",
      "32/32 [==============================] - 0s 2ms/step - loss: 0.3186 - accuracy: 0.8806 - precision: 0.8696 - recall: 0.8998 - val_loss: 0.3174 - val_accuracy: 0.8858 - val_precision: 0.8646 - val_recall: 0.8737\n",
      "Epoch 56/100\n",
      "32/32 [==============================] - 0s 2ms/step - loss: 0.3164 - accuracy: 0.8826 - precision: 0.8715 - recall: 0.9017 - val_loss: 0.3140 - val_accuracy: 0.8858 - val_precision: 0.8804 - val_recall: 0.8526\n",
      "Epoch 57/100\n",
      "32/32 [==============================] - 0s 2ms/step - loss: 0.3138 - accuracy: 0.8806 - precision: 0.8710 - recall: 0.8979 - val_loss: 0.3130 - val_accuracy: 0.8858 - val_precision: 0.8646 - val_recall: 0.8737\n",
      "Epoch 58/100\n",
      "32/32 [==============================] - 0s 2ms/step - loss: 0.3122 - accuracy: 0.8816 - precision: 0.8713 - recall: 0.8998 - val_loss: 0.3111 - val_accuracy: 0.8904 - val_precision: 0.8660 - val_recall: 0.8842\n",
      "Epoch 59/100\n",
      "32/32 [==============================] - 0s 2ms/step - loss: 0.3105 - accuracy: 0.8796 - precision: 0.8708 - recall: 0.8960 - val_loss: 0.3087 - val_accuracy: 0.8904 - val_precision: 0.8660 - val_recall: 0.8842\n",
      "Epoch 60/100\n",
      "32/32 [==============================] - 0s 2ms/step - loss: 0.3080 - accuracy: 0.8777 - precision: 0.8689 - recall: 0.8940 - val_loss: 0.3067 - val_accuracy: 0.8950 - val_precision: 0.8750 - val_recall: 0.8842\n",
      "Epoch 61/100\n",
      "32/32 [==============================] - 0s 2ms/step - loss: 0.3060 - accuracy: 0.8816 - precision: 0.8713 - recall: 0.8998 - val_loss: 0.3053 - val_accuracy: 0.8950 - val_precision: 0.8750 - val_recall: 0.8842\n",
      "Epoch 62/100\n",
      "32/32 [==============================] - 0s 2ms/step - loss: 0.3043 - accuracy: 0.8796 - precision: 0.8722 - recall: 0.8940 - val_loss: 0.3029 - val_accuracy: 0.8995 - val_precision: 0.8925 - val_recall: 0.8737\n",
      "Epoch 63/100\n",
      "32/32 [==============================] - 0s 2ms/step - loss: 0.3023 - accuracy: 0.8767 - precision: 0.8687 - recall: 0.8921 - val_loss: 0.3014 - val_accuracy: 0.8995 - val_precision: 0.8842 - val_recall: 0.8842\n",
      "Epoch 64/100\n",
      "32/32 [==============================] - 0s 2ms/step - loss: 0.3005 - accuracy: 0.8796 - precision: 0.8764 - recall: 0.8882 - val_loss: 0.3015 - val_accuracy: 0.8950 - val_precision: 0.8750 - val_recall: 0.8842\n",
      "Epoch 65/100\n",
      "32/32 [==============================] - 0s 2ms/step - loss: 0.2995 - accuracy: 0.8767 - precision: 0.8646 - recall: 0.8979 - val_loss: 0.2975 - val_accuracy: 0.8995 - val_precision: 0.8925 - val_recall: 0.8737\n",
      "Epoch 66/100\n",
      "32/32 [==============================] - 0s 2ms/step - loss: 0.2977 - accuracy: 0.8777 - precision: 0.8717 - recall: 0.8902 - val_loss: 0.2964 - val_accuracy: 0.8995 - val_precision: 0.8925 - val_recall: 0.8737\n",
      "Epoch 67/100\n",
      "32/32 [==============================] - 0s 2ms/step - loss: 0.2959 - accuracy: 0.8787 - precision: 0.8705 - recall: 0.8940 - val_loss: 0.2948 - val_accuracy: 0.8995 - val_precision: 0.8925 - val_recall: 0.8737\n",
      "Epoch 68/100\n",
      "32/32 [==============================] - 0s 2ms/step - loss: 0.2953 - accuracy: 0.8787 - precision: 0.8733 - recall: 0.8902 - val_loss: 0.2947 - val_accuracy: 0.9041 - val_precision: 0.8936 - val_recall: 0.8842\n",
      "Epoch 69/100\n",
      "32/32 [==============================] - 0s 2ms/step - loss: 0.2933 - accuracy: 0.8787 - precision: 0.8692 - recall: 0.8960 - val_loss: 0.2924 - val_accuracy: 0.8995 - val_precision: 0.8925 - val_recall: 0.8737\n",
      "Epoch 70/100\n",
      "32/32 [==============================] - 0s 3ms/step - loss: 0.2923 - accuracy: 0.8757 - precision: 0.8726 - recall: 0.8844 - val_loss: 0.2912 - val_accuracy: 0.9087 - val_precision: 0.9121 - val_recall: 0.8737\n",
      "Epoch 71/100\n",
      "32/32 [==============================] - 0s 2ms/step - loss: 0.2911 - accuracy: 0.8796 - precision: 0.8722 - recall: 0.8940 - val_loss: 0.2901 - val_accuracy: 0.9087 - val_precision: 0.9121 - val_recall: 0.8737\n",
      "Epoch 72/100\n",
      "32/32 [==============================] - 0s 2ms/step - loss: 0.2895 - accuracy: 0.8757 - precision: 0.8726 - recall: 0.8844 - val_loss: 0.2916 - val_accuracy: 0.9041 - val_precision: 0.8776 - val_recall: 0.9053\n",
      "Epoch 73/100\n",
      "32/32 [==============================] - 0s 2ms/step - loss: 0.2890 - accuracy: 0.8796 - precision: 0.8722 - recall: 0.8940 - val_loss: 0.2882 - val_accuracy: 0.8995 - val_precision: 0.8925 - val_recall: 0.8737\n",
      "Epoch 74/100\n"
     ]
    },
    {
     "name": "stdout",
     "output_type": "stream",
     "text": [
      "32/32 [==============================] - 0s 2ms/step - loss: 0.2869 - accuracy: 0.8767 - precision: 0.8715 - recall: 0.8882 - val_loss: 0.2878 - val_accuracy: 0.9041 - val_precision: 0.8936 - val_recall: 0.8842\n",
      "Epoch 75/100\n",
      "32/32 [==============================] - 0s 2ms/step - loss: 0.2861 - accuracy: 0.8767 - precision: 0.8701 - recall: 0.8902 - val_loss: 0.2864 - val_accuracy: 0.9041 - val_precision: 0.8936 - val_recall: 0.8842\n",
      "Epoch 76/100\n",
      "32/32 [==============================] - 0s 2ms/step - loss: 0.2848 - accuracy: 0.8787 - precision: 0.8692 - recall: 0.8960 - val_loss: 0.2855 - val_accuracy: 0.9132 - val_precision: 0.9222 - val_recall: 0.8737\n",
      "Epoch 77/100\n",
      "32/32 [==============================] - 0s 2ms/step - loss: 0.2848 - accuracy: 0.8796 - precision: 0.8779 - recall: 0.8863 - val_loss: 0.2850 - val_accuracy: 0.9087 - val_precision: 0.8947 - val_recall: 0.8947\n",
      "Epoch 78/100\n",
      "32/32 [==============================] - 0s 2ms/step - loss: 0.2828 - accuracy: 0.8787 - precision: 0.8762 - recall: 0.8863 - val_loss: 0.2849 - val_accuracy: 0.9087 - val_precision: 0.8947 - val_recall: 0.8947\n",
      "Epoch 79/100\n",
      "32/32 [==============================] - 0s 2ms/step - loss: 0.2825 - accuracy: 0.8767 - precision: 0.8687 - recall: 0.8921 - val_loss: 0.2833 - val_accuracy: 0.9132 - val_precision: 0.9043 - val_recall: 0.8947\n",
      "Epoch 80/100\n",
      "32/32 [==============================] - 0s 2ms/step - loss: 0.2812 - accuracy: 0.8767 - precision: 0.8729 - recall: 0.8863 - val_loss: 0.2832 - val_accuracy: 0.9087 - val_precision: 0.8947 - val_recall: 0.8947\n",
      "Epoch 81/100\n",
      "32/32 [==============================] - 0s 2ms/step - loss: 0.2807 - accuracy: 0.8777 - precision: 0.8703 - recall: 0.8921 - val_loss: 0.2814 - val_accuracy: 0.9132 - val_precision: 0.9222 - val_recall: 0.8737\n",
      "Epoch 82/100\n",
      "32/32 [==============================] - 0s 2ms/step - loss: 0.2793 - accuracy: 0.8806 - precision: 0.8781 - recall: 0.8882 - val_loss: 0.2818 - val_accuracy: 0.9087 - val_precision: 0.8947 - val_recall: 0.8947\n",
      "Epoch 83/100\n",
      "32/32 [==============================] - 0s 2ms/step - loss: 0.2782 - accuracy: 0.8777 - precision: 0.8731 - recall: 0.8882 - val_loss: 0.2817 - val_accuracy: 0.9132 - val_precision: 0.8958 - val_recall: 0.9053\n",
      "Epoch 84/100\n",
      "32/32 [==============================] - 0s 2ms/step - loss: 0.2779 - accuracy: 0.8826 - precision: 0.8786 - recall: 0.8921 - val_loss: 0.2808 - val_accuracy: 0.9132 - val_precision: 0.8958 - val_recall: 0.9053\n",
      "Epoch 85/100\n",
      "32/32 [==============================] - 0s 2ms/step - loss: 0.2765 - accuracy: 0.8787 - precision: 0.8705 - recall: 0.8940 - val_loss: 0.2790 - val_accuracy: 0.9132 - val_precision: 0.9222 - val_recall: 0.8737\n",
      "Epoch 86/100\n",
      "32/32 [==============================] - 0s 2ms/step - loss: 0.2759 - accuracy: 0.8806 - precision: 0.8795 - recall: 0.8863 - val_loss: 0.2787 - val_accuracy: 0.9224 - val_precision: 0.9239 - val_recall: 0.8947\n",
      "Epoch 87/100\n",
      "32/32 [==============================] - 0s 2ms/step - loss: 0.2753 - accuracy: 0.8806 - precision: 0.8752 - recall: 0.8921 - val_loss: 0.2778 - val_accuracy: 0.9178 - val_precision: 0.9231 - val_recall: 0.8842\n",
      "Epoch 88/100\n",
      "32/32 [==============================] - 0s 2ms/step - loss: 0.2744 - accuracy: 0.8826 - precision: 0.8800 - recall: 0.8902 - val_loss: 0.2773 - val_accuracy: 0.9224 - val_precision: 0.9239 - val_recall: 0.8947\n",
      "Epoch 89/100\n",
      "32/32 [==============================] - 0s 2ms/step - loss: 0.2740 - accuracy: 0.8796 - precision: 0.8779 - recall: 0.8863 - val_loss: 0.2778 - val_accuracy: 0.9178 - val_precision: 0.9053 - val_recall: 0.9053\n",
      "Epoch 90/100\n",
      "32/32 [==============================] - 0s 2ms/step - loss: 0.2728 - accuracy: 0.8806 - precision: 0.8767 - recall: 0.8902 - val_loss: 0.2773 - val_accuracy: 0.9178 - val_precision: 0.9053 - val_recall: 0.9053\n",
      "Epoch 91/100\n",
      "32/32 [==============================] - 0s 2ms/step - loss: 0.2727 - accuracy: 0.8816 - precision: 0.8755 - recall: 0.8940 - val_loss: 0.2766 - val_accuracy: 0.9224 - val_precision: 0.9149 - val_recall: 0.9053\n",
      "Epoch 92/100\n",
      "32/32 [==============================] - 0s 2ms/step - loss: 0.2716 - accuracy: 0.8826 - precision: 0.8800 - recall: 0.8902 - val_loss: 0.2761 - val_accuracy: 0.9224 - val_precision: 0.9149 - val_recall: 0.9053\n",
      "Epoch 93/100\n",
      "32/32 [==============================] - 0s 2ms/step - loss: 0.2707 - accuracy: 0.8845 - precision: 0.8805 - recall: 0.8940 - val_loss: 0.2758 - val_accuracy: 0.9224 - val_precision: 0.9149 - val_recall: 0.9053\n",
      "Epoch 94/100\n",
      "32/32 [==============================] - 0s 2ms/step - loss: 0.2705 - accuracy: 0.8816 - precision: 0.8769 - recall: 0.8921 - val_loss: 0.2744 - val_accuracy: 0.9224 - val_precision: 0.9239 - val_recall: 0.8947\n",
      "Epoch 95/100\n",
      "32/32 [==============================] - 0s 2ms/step - loss: 0.2693 - accuracy: 0.8845 - precision: 0.8819 - recall: 0.8921 - val_loss: 0.2741 - val_accuracy: 0.9224 - val_precision: 0.9239 - val_recall: 0.8947\n",
      "Epoch 96/100\n",
      "32/32 [==============================] - 0s 2ms/step - loss: 0.2684 - accuracy: 0.8806 - precision: 0.8795 - recall: 0.8863 - val_loss: 0.2757 - val_accuracy: 0.9132 - val_precision: 0.8958 - val_recall: 0.9053\n",
      "Epoch 97/100\n",
      "32/32 [==============================] - 0s 2ms/step - loss: 0.2689 - accuracy: 0.8806 - precision: 0.8738 - recall: 0.8940 - val_loss: 0.2738 - val_accuracy: 0.9269 - val_precision: 0.9247 - val_recall: 0.9053\n",
      "Epoch 98/100\n",
      "32/32 [==============================] - 0s 2ms/step - loss: 0.2677 - accuracy: 0.8816 - precision: 0.8769 - recall: 0.8921 - val_loss: 0.2727 - val_accuracy: 0.9178 - val_precision: 0.9231 - val_recall: 0.8842\n",
      "Epoch 99/100\n",
      "32/32 [==============================] - 0s 2ms/step - loss: 0.2654 - accuracy: 0.8787 - precision: 0.8748 - recall: 0.8882 - val_loss: 0.2733 - val_accuracy: 0.9132 - val_precision: 0.9222 - val_recall: 0.8737\n",
      "Epoch 100/100\n",
      "32/32 [==============================] - 0s 2ms/step - loss: 0.2664 - accuracy: 0.8826 - precision: 0.8815 - recall: 0.8882 - val_loss: 0.2724 - val_accuracy: 0.9269 - val_precision: 0.9247 - val_recall: 0.9053\n"
     ]
    }
   ],
   "source": [
    "model = Sequential([\n",
    "    Dense(32, activation='relu', input_shape=(10,)),\n",
    "    Dense(32, activation='relu'),\n",
    "    Dense(1, activation='sigmoid'),\n",
    "])\n",
    "\n",
    "model.compile(optimizer='sgd',\n",
    "              loss='binary_crossentropy',\n",
    "              metrics=['accuracy', 'Precision', 'Recall'])\n",
    "\n",
    "\n",
    "hist = model.fit(X_train, Y_train,\n",
    "          batch_size=32, epochs=100,\n",
    "          validation_data=(X_val, Y_val))"
   ]
  },
  {
   "cell_type": "code",
   "execution_count": 7,
   "id": "4227c118",
   "metadata": {},
   "outputs": [
    {
     "name": "stdout",
     "output_type": "stream",
     "text": [
      "7/7 [==============================] - 0s 2ms/step - loss: 0.3024 - accuracy: 0.8858 - precision: 0.8678 - recall: 0.9211\n"
     ]
    }
   ],
   "source": [
    "evaluate_results = model.evaluate(X_test, Y_test)"
   ]
  },
  {
   "cell_type": "markdown",
   "id": "69820405",
   "metadata": {},
   "source": [
    "### Loss visualization"
   ]
  },
  {
   "cell_type": "code",
   "execution_count": 8,
   "id": "5586af99",
   "metadata": {},
   "outputs": [
    {
     "data": {
      "image/png": "[encoded data removed]",
      "text/plain": [
       "<Figure size 432x288 with 1 Axes>"
      ]
     },
     "metadata": {
      "needs_background": "light"
     },
     "output_type": "display_data"
    }
   ],
   "source": [
    "plt.plot(hist.history['loss'])\n",
    "plt.plot(hist.history['val_loss'])\n",
    "plt.title('Model loss')\n",
    "plt.ylabel('Loss')\n",
    "plt.xlabel('Epoch')\n",
    "plt.legend(['Train', 'Val'], loc='upper right')\n",
    "plt.show()"
   ]
  },
  {
   "cell_type": "code",
   "execution_count": 9,
   "id": "c8d7ef98",
   "metadata": {},
   "outputs": [
    {
     "data": {
      "image/png": "[encoded data removed]",
      "text/plain": [
       "<Figure size 432x288 with 1 Axes>"
      ]
     },
     "metadata": {
      "needs_background": "light"
     },
     "output_type": "display_data"
    }
   ],
   "source": [
    "plt.plot(hist.history['accuracy'])\n",
    "plt.plot(hist.history['val_accuracy'])\n",
    "plt.title('Model accuracy')\n",
    "plt.ylabel('Accuracy')\n",
    "plt.xlabel('Epoch')\n",
    "plt.legend(['Train', 'Val'], loc='lower right')\n",
    "plt.show()"
   ]
  },
  {
   "cell_type": "markdown",
   "id": "417529e4",
   "metadata": {},
   "source": [
    "## Hyperparameter Tuning"
   ]
  },
  {
   "cell_type": "code",
   "execution_count": 10,
   "id": "ef5eee1f",
   "metadata": {},
   "outputs": [],
   "source": [
    "def get_mlp_model(hiddenLayerOne=32, hiddenLayerTwo=32):\n",
    "\n",
    "    model = Sequential()\n",
    "    model.add(Dense(hiddenLayerOne, activation=\"relu\", input_shape=(10,)))\n",
    "    model.add(Dense(hiddenLayerTwo, activation=\"relu\"))\n",
    "    model.add(Dense(1, activation=\"sigmoid\"))\n",
    "    \n",
    "    # compile the model\n",
    "    model.compile(optimizer='sgd',\n",
    "              loss='binary_crossentropy',\n",
    "              metrics=['accuracy', 'Precision', 'Recall'])\n",
    "    # return compiled model\n",
    "    return model"
   ]
  },
  {
   "cell_type": "code",
   "execution_count": 17,
   "id": "8863c846",
   "metadata": {},
   "outputs": [],
   "source": [
    "from scikeras.wrappers import KerasClassifier\n",
    "\n",
    "model_2 = KerasClassifier(model=get_mlp_model, hiddenLayerOne = 32, hiddenLayerTwo = 32, verbose=0)\n",
    "\n",
    "hiddenLayerOne = [2, 4, 8,16,32,64,128]\n",
    "hiddenLayerTwo = [2, 4, 8,16,32,64,128]\n",
    "batchSize = [4, 8, 16, 32, 64]\n",
    "epochs = [10, 20, 30, 40,50,60,70,80,90,100,110,120,130,140,150,160,170,180,190,200]\n",
    "\n",
    "grid = dict(\n",
    "    hiddenLayerOne=hiddenLayerOne,\n",
    "    hiddenLayerTwo=hiddenLayerTwo,\n",
    "    batch_size=batchSize,\n",
    "    epochs=epochs\n",
    ")"
   ]
  },
  {
   "cell_type": "code",
   "execution_count": 18,
   "id": "4af12158",
   "metadata": {},
   "outputs": [
    {
     "name": "stderr",
     "output_type": "stream",
     "text": [
      "D:\\Anaconda3\\envs\\tf\\lib\\site-packages\\sklearn\\model_selection\\_validation.py:372: FitFailedWarning: \n",
      "300 fits failed out of a total of 300.\n",
      "The score on these train-test partitions for these parameters will be set to nan.\n",
      "If these failures are not expected, you can try to debug them by setting error_score='raise'.\n",
      "\n",
      "Below are more details about the failures:\n",
      "--------------------------------------------------------------------------------\n",
      "300 fits failed with the following error:\n",
      "Traceback (most recent call last):\n",
      "  File \"D:\\Anaconda3\\envs\\tf\\lib\\site-packages\\sklearn\\model_selection\\_validation.py\", line 680, in _fit_and_score\n",
      "    estimator.fit(X_train, y_train, **fit_params)\n",
      "  File \"D:\\Anaconda3\\envs\\tf\\lib\\site-packages\\scikeras\\wrappers.py\", line 1474, in fit\n",
      "    super().fit(X=X, y=y, sample_weight=sample_weight, **kwargs)\n",
      "  File \"D:\\Anaconda3\\envs\\tf\\lib\\site-packages\\scikeras\\wrappers.py\", line 742, in fit\n",
      "    self._fit(\n",
      "  File \"D:\\Anaconda3\\envs\\tf\\lib\\site-packages\\scikeras\\wrappers.py\", line 898, in _fit\n",
      "    X, y = self._initialize(X, y)\n",
      "  File \"D:\\Anaconda3\\envs\\tf\\lib\\site-packages\\scikeras\\wrappers.py\", line 835, in _initialize\n",
      "    self.model_ = self._build_keras_model()\n",
      "  File \"D:\\Anaconda3\\envs\\tf\\lib\\site-packages\\scikeras\\wrappers.py\", line 420, in _build_keras_model\n",
      "    model = final_build_fn(**build_params)\n",
      "  File \"D:\\Temp\\ipykernel_16628\\2197088543.py\", line 4, in get_mlp_model\n",
      "  File \"D:\\Anaconda3\\envs\\tf\\lib\\site-packages\\keras\\layers\\core\\dense.py\", line 114, in __init__\n",
      "    self.units = int(units) if not isinstance(units, int) else units\n",
      "TypeError: int() argument must be a string, a bytes-like object or a number, not 'list'\n",
      "\n",
      "  warnings.warn(some_fits_failed_message, FitFailedWarning)\n",
      "D:\\Anaconda3\\envs\\tf\\lib\\site-packages\\sklearn\\model_selection\\_search.py:969: UserWarning: One or more of the test scores are non-finite: [nan nan nan nan nan nan nan nan nan nan nan nan nan nan nan nan nan nan\n",
      " nan nan nan nan nan nan nan nan nan nan nan nan nan nan nan nan nan nan\n",
      " nan nan nan nan nan nan nan nan nan nan nan nan nan nan nan nan nan nan\n",
      " nan nan nan nan nan nan nan nan nan nan nan nan nan nan nan nan nan nan\n",
      " nan nan nan nan nan nan nan nan nan nan nan nan nan nan nan nan nan nan\n",
      " nan nan nan nan nan nan nan nan nan nan]\n",
      "  warnings.warn(\n"
     ]
    },
    {
     "ename": "TypeError",
     "evalue": "int() argument must be a string, a bytes-like object or a number, not 'list'",
     "output_type": "error",
     "traceback": [
      "\u001b[1;31m---------------------------------------------------------------------------\u001b[0m",
      "\u001b[1;31mTypeError\u001b[0m                                 Traceback (most recent call last)",
      "Input \u001b[1;32mIn [18]\u001b[0m, in \u001b[0;36m<cell line: 12>\u001b[1;34m()\u001b[0m\n\u001b[0;32m      1\u001b[0m \u001b[38;5;28;01mfrom\u001b[39;00m \u001b[38;5;21;01msklearn\u001b[39;00m\u001b[38;5;21;01m.\u001b[39;00m\u001b[38;5;21;01mmodel_selection\u001b[39;00m \u001b[38;5;28;01mimport\u001b[39;00m GridSearchCV\n\u001b[0;32m      3\u001b[0m searcher \u001b[38;5;241m=\u001b[39m GridSearchCV(\n\u001b[0;32m      4\u001b[0m     estimator\u001b[38;5;241m=\u001b[39mmodel_2,\n\u001b[0;32m      5\u001b[0m     param_grid\u001b[38;5;241m=\u001b[39mgrid,\n\u001b[1;32m   (...)\u001b[0m\n\u001b[0;32m      8\u001b[0m     n_jobs\u001b[38;5;241m=\u001b[39m\u001b[38;5;241m-\u001b[39m\u001b[38;5;241m1\u001b[39m,\n\u001b[0;32m      9\u001b[0m )\n\u001b[1;32m---> 12\u001b[0m searchResults \u001b[38;5;241m=\u001b[39m \u001b[43msearcher\u001b[49m\u001b[38;5;241;43m.\u001b[39;49m\u001b[43mfit\u001b[49m\u001b[43m(\u001b[49m\u001b[43mX_train\u001b[49m\u001b[43m,\u001b[49m\u001b[43m \u001b[49m\u001b[43mY_train\u001b[49m\u001b[43m)\u001b[49m\n\u001b[0;32m     13\u001b[0m \u001b[38;5;66;03m# summarize grid search information\u001b[39;00m\n\u001b[0;32m     14\u001b[0m bestScore \u001b[38;5;241m=\u001b[39m searchResults\u001b[38;5;241m.\u001b[39mbest_score_\n",
      "File \u001b[1;32mD:\\Anaconda3\\envs\\tf\\lib\\site-packages\\sklearn\\model_selection\\_search.py:926\u001b[0m, in \u001b[0;36mBaseSearchCV.fit\u001b[1;34m(self, X, y, groups, **fit_params)\u001b[0m\n\u001b[0;32m    924\u001b[0m refit_start_time \u001b[38;5;241m=\u001b[39m time\u001b[38;5;241m.\u001b[39mtime()\n\u001b[0;32m    925\u001b[0m \u001b[38;5;28;01mif\u001b[39;00m y \u001b[38;5;129;01mis\u001b[39;00m \u001b[38;5;129;01mnot\u001b[39;00m \u001b[38;5;28;01mNone\u001b[39;00m:\n\u001b[1;32m--> 926\u001b[0m     \u001b[38;5;28mself\u001b[39m\u001b[38;5;241m.\u001b[39mbest_estimator_\u001b[38;5;241m.\u001b[39mfit(X, y, \u001b[38;5;241m*\u001b[39m\u001b[38;5;241m*\u001b[39mfit_params)\n\u001b[0;32m    927\u001b[0m \u001b[38;5;28;01melse\u001b[39;00m:\n\u001b[0;32m    928\u001b[0m     \u001b[38;5;28mself\u001b[39m\u001b[38;5;241m.\u001b[39mbest_estimator_\u001b[38;5;241m.\u001b[39mfit(X, \u001b[38;5;241m*\u001b[39m\u001b[38;5;241m*\u001b[39mfit_params)\n",
      "File \u001b[1;32mD:\\Anaconda3\\envs\\tf\\lib\\site-packages\\scikeras\\wrappers.py:1474\u001b[0m, in \u001b[0;36mKerasClassifier.fit\u001b[1;34m(self, X, y, sample_weight, **kwargs)\u001b[0m\n\u001b[0;32m   1472\u001b[0m     sample_weight \u001b[38;5;241m=\u001b[39m \u001b[38;5;241m1\u001b[39m \u001b[38;5;28;01mif\u001b[39;00m sample_weight \u001b[38;5;129;01mis\u001b[39;00m \u001b[38;5;28;01mNone\u001b[39;00m \u001b[38;5;28;01melse\u001b[39;00m sample_weight\n\u001b[0;32m   1473\u001b[0m     sample_weight \u001b[38;5;241m*\u001b[39m\u001b[38;5;241m=\u001b[39m compute_sample_weight(class_weight\u001b[38;5;241m=\u001b[39m\u001b[38;5;28mself\u001b[39m\u001b[38;5;241m.\u001b[39mclass_weight, y\u001b[38;5;241m=\u001b[39my)\n\u001b[1;32m-> 1474\u001b[0m \u001b[38;5;28msuper\u001b[39m()\u001b[38;5;241m.\u001b[39mfit(X\u001b[38;5;241m=\u001b[39mX, y\u001b[38;5;241m=\u001b[39my, sample_weight\u001b[38;5;241m=\u001b[39msample_weight, \u001b[38;5;241m*\u001b[39m\u001b[38;5;241m*\u001b[39mkwargs)\n\u001b[0;32m   1475\u001b[0m \u001b[38;5;28;01mreturn\u001b[39;00m \u001b[38;5;28mself\u001b[39m\n",
      "File \u001b[1;32mD:\\Anaconda3\\envs\\tf\\lib\\site-packages\\scikeras\\wrappers.py:742\u001b[0m, in \u001b[0;36mBaseWrapper.fit\u001b[1;34m(self, X, y, sample_weight, **kwargs)\u001b[0m\n\u001b[0;32m    737\u001b[0m kwargs[\u001b[38;5;124m\"\u001b[39m\u001b[38;5;124mepochs\u001b[39m\u001b[38;5;124m\"\u001b[39m] \u001b[38;5;241m=\u001b[39m kwargs\u001b[38;5;241m.\u001b[39mget(\n\u001b[0;32m    738\u001b[0m     \u001b[38;5;124m\"\u001b[39m\u001b[38;5;124mepochs\u001b[39m\u001b[38;5;124m\"\u001b[39m, \u001b[38;5;28mgetattr\u001b[39m(\u001b[38;5;28mself\u001b[39m, \u001b[38;5;124m\"\u001b[39m\u001b[38;5;124mfit__epochs\u001b[39m\u001b[38;5;124m\"\u001b[39m, \u001b[38;5;28mself\u001b[39m\u001b[38;5;241m.\u001b[39mepochs)\n\u001b[0;32m    739\u001b[0m )\n\u001b[0;32m    740\u001b[0m kwargs[\u001b[38;5;124m\"\u001b[39m\u001b[38;5;124minitial_epoch\u001b[39m\u001b[38;5;124m\"\u001b[39m] \u001b[38;5;241m=\u001b[39m kwargs\u001b[38;5;241m.\u001b[39mget(\u001b[38;5;124m\"\u001b[39m\u001b[38;5;124minitial_epoch\u001b[39m\u001b[38;5;124m\"\u001b[39m, \u001b[38;5;241m0\u001b[39m)\n\u001b[1;32m--> 742\u001b[0m \u001b[38;5;28mself\u001b[39m\u001b[38;5;241m.\u001b[39m_fit(\n\u001b[0;32m    743\u001b[0m     X\u001b[38;5;241m=\u001b[39mX,\n\u001b[0;32m    744\u001b[0m     y\u001b[38;5;241m=\u001b[39my,\n\u001b[0;32m    745\u001b[0m     sample_weight\u001b[38;5;241m=\u001b[39msample_weight,\n\u001b[0;32m    746\u001b[0m     warm_start\u001b[38;5;241m=\u001b[39m\u001b[38;5;28mself\u001b[39m\u001b[38;5;241m.\u001b[39mwarm_start,\n\u001b[0;32m    747\u001b[0m     \u001b[38;5;241m*\u001b[39m\u001b[38;5;241m*\u001b[39mkwargs,\n\u001b[0;32m    748\u001b[0m )\n\u001b[0;32m    750\u001b[0m \u001b[38;5;28;01mreturn\u001b[39;00m \u001b[38;5;28mself\u001b[39m\n",
      "File \u001b[1;32mD:\\Anaconda3\\envs\\tf\\lib\\site-packages\\scikeras\\wrappers.py:898\u001b[0m, in \u001b[0;36mBaseWrapper._fit\u001b[1;34m(self, X, y, sample_weight, warm_start, epochs, initial_epoch, **kwargs)\u001b[0m\n\u001b[0;32m    896\u001b[0m \u001b[38;5;66;03m# Data checks\u001b[39;00m\n\u001b[0;32m    897\u001b[0m \u001b[38;5;28;01mif\u001b[39;00m \u001b[38;5;129;01mnot\u001b[39;00m ((\u001b[38;5;28mself\u001b[39m\u001b[38;5;241m.\u001b[39mwarm_start \u001b[38;5;129;01mor\u001b[39;00m warm_start) \u001b[38;5;129;01mand\u001b[39;00m \u001b[38;5;28mself\u001b[39m\u001b[38;5;241m.\u001b[39minitialized_):\n\u001b[1;32m--> 898\u001b[0m     X, y \u001b[38;5;241m=\u001b[39m \u001b[38;5;28;43mself\u001b[39;49m\u001b[38;5;241;43m.\u001b[39;49m\u001b[43m_initialize\u001b[49m\u001b[43m(\u001b[49m\u001b[43mX\u001b[49m\u001b[43m,\u001b[49m\u001b[43m \u001b[49m\u001b[43my\u001b[49m\u001b[43m)\u001b[49m\n\u001b[0;32m    899\u001b[0m \u001b[38;5;28;01melse\u001b[39;00m:\n\u001b[0;32m    900\u001b[0m     X, y \u001b[38;5;241m=\u001b[39m \u001b[38;5;28mself\u001b[39m\u001b[38;5;241m.\u001b[39m_validate_data(X, y)\n",
      "File \u001b[1;32mD:\\Anaconda3\\envs\\tf\\lib\\site-packages\\scikeras\\wrappers.py:835\u001b[0m, in \u001b[0;36mBaseWrapper._initialize\u001b[1;34m(self, X, y)\u001b[0m\n\u001b[0;32m    832\u001b[0m feature_meta \u001b[38;5;241m=\u001b[39m \u001b[38;5;28mgetattr\u001b[39m(\u001b[38;5;28mself\u001b[39m\u001b[38;5;241m.\u001b[39mfeature_encoder, \u001b[38;5;124m\"\u001b[39m\u001b[38;5;124mget_metadata\u001b[39m\u001b[38;5;124m\"\u001b[39m, \u001b[38;5;28mdict\u001b[39m)()\n\u001b[0;32m    833\u001b[0m \u001b[38;5;28mvars\u001b[39m(\u001b[38;5;28mself\u001b[39m)\u001b[38;5;241m.\u001b[39mupdate(\u001b[38;5;241m*\u001b[39m\u001b[38;5;241m*\u001b[39mfeature_meta)\n\u001b[1;32m--> 835\u001b[0m \u001b[38;5;28mself\u001b[39m\u001b[38;5;241m.\u001b[39mmodel_ \u001b[38;5;241m=\u001b[39m \u001b[38;5;28;43mself\u001b[39;49m\u001b[38;5;241;43m.\u001b[39;49m\u001b[43m_build_keras_model\u001b[49m\u001b[43m(\u001b[49m\u001b[43m)\u001b[49m\n\u001b[0;32m    836\u001b[0m \u001b[38;5;28mself\u001b[39m\u001b[38;5;241m.\u001b[39m_initialize_callbacks()\n\u001b[0;32m    838\u001b[0m \u001b[38;5;28;01mreturn\u001b[39;00m X, y\n",
      "File \u001b[1;32mD:\\Anaconda3\\envs\\tf\\lib\\site-packages\\scikeras\\wrappers.py:420\u001b[0m, in \u001b[0;36mBaseWrapper._build_keras_model\u001b[1;34m(self)\u001b[0m\n\u001b[0;32m    418\u001b[0m         model \u001b[38;5;241m=\u001b[39m final_build_fn(\u001b[38;5;241m*\u001b[39m\u001b[38;5;241m*\u001b[39mbuild_params)\n\u001b[0;32m    419\u001b[0m \u001b[38;5;28;01melse\u001b[39;00m:\n\u001b[1;32m--> 420\u001b[0m     model \u001b[38;5;241m=\u001b[39m final_build_fn(\u001b[38;5;241m*\u001b[39m\u001b[38;5;241m*\u001b[39mbuild_params)\n\u001b[0;32m    422\u001b[0m \u001b[38;5;28;01mreturn\u001b[39;00m model\n",
      "Input \u001b[1;32mIn [10]\u001b[0m, in \u001b[0;36mget_mlp_model\u001b[1;34m(hiddenLayerOne, hiddenLayerTwo)\u001b[0m\n\u001b[0;32m      1\u001b[0m \u001b[38;5;28;01mdef\u001b[39;00m \u001b[38;5;21mget_mlp_model\u001b[39m(hiddenLayerOne\u001b[38;5;241m=\u001b[39m\u001b[38;5;241m32\u001b[39m, hiddenLayerTwo\u001b[38;5;241m=\u001b[39m\u001b[38;5;241m32\u001b[39m):\n\u001b[0;32m      3\u001b[0m     model \u001b[38;5;241m=\u001b[39m Sequential()\n\u001b[1;32m----> 4\u001b[0m     model\u001b[38;5;241m.\u001b[39madd(\u001b[43mDense\u001b[49m\u001b[43m(\u001b[49m\u001b[43mhiddenLayerOne\u001b[49m\u001b[43m,\u001b[49m\u001b[43m \u001b[49m\u001b[43mactivation\u001b[49m\u001b[38;5;241;43m=\u001b[39;49m\u001b[38;5;124;43m\"\u001b[39;49m\u001b[38;5;124;43mrelu\u001b[39;49m\u001b[38;5;124;43m\"\u001b[39;49m\u001b[43m,\u001b[49m\u001b[43m \u001b[49m\u001b[43minput_shape\u001b[49m\u001b[38;5;241;43m=\u001b[39;49m\u001b[43m(\u001b[49m\u001b[38;5;241;43m10\u001b[39;49m\u001b[43m,\u001b[49m\u001b[43m)\u001b[49m\u001b[43m)\u001b[49m)\n\u001b[0;32m      5\u001b[0m     model\u001b[38;5;241m.\u001b[39madd(Dense(hiddenLayerTwo, activation\u001b[38;5;241m=\u001b[39m\u001b[38;5;124m\"\u001b[39m\u001b[38;5;124mrelu\u001b[39m\u001b[38;5;124m\"\u001b[39m))\n\u001b[0;32m      6\u001b[0m     model\u001b[38;5;241m.\u001b[39madd(Dense(\u001b[38;5;241m1\u001b[39m, activation\u001b[38;5;241m=\u001b[39m\u001b[38;5;124m\"\u001b[39m\u001b[38;5;124msigmoid\u001b[39m\u001b[38;5;124m\"\u001b[39m))\n",
      "File \u001b[1;32mD:\\Anaconda3\\envs\\tf\\lib\\site-packages\\keras\\layers\\core\\dense.py:114\u001b[0m, in \u001b[0;36mDense.__init__\u001b[1;34m(self, units, activation, use_bias, kernel_initializer, bias_initializer, kernel_regularizer, bias_regularizer, activity_regularizer, kernel_constraint, bias_constraint, **kwargs)\u001b[0m\n\u001b[0;32m     99\u001b[0m \u001b[38;5;28;01mdef\u001b[39;00m \u001b[38;5;21m__init__\u001b[39m(\u001b[38;5;28mself\u001b[39m,\n\u001b[0;32m    100\u001b[0m              units,\n\u001b[0;32m    101\u001b[0m              activation\u001b[38;5;241m=\u001b[39m\u001b[38;5;28;01mNone\u001b[39;00m,\n\u001b[1;32m   (...)\u001b[0m\n\u001b[0;32m    109\u001b[0m              bias_constraint\u001b[38;5;241m=\u001b[39m\u001b[38;5;28;01mNone\u001b[39;00m,\n\u001b[0;32m    110\u001b[0m              \u001b[38;5;241m*\u001b[39m\u001b[38;5;241m*\u001b[39mkwargs):\n\u001b[0;32m    111\u001b[0m   \u001b[38;5;28msuper\u001b[39m(Dense, \u001b[38;5;28mself\u001b[39m)\u001b[38;5;241m.\u001b[39m\u001b[38;5;21m__init__\u001b[39m(\n\u001b[0;32m    112\u001b[0m       activity_regularizer\u001b[38;5;241m=\u001b[39mactivity_regularizer, \u001b[38;5;241m*\u001b[39m\u001b[38;5;241m*\u001b[39mkwargs)\n\u001b[1;32m--> 114\u001b[0m   \u001b[38;5;28mself\u001b[39m\u001b[38;5;241m.\u001b[39munits \u001b[38;5;241m=\u001b[39m \u001b[38;5;28;43mint\u001b[39;49m\u001b[43m(\u001b[49m\u001b[43munits\u001b[49m\u001b[43m)\u001b[49m \u001b[38;5;28;01mif\u001b[39;00m \u001b[38;5;129;01mnot\u001b[39;00m \u001b[38;5;28misinstance\u001b[39m(units, \u001b[38;5;28mint\u001b[39m) \u001b[38;5;28;01melse\u001b[39;00m units\n\u001b[0;32m    115\u001b[0m   \u001b[38;5;28;01mif\u001b[39;00m \u001b[38;5;28mself\u001b[39m\u001b[38;5;241m.\u001b[39munits \u001b[38;5;241m<\u001b[39m \u001b[38;5;241m0\u001b[39m:\n\u001b[0;32m    116\u001b[0m     \u001b[38;5;28;01mraise\u001b[39;00m \u001b[38;5;167;01mValueError\u001b[39;00m(\u001b[38;5;124mf\u001b[39m\u001b[38;5;124m'\u001b[39m\u001b[38;5;124mReceived an invalid value for `units`, expected \u001b[39m\u001b[38;5;124m'\u001b[39m\n\u001b[0;32m    117\u001b[0m                      \u001b[38;5;124mf\u001b[39m\u001b[38;5;124m'\u001b[39m\u001b[38;5;124ma positive integer. Received: units=\u001b[39m\u001b[38;5;132;01m{\u001b[39;00munits\u001b[38;5;132;01m}\u001b[39;00m\u001b[38;5;124m'\u001b[39m)\n",
      "\u001b[1;31mTypeError\u001b[0m: int() argument must be a string, a bytes-like object or a number, not 'list'"
     ]
    }
   ],
   "source": [
    "from sklearn.model_selection import GridSearchCV\n",
    "\n",
    "searcher = GridSearchCV(\n",
    "    estimator=model_2,\n",
    "    param_grid=grid,\n",
    "    scoring=\"accuracy\",\n",
    "    cv=3,\n",
    "    n_jobs=-1,\n",
    ")\n",
    "\n",
    "\n",
    "searchResults = searcher.fit(X_train, Y_train)\n",
    "# summarize grid search information\n",
    "bestScore = searchResults.best_score_\n",
    "bestParams = searchResults.best_params_\n",
    "print(\"[INFO] best score is {:.2f} using {}\".format(bestScore, bestParams))"
   ]
  },
  {
   "cell_type": "code",
   "execution_count": null,
   "id": "59ff470f",
   "metadata": {},
   "outputs": [],
   "source": []
  }
 ],
 "metadata": {
  "kernelspec": {
   "display_name": "Python 3 (ipykernel)",
   "language": "python",
   "name": "python3"
  },
  "language_info": {
   "codemirror_mode": {
    "name": "ipython",
    "version": 3
   },
   "file_extension": ".py",
   "mimetype": "text/x-python",
   "name": "python",
   "nbconvert_exporter": "python",
   "pygments_lexer": "ipython3",
   "version": "3.9.12"
  }
 },
 "nbformat": 4,
 "nbformat_minor": 5
}
