{
 "cells": [
  {
   "cell_type": "markdown",
   "id": "d86fa563",
   "metadata": {},
   "source": [
    "## Project 2 TAA"
   ]
  },
  {
   "cell_type": "code",
   "execution_count": 1,
   "id": "696fa026",
   "metadata": {},
   "outputs": [],
   "source": [
    "import pandas as pd\n",
    "from sklearn import preprocessing\n",
    "from sklearn.model_selection import train_test_split\n",
    "import matplotlib.pyplot as plt"
   ]
  },
  {
   "cell_type": "markdown",
   "id": "4f3d0cf3",
   "metadata": {},
   "source": [
    "### Processing the data"
   ]
  },
  {
   "cell_type": "code",
   "execution_count": 2,
   "id": "b3a8131f",
   "metadata": {},
   "outputs": [],
   "source": [
    "df = pd.read_csv('housepricedata.csv')\n",
    "dataset = df.values\n",
    "\n",
    "X = dataset[:,0:10]\n",
    "Y = dataset[:,10]\n"
   ]
  },
  {
   "cell_type": "code",
   "execution_count": 3,
   "id": "fdd3186e",
   "metadata": {},
   "outputs": [],
   "source": [
    "min_max_scaler = preprocessing.MinMaxScaler()\n",
    "X_scale = min_max_scaler.fit_transform(X)"
   ]
  },
  {
   "cell_type": "code",
   "execution_count": 4,
   "id": "89e5eaf5",
   "metadata": {},
   "outputs": [],
   "source": [
    "X_train, X_val_and_test, Y_train, Y_val_and_test = train_test_split(X_scale, Y, test_size=0.3)\n",
    "\n",
    "X_val, X_test, Y_val, Y_test = train_test_split(X_val_and_test, Y_val_and_test, test_size=0.5)\n"
   ]
  },
  {
   "cell_type": "markdown",
   "id": "dc3682f4",
   "metadata": {},
   "source": [
    "### Blog NN "
   ]
  },
  {
   "cell_type": "code",
   "execution_count": 5,
   "id": "335670e4",
   "metadata": {},
   "outputs": [
    {
     "name": "stderr",
     "output_type": "stream",
     "text": [
      "2022-06-26 19:14:49.029364: W tensorflow/stream_executor/platform/default/dso_loader.cc:64] Could not load dynamic library 'libcudart.so.11.0'; dlerror: libcudart.so.11.0: cannot open shared object file: No such file or directory\n",
      "2022-06-26 19:14:49.029401: I tensorflow/stream_executor/cuda/cudart_stub.cc:29] Ignore above cudart dlerror if you do not have a GPU set up on your machine.\n"
     ]
    }
   ],
   "source": [
    "from keras.models import Sequential\n",
    "from keras.layers import Dense"
   ]
  },
  {
   "cell_type": "markdown",
   "id": "ce50a6a7",
   "metadata": {},
   "source": [
    "#### Define architecture"
   ]
  },
  {
   "cell_type": "code",
   "execution_count": 6,
   "id": "d4e44066",
   "metadata": {},
   "outputs": [
    {
     "name": "stderr",
     "output_type": "stream",
     "text": [
      "2022-06-26 19:14:52.219404: W tensorflow/stream_executor/platform/default/dso_loader.cc:64] Could not load dynamic library 'libcuda.so.1'; dlerror: libcuda.so.1: cannot open shared object file: No such file or directory\n",
      "2022-06-26 19:14:52.219433: W tensorflow/stream_executor/cuda/cuda_driver.cc:269] failed call to cuInit: UNKNOWN ERROR (303)\n",
      "2022-06-26 19:14:52.219456: I tensorflow/stream_executor/cuda/cuda_diagnostics.cc:156] kernel driver does not appear to be running on this host (vicente): /proc/driver/nvidia/version does not exist\n",
      "2022-06-26 19:14:52.220185: I tensorflow/core/platform/cpu_feature_guard.cc:193] This TensorFlow binary is optimized with oneAPI Deep Neural Network Library (oneDNN) to use the following CPU instructions in performance-critical operations:  AVX2 FMA\n",
      "To enable them in other operations, rebuild TensorFlow with the appropriate compiler flags.\n"
     ]
    }
   ],
   "source": [
    "model = Sequential([\n",
    "    Dense(32, activation='relu', input_shape=(10,)),\n",
    "    Dense(32, activation='relu'),\n",
    "    Dense(1, activation='sigmoid'),\n",
    "])"
   ]
  },
  {
   "cell_type": "code",
   "execution_count": 7,
   "id": "151536d5",
   "metadata": {},
   "outputs": [],
   "source": [
    "model.compile(optimizer='sgd',\n",
    "              loss='binary_crossentropy',\n",
    "              metrics=['accuracy'])"
   ]
  },
  {
   "cell_type": "code",
   "execution_count": 8,
   "id": "d183767c",
   "metadata": {},
   "outputs": [
    {
     "name": "stdout",
     "output_type": "stream",
     "text": [
      "Epoch 1/100\n",
      "32/32 [==============================] - 1s 6ms/step - loss: 0.7074 - accuracy: 0.5020 - val_loss: 0.7053 - val_accuracy: 0.4703\n",
      "Epoch 2/100\n",
      "32/32 [==============================] - 0s 2ms/step - loss: 0.7006 - accuracy: 0.4941 - val_loss: 0.6984 - val_accuracy: 0.5023\n",
      "Epoch 3/100\n",
      "32/32 [==============================] - 0s 1ms/step - loss: 0.6952 - accuracy: 0.5108 - val_loss: 0.6929 - val_accuracy: 0.5479\n",
      "Epoch 4/100\n",
      "32/32 [==============================] - 0s 2ms/step - loss: 0.6906 - accuracy: 0.5871 - val_loss: 0.6881 - val_accuracy: 0.5845\n",
      "Epoch 5/100\n",
      "32/32 [==============================] - 0s 2ms/step - loss: 0.6863 - accuracy: 0.6409 - val_loss: 0.6837 - val_accuracy: 0.6256\n",
      "Epoch 6/100\n",
      "32/32 [==============================] - 0s 2ms/step - loss: 0.6824 - accuracy: 0.6751 - val_loss: 0.6797 - val_accuracy: 0.6804\n",
      "Epoch 7/100\n",
      "32/32 [==============================] - 0s 2ms/step - loss: 0.6784 - accuracy: 0.7104 - val_loss: 0.6756 - val_accuracy: 0.7078\n",
      "Epoch 8/100\n",
      "32/32 [==============================] - 0s 2ms/step - loss: 0.6744 - accuracy: 0.7104 - val_loss: 0.6715 - val_accuracy: 0.7215\n",
      "Epoch 9/100\n",
      "32/32 [==============================] - 0s 3ms/step - loss: 0.6703 - accuracy: 0.7133 - val_loss: 0.6674 - val_accuracy: 0.7306\n",
      "Epoch 10/100\n",
      "32/32 [==============================] - 0s 3ms/step - loss: 0.6658 - accuracy: 0.7446 - val_loss: 0.6629 - val_accuracy: 0.7534\n",
      "Epoch 11/100\n",
      "32/32 [==============================] - 0s 2ms/step - loss: 0.6611 - accuracy: 0.7720 - val_loss: 0.6582 - val_accuracy: 0.7397\n",
      "Epoch 12/100\n",
      "32/32 [==============================] - 0s 2ms/step - loss: 0.6564 - accuracy: 0.7671 - val_loss: 0.6535 - val_accuracy: 0.7671\n",
      "Epoch 13/100\n",
      "32/32 [==============================] - 0s 3ms/step - loss: 0.6514 - accuracy: 0.7808 - val_loss: 0.6486 - val_accuracy: 0.7763\n",
      "Epoch 14/100\n",
      "32/32 [==============================] - 0s 3ms/step - loss: 0.6463 - accuracy: 0.7818 - val_loss: 0.6435 - val_accuracy: 0.7854\n",
      "Epoch 15/100\n",
      "32/32 [==============================] - 0s 3ms/step - loss: 0.6411 - accuracy: 0.7886 - val_loss: 0.6382 - val_accuracy: 0.7945\n",
      "Epoch 16/100\n",
      "32/32 [==============================] - 0s 3ms/step - loss: 0.6356 - accuracy: 0.7975 - val_loss: 0.6327 - val_accuracy: 0.8128\n",
      "Epoch 17/100\n",
      "32/32 [==============================] - 0s 3ms/step - loss: 0.6299 - accuracy: 0.8033 - val_loss: 0.6269 - val_accuracy: 0.8174\n",
      "Epoch 18/100\n",
      "32/32 [==============================] - 0s 2ms/step - loss: 0.6240 - accuracy: 0.8043 - val_loss: 0.6207 - val_accuracy: 0.8219\n",
      "Epoch 19/100\n",
      "32/32 [==============================] - 0s 4ms/step - loss: 0.6176 - accuracy: 0.8131 - val_loss: 0.6141 - val_accuracy: 0.8265\n",
      "Epoch 20/100\n",
      "32/32 [==============================] - 0s 4ms/step - loss: 0.6108 - accuracy: 0.8141 - val_loss: 0.6073 - val_accuracy: 0.8311\n",
      "Epoch 21/100\n",
      "32/32 [==============================] - 0s 4ms/step - loss: 0.6038 - accuracy: 0.8268 - val_loss: 0.6001 - val_accuracy: 0.8219\n",
      "Epoch 22/100\n",
      "32/32 [==============================] - 0s 4ms/step - loss: 0.5963 - accuracy: 0.8229 - val_loss: 0.5926 - val_accuracy: 0.8311\n",
      "Epoch 23/100\n",
      "32/32 [==============================] - 0s 3ms/step - loss: 0.5885 - accuracy: 0.8317 - val_loss: 0.5848 - val_accuracy: 0.8265\n",
      "Epoch 24/100\n",
      "32/32 [==============================] - 0s 3ms/step - loss: 0.5806 - accuracy: 0.8327 - val_loss: 0.5768 - val_accuracy: 0.8356\n",
      "Epoch 25/100\n",
      "32/32 [==============================] - 0s 4ms/step - loss: 0.5719 - accuracy: 0.8405 - val_loss: 0.5682 - val_accuracy: 0.8356\n",
      "Epoch 26/100\n",
      "32/32 [==============================] - 0s 3ms/step - loss: 0.5632 - accuracy: 0.8307 - val_loss: 0.5595 - val_accuracy: 0.8493\n",
      "Epoch 27/100\n",
      "32/32 [==============================] - 0s 4ms/step - loss: 0.5543 - accuracy: 0.8386 - val_loss: 0.5502 - val_accuracy: 0.8447\n",
      "Epoch 28/100\n",
      "32/32 [==============================] - 0s 4ms/step - loss: 0.5448 - accuracy: 0.8444 - val_loss: 0.5406 - val_accuracy: 0.8493\n",
      "Epoch 29/100\n",
      "32/32 [==============================] - 0s 3ms/step - loss: 0.5352 - accuracy: 0.8415 - val_loss: 0.5307 - val_accuracy: 0.8493\n",
      "Epoch 30/100\n",
      "32/32 [==============================] - 0s 3ms/step - loss: 0.5252 - accuracy: 0.8464 - val_loss: 0.5207 - val_accuracy: 0.8493\n",
      "Epoch 31/100\n",
      "32/32 [==============================] - 0s 3ms/step - loss: 0.5151 - accuracy: 0.8464 - val_loss: 0.5106 - val_accuracy: 0.8539\n",
      "Epoch 32/100\n",
      "32/32 [==============================] - 0s 4ms/step - loss: 0.5048 - accuracy: 0.8434 - val_loss: 0.5007 - val_accuracy: 0.8630\n",
      "Epoch 33/100\n",
      "32/32 [==============================] - 0s 4ms/step - loss: 0.4952 - accuracy: 0.8493 - val_loss: 0.4906 - val_accuracy: 0.8539\n",
      "Epoch 34/100\n",
      "32/32 [==============================] - 0s 3ms/step - loss: 0.4850 - accuracy: 0.8483 - val_loss: 0.4808 - val_accuracy: 0.8584\n",
      "Epoch 35/100\n",
      "32/32 [==============================] - 0s 3ms/step - loss: 0.4751 - accuracy: 0.8464 - val_loss: 0.4711 - val_accuracy: 0.8630\n",
      "Epoch 36/100\n",
      "32/32 [==============================] - 0s 4ms/step - loss: 0.4656 - accuracy: 0.8513 - val_loss: 0.4616 - val_accuracy: 0.8676\n",
      "Epoch 37/100\n",
      "32/32 [==============================] - 0s 4ms/step - loss: 0.4562 - accuracy: 0.8552 - val_loss: 0.4525 - val_accuracy: 0.8676\n",
      "Epoch 38/100\n",
      "32/32 [==============================] - 0s 3ms/step - loss: 0.4469 - accuracy: 0.8562 - val_loss: 0.4437 - val_accuracy: 0.8630\n",
      "Epoch 39/100\n",
      "32/32 [==============================] - 0s 3ms/step - loss: 0.4380 - accuracy: 0.8513 - val_loss: 0.4350 - val_accuracy: 0.8813\n",
      "Epoch 40/100\n",
      "32/32 [==============================] - 0s 4ms/step - loss: 0.4297 - accuracy: 0.8562 - val_loss: 0.4272 - val_accuracy: 0.8630\n",
      "Epoch 41/100\n",
      "32/32 [==============================] - 0s 3ms/step - loss: 0.4218 - accuracy: 0.8513 - val_loss: 0.4194 - val_accuracy: 0.8676\n",
      "Epoch 42/100\n",
      "32/32 [==============================] - 0s 3ms/step - loss: 0.4138 - accuracy: 0.8532 - val_loss: 0.4119 - val_accuracy: 0.8721\n",
      "Epoch 43/100\n",
      "32/32 [==============================] - 0s 3ms/step - loss: 0.4061 - accuracy: 0.8562 - val_loss: 0.4046 - val_accuracy: 0.8858\n",
      "Epoch 44/100\n",
      "32/32 [==============================] - 0s 3ms/step - loss: 0.3997 - accuracy: 0.8601 - val_loss: 0.3982 - val_accuracy: 0.8767\n",
      "Epoch 45/100\n",
      "32/32 [==============================] - 0s 3ms/step - loss: 0.3929 - accuracy: 0.8620 - val_loss: 0.3922 - val_accuracy: 0.8767\n",
      "Epoch 46/100\n",
      "32/32 [==============================] - 0s 3ms/step - loss: 0.3866 - accuracy: 0.8640 - val_loss: 0.3865 - val_accuracy: 0.8767\n",
      "Epoch 47/100\n",
      "32/32 [==============================] - 0s 4ms/step - loss: 0.3806 - accuracy: 0.8620 - val_loss: 0.3805 - val_accuracy: 0.8950\n",
      "Epoch 48/100\n",
      "32/32 [==============================] - 0s 4ms/step - loss: 0.3749 - accuracy: 0.8640 - val_loss: 0.3770 - val_accuracy: 0.8721\n",
      "Epoch 49/100\n",
      "32/32 [==============================] - 0s 4ms/step - loss: 0.3699 - accuracy: 0.8679 - val_loss: 0.3714 - val_accuracy: 0.8767\n",
      "Epoch 50/100\n",
      "32/32 [==============================] - 0s 5ms/step - loss: 0.3648 - accuracy: 0.8699 - val_loss: 0.3672 - val_accuracy: 0.8767\n",
      "Epoch 51/100\n",
      "32/32 [==============================] - 0s 3ms/step - loss: 0.3597 - accuracy: 0.8728 - val_loss: 0.3631 - val_accuracy: 0.8767\n",
      "Epoch 52/100\n",
      "32/32 [==============================] - 0s 4ms/step - loss: 0.3557 - accuracy: 0.8689 - val_loss: 0.3597 - val_accuracy: 0.8767\n",
      "Epoch 53/100\n",
      "32/32 [==============================] - 0s 4ms/step - loss: 0.3514 - accuracy: 0.8748 - val_loss: 0.3561 - val_accuracy: 0.8767\n",
      "Epoch 54/100\n",
      "32/32 [==============================] - 0s 4ms/step - loss: 0.3475 - accuracy: 0.8718 - val_loss: 0.3518 - val_accuracy: 0.8995\n",
      "Epoch 55/100\n",
      "32/32 [==============================] - 0s 4ms/step - loss: 0.3438 - accuracy: 0.8669 - val_loss: 0.3483 - val_accuracy: 0.8950\n",
      "Epoch 56/100\n",
      "32/32 [==============================] - 0s 4ms/step - loss: 0.3403 - accuracy: 0.8669 - val_loss: 0.3468 - val_accuracy: 0.8858\n",
      "Epoch 57/100\n",
      "32/32 [==============================] - 0s 3ms/step - loss: 0.3368 - accuracy: 0.8708 - val_loss: 0.3437 - val_accuracy: 0.8858\n",
      "Epoch 58/100\n",
      "32/32 [==============================] - 0s 3ms/step - loss: 0.3337 - accuracy: 0.8718 - val_loss: 0.3422 - val_accuracy: 0.8813\n"
     ]
    },
    {
     "name": "stdout",
     "output_type": "stream",
     "text": [
      "Epoch 59/100\n",
      "32/32 [==============================] - 0s 3ms/step - loss: 0.3311 - accuracy: 0.8689 - val_loss: 0.3382 - val_accuracy: 0.8950\n",
      "Epoch 60/100\n",
      "32/32 [==============================] - 0s 2ms/step - loss: 0.3278 - accuracy: 0.8738 - val_loss: 0.3377 - val_accuracy: 0.8813\n",
      "Epoch 61/100\n",
      "32/32 [==============================] - 0s 2ms/step - loss: 0.3251 - accuracy: 0.8718 - val_loss: 0.3336 - val_accuracy: 0.8950\n",
      "Epoch 62/100\n",
      "32/32 [==============================] - 0s 3ms/step - loss: 0.3228 - accuracy: 0.8718 - val_loss: 0.3332 - val_accuracy: 0.8904\n",
      "Epoch 63/100\n",
      "32/32 [==============================] - 0s 2ms/step - loss: 0.3208 - accuracy: 0.8708 - val_loss: 0.3307 - val_accuracy: 0.8995\n",
      "Epoch 64/100\n",
      "32/32 [==============================] - 0s 4ms/step - loss: 0.3184 - accuracy: 0.8738 - val_loss: 0.3291 - val_accuracy: 0.8995\n",
      "Epoch 65/100\n",
      "32/32 [==============================] - 0s 4ms/step - loss: 0.3160 - accuracy: 0.8748 - val_loss: 0.3279 - val_accuracy: 0.8995\n",
      "Epoch 66/100\n",
      "32/32 [==============================] - 0s 4ms/step - loss: 0.3135 - accuracy: 0.8738 - val_loss: 0.3253 - val_accuracy: 0.8950\n",
      "Epoch 67/100\n",
      "32/32 [==============================] - 0s 4ms/step - loss: 0.3121 - accuracy: 0.8757 - val_loss: 0.3263 - val_accuracy: 0.8858\n",
      "Epoch 68/100\n",
      "32/32 [==============================] - 0s 5ms/step - loss: 0.3100 - accuracy: 0.8777 - val_loss: 0.3240 - val_accuracy: 0.8995\n",
      "Epoch 69/100\n",
      "32/32 [==============================] - 0s 4ms/step - loss: 0.3079 - accuracy: 0.8806 - val_loss: 0.3224 - val_accuracy: 0.8995\n",
      "Epoch 70/100\n",
      "32/32 [==============================] - 0s 4ms/step - loss: 0.3064 - accuracy: 0.8777 - val_loss: 0.3228 - val_accuracy: 0.8904\n",
      "Epoch 71/100\n",
      "32/32 [==============================] - 0s 4ms/step - loss: 0.3041 - accuracy: 0.8738 - val_loss: 0.3263 - val_accuracy: 0.8813\n",
      "Epoch 72/100\n",
      "32/32 [==============================] - 0s 4ms/step - loss: 0.3034 - accuracy: 0.8777 - val_loss: 0.3201 - val_accuracy: 0.8950\n",
      "Epoch 73/100\n",
      "32/32 [==============================] - 0s 3ms/step - loss: 0.3013 - accuracy: 0.8777 - val_loss: 0.3235 - val_accuracy: 0.8813\n",
      "Epoch 74/100\n",
      "32/32 [==============================] - 0s 4ms/step - loss: 0.3006 - accuracy: 0.8767 - val_loss: 0.3190 - val_accuracy: 0.8950\n",
      "Epoch 75/100\n",
      "32/32 [==============================] - 0s 3ms/step - loss: 0.2984 - accuracy: 0.8796 - val_loss: 0.3178 - val_accuracy: 0.8950\n",
      "Epoch 76/100\n",
      "32/32 [==============================] - 0s 4ms/step - loss: 0.2972 - accuracy: 0.8787 - val_loss: 0.3165 - val_accuracy: 0.8950\n",
      "Epoch 77/100\n",
      "32/32 [==============================] - 0s 3ms/step - loss: 0.2957 - accuracy: 0.8806 - val_loss: 0.3177 - val_accuracy: 0.8858\n",
      "Epoch 78/100\n",
      "32/32 [==============================] - 0s 3ms/step - loss: 0.2945 - accuracy: 0.8806 - val_loss: 0.3170 - val_accuracy: 0.8904\n",
      "Epoch 79/100\n",
      "32/32 [==============================] - 0s 3ms/step - loss: 0.2927 - accuracy: 0.8816 - val_loss: 0.3137 - val_accuracy: 0.8995\n",
      "Epoch 80/100\n",
      "32/32 [==============================] - 0s 3ms/step - loss: 0.2915 - accuracy: 0.8816 - val_loss: 0.3158 - val_accuracy: 0.8904\n",
      "Epoch 81/100\n",
      "32/32 [==============================] - 0s 4ms/step - loss: 0.2902 - accuracy: 0.8796 - val_loss: 0.3110 - val_accuracy: 0.9041\n",
      "Epoch 82/100\n",
      "32/32 [==============================] - 0s 3ms/step - loss: 0.2892 - accuracy: 0.8826 - val_loss: 0.3122 - val_accuracy: 0.8950\n",
      "Epoch 83/100\n",
      "32/32 [==============================] - 0s 3ms/step - loss: 0.2872 - accuracy: 0.8845 - val_loss: 0.3194 - val_accuracy: 0.8767\n",
      "Epoch 84/100\n",
      "32/32 [==============================] - 0s 3ms/step - loss: 0.2873 - accuracy: 0.8865 - val_loss: 0.3100 - val_accuracy: 0.9041\n",
      "Epoch 85/100\n",
      "32/32 [==============================] - 0s 3ms/step - loss: 0.2860 - accuracy: 0.8836 - val_loss: 0.3116 - val_accuracy: 0.8950\n",
      "Epoch 86/100\n",
      "32/32 [==============================] - 0s 3ms/step - loss: 0.2850 - accuracy: 0.8836 - val_loss: 0.3106 - val_accuracy: 0.8995\n",
      "Epoch 87/100\n",
      "32/32 [==============================] - 0s 3ms/step - loss: 0.2839 - accuracy: 0.8836 - val_loss: 0.3076 - val_accuracy: 0.9041\n",
      "Epoch 88/100\n",
      "32/32 [==============================] - 0s 3ms/step - loss: 0.2827 - accuracy: 0.8845 - val_loss: 0.3083 - val_accuracy: 0.9041\n",
      "Epoch 89/100\n",
      "32/32 [==============================] - 0s 3ms/step - loss: 0.2820 - accuracy: 0.8855 - val_loss: 0.3080 - val_accuracy: 0.9041\n",
      "Epoch 90/100\n",
      "32/32 [==============================] - 0s 3ms/step - loss: 0.2804 - accuracy: 0.8845 - val_loss: 0.3056 - val_accuracy: 0.9041\n",
      "Epoch 91/100\n",
      "32/32 [==============================] - 0s 3ms/step - loss: 0.2796 - accuracy: 0.8885 - val_loss: 0.3104 - val_accuracy: 0.8995\n",
      "Epoch 92/100\n",
      "32/32 [==============================] - 0s 3ms/step - loss: 0.2792 - accuracy: 0.8865 - val_loss: 0.3091 - val_accuracy: 0.8995\n",
      "Epoch 93/100\n",
      "32/32 [==============================] - 0s 3ms/step - loss: 0.2780 - accuracy: 0.8836 - val_loss: 0.3050 - val_accuracy: 0.9041\n",
      "Epoch 94/100\n",
      "32/32 [==============================] - 0s 2ms/step - loss: 0.2771 - accuracy: 0.8875 - val_loss: 0.3115 - val_accuracy: 0.8950\n",
      "Epoch 95/100\n",
      "32/32 [==============================] - 0s 3ms/step - loss: 0.2761 - accuracy: 0.8894 - val_loss: 0.3054 - val_accuracy: 0.9041\n",
      "Epoch 96/100\n",
      "32/32 [==============================] - 0s 3ms/step - loss: 0.2753 - accuracy: 0.8894 - val_loss: 0.3087 - val_accuracy: 0.8995\n",
      "Epoch 97/100\n",
      "32/32 [==============================] - 0s 4ms/step - loss: 0.2752 - accuracy: 0.8885 - val_loss: 0.3060 - val_accuracy: 0.8995\n",
      "Epoch 98/100\n",
      "32/32 [==============================] - 0s 4ms/step - loss: 0.2744 - accuracy: 0.8894 - val_loss: 0.3045 - val_accuracy: 0.9041\n",
      "Epoch 99/100\n",
      "32/32 [==============================] - 0s 3ms/step - loss: 0.2726 - accuracy: 0.8894 - val_loss: 0.3084 - val_accuracy: 0.8950\n",
      "Epoch 100/100\n",
      "32/32 [==============================] - 0s 3ms/step - loss: 0.2725 - accuracy: 0.8875 - val_loss: 0.3084 - val_accuracy: 0.8950\n"
     ]
    }
   ],
   "source": [
    "hist = model.fit(X_train, Y_train,\n",
    "          batch_size=32, epochs=100,\n",
    "          validation_data=(X_val, Y_val))"
   ]
  },
  {
   "cell_type": "code",
   "execution_count": 9,
   "id": "4227c118",
   "metadata": {},
   "outputs": [
    {
     "name": "stdout",
     "output_type": "stream",
     "text": [
      "7/7 [==============================] - 0s 1ms/step - loss: 0.3277 - accuracy: 0.8584\n"
     ]
    },
    {
     "data": {
      "text/plain": [
       "0.8584474921226501"
      ]
     },
     "execution_count": 9,
     "metadata": {},
     "output_type": "execute_result"
    }
   ],
   "source": [
    "model.evaluate(X_test, Y_test)[1]"
   ]
  },
  {
   "cell_type": "markdown",
   "id": "69820405",
   "metadata": {},
   "source": [
    "### Loss visualization"
   ]
  },
  {
   "cell_type": "code",
   "execution_count": 10,
   "id": "5586af99",
   "metadata": {},
   "outputs": [
    {
     "data": {
      "image/png": "[encoded data removed]",
      "text/plain": [
       "<Figure size 432x288 with 1 Axes>"
      ]
     },
     "metadata": {
      "needs_background": "light"
     },
     "output_type": "display_data"
    }
   ],
   "source": [
    "plt.plot(hist.history['loss'])\n",
    "plt.plot(hist.history['val_loss'])\n",
    "plt.title('Model loss')\n",
    "plt.ylabel('Loss')\n",
    "plt.xlabel('Epoch')\n",
    "plt.legend(['Train', 'Val'], loc='upper right')\n",
    "plt.show()"
   ]
  },
  {
   "cell_type": "code",
   "execution_count": 12,
   "id": "c8d7ef98",
   "metadata": {},
   "outputs": [
    {
     "data": {
      "image/png": "[encoded data removed]",
      "text/plain": [
       "<Figure size 432x288 with 1 Axes>"
      ]
     },
     "metadata": {
      "needs_background": "light"
     },
     "output_type": "display_data"
    }
   ],
   "source": [
    "plt.plot(hist.history['accuracy'])\n",
    "plt.plot(hist.history['val_accuracy'])\n",
    "plt.title('Model accuracy')\n",
    "plt.ylabel('Accuracy')\n",
    "plt.xlabel('Epoch')\n",
    "plt.legend(['Train', 'Val'], loc='lower right')\n",
    "plt.show()"
   ]
  },
  {
   "cell_type": "markdown",
   "id": "70abb8cd",
   "metadata": {},
   "source": [
    "## Add Regularization"
   ]
  },
  {
   "cell_type": "code",
   "execution_count": 13,
   "id": "b6fb3eb5",
   "metadata": {},
   "outputs": [
    {
     "name": "stdout",
     "output_type": "stream",
     "text": [
      "Epoch 1/100\n",
      "32/32 [==============================] - 1s 27ms/step - loss: 0.4980 - accuracy: 0.7573 - val_loss: 0.4029 - val_accuracy: 0.8082\n",
      "Epoch 2/100\n",
      "32/32 [==============================] - 1s 23ms/step - loss: 0.3370 - accuracy: 0.8620 - val_loss: 0.3417 - val_accuracy: 0.8584\n",
      "Epoch 3/100\n",
      "32/32 [==============================] - 1s 24ms/step - loss: 0.2835 - accuracy: 0.8796 - val_loss: 0.3339 - val_accuracy: 0.8767\n",
      "Epoch 4/100\n",
      "32/32 [==============================] - 1s 26ms/step - loss: 0.2670 - accuracy: 0.8914 - val_loss: 0.3612 - val_accuracy: 0.8676\n",
      "Epoch 5/100\n",
      "32/32 [==============================] - 1s 26ms/step - loss: 0.2407 - accuracy: 0.9129 - val_loss: 0.3215 - val_accuracy: 0.8995\n",
      "Epoch 6/100\n",
      "32/32 [==============================] - 1s 30ms/step - loss: 0.2515 - accuracy: 0.9022 - val_loss: 0.3615 - val_accuracy: 0.8858\n",
      "Epoch 7/100\n",
      "32/32 [==============================] - 1s 31ms/step - loss: 0.2851 - accuracy: 0.8787 - val_loss: 0.3318 - val_accuracy: 0.8813\n",
      "Epoch 8/100\n",
      "32/32 [==============================] - 1s 37ms/step - loss: 0.2696 - accuracy: 0.8826 - val_loss: 0.3536 - val_accuracy: 0.8950\n",
      "Epoch 9/100\n",
      "32/32 [==============================] - 1s 31ms/step - loss: 0.2307 - accuracy: 0.9031 - val_loss: 0.3573 - val_accuracy: 0.9041\n",
      "Epoch 10/100\n",
      "32/32 [==============================] - 1s 27ms/step - loss: 0.2218 - accuracy: 0.9070 - val_loss: 0.4292 - val_accuracy: 0.8447\n",
      "Epoch 11/100\n",
      "32/32 [==============================] - 1s 28ms/step - loss: 0.2253 - accuracy: 0.9061 - val_loss: 0.3962 - val_accuracy: 0.8813\n",
      "Epoch 12/100\n",
      "32/32 [==============================] - 1s 26ms/step - loss: 0.2053 - accuracy: 0.9100 - val_loss: 0.3975 - val_accuracy: 0.8676\n",
      "Epoch 13/100\n",
      "32/32 [==============================] - 1s 28ms/step - loss: 0.1996 - accuracy: 0.9188 - val_loss: 0.3688 - val_accuracy: 0.9087\n",
      "Epoch 14/100\n",
      "32/32 [==============================] - 1s 25ms/step - loss: 0.2166 - accuracy: 0.9041 - val_loss: 0.3764 - val_accuracy: 0.8767\n",
      "Epoch 15/100\n",
      "32/32 [==============================] - 1s 23ms/step - loss: 0.2122 - accuracy: 0.9090 - val_loss: 0.3862 - val_accuracy: 0.8630\n",
      "Epoch 16/100\n",
      "32/32 [==============================] - 1s 16ms/step - loss: 0.1988 - accuracy: 0.9217 - val_loss: 0.4068 - val_accuracy: 0.8539\n",
      "Epoch 17/100\n",
      "32/32 [==============================] - 1s 22ms/step - loss: 0.2042 - accuracy: 0.9247 - val_loss: 0.3779 - val_accuracy: 0.8904\n",
      "Epoch 18/100\n",
      "32/32 [==============================] - 1s 20ms/step - loss: 0.2006 - accuracy: 0.9110 - val_loss: 0.3598 - val_accuracy: 0.8493\n",
      "Epoch 19/100\n",
      "32/32 [==============================] - 1s 26ms/step - loss: 0.2033 - accuracy: 0.9149 - val_loss: 0.4310 - val_accuracy: 0.8950\n",
      "Epoch 20/100\n",
      "32/32 [==============================] - 1s 26ms/step - loss: 0.2202 - accuracy: 0.9227 - val_loss: 0.3730 - val_accuracy: 0.8858\n",
      "Epoch 21/100\n",
      "32/32 [==============================] - 1s 26ms/step - loss: 0.2035 - accuracy: 0.9217 - val_loss: 0.4177 - val_accuracy: 0.8539\n",
      "Epoch 22/100\n",
      "32/32 [==============================] - 1s 24ms/step - loss: 0.2024 - accuracy: 0.9119 - val_loss: 0.3696 - val_accuracy: 0.8813\n",
      "Epoch 23/100\n",
      "32/32 [==============================] - 1s 25ms/step - loss: 0.1904 - accuracy: 0.9168 - val_loss: 0.3545 - val_accuracy: 0.8950\n",
      "Epoch 24/100\n",
      "32/32 [==============================] - 1s 37ms/step - loss: 0.1696 - accuracy: 0.9344 - val_loss: 0.4088 - val_accuracy: 0.8950\n",
      "Epoch 25/100\n",
      "32/32 [==============================] - 1s 31ms/step - loss: 0.1693 - accuracy: 0.9315 - val_loss: 0.4665 - val_accuracy: 0.8721\n",
      "Epoch 26/100\n",
      "32/32 [==============================] - 1s 39ms/step - loss: 0.1791 - accuracy: 0.9256 - val_loss: 0.4096 - val_accuracy: 0.8813\n",
      "Epoch 27/100\n",
      "32/32 [==============================] - 1s 34ms/step - loss: 0.1850 - accuracy: 0.9237 - val_loss: 0.4578 - val_accuracy: 0.8858\n",
      "Epoch 28/100\n",
      "32/32 [==============================] - 1s 28ms/step - loss: 0.1819 - accuracy: 0.9325 - val_loss: 0.3913 - val_accuracy: 0.8630\n",
      "Epoch 29/100\n",
      "32/32 [==============================] - 1s 26ms/step - loss: 0.1836 - accuracy: 0.9266 - val_loss: 0.4407 - val_accuracy: 0.8676\n",
      "Epoch 30/100\n",
      "32/32 [==============================] - 1s 25ms/step - loss: 0.1949 - accuracy: 0.9110 - val_loss: 0.3995 - val_accuracy: 0.8858\n",
      "Epoch 31/100\n",
      "32/32 [==============================] - 1s 28ms/step - loss: 0.1654 - accuracy: 0.9403 - val_loss: 0.4208 - val_accuracy: 0.8584\n",
      "Epoch 32/100\n",
      "32/32 [==============================] - 1s 25ms/step - loss: 0.1716 - accuracy: 0.9364 - val_loss: 0.4038 - val_accuracy: 0.8858\n",
      "Epoch 33/100\n",
      "32/32 [==============================] - 1s 25ms/step - loss: 0.1847 - accuracy: 0.9305 - val_loss: 0.3983 - val_accuracy: 0.8676\n",
      "Epoch 34/100\n",
      "32/32 [==============================] - 1s 16ms/step - loss: 0.1878 - accuracy: 0.9305 - val_loss: 0.4161 - val_accuracy: 0.8676\n",
      "Epoch 35/100\n",
      "32/32 [==============================] - 1s 19ms/step - loss: 0.1679 - accuracy: 0.9305 - val_loss: 0.4081 - val_accuracy: 0.8539\n",
      "Epoch 36/100\n",
      "32/32 [==============================] - 1s 19ms/step - loss: 0.1549 - accuracy: 0.9413 - val_loss: 0.4839 - val_accuracy: 0.8858\n",
      "Epoch 37/100\n",
      "32/32 [==============================] - 1s 23ms/step - loss: 0.1624 - accuracy: 0.9305 - val_loss: 0.4352 - val_accuracy: 0.8950\n",
      "Epoch 38/100\n",
      "32/32 [==============================] - 1s 25ms/step - loss: 0.1625 - accuracy: 0.9364 - val_loss: 0.4879 - val_accuracy: 0.8858\n",
      "Epoch 39/100\n",
      "32/32 [==============================] - 1s 30ms/step - loss: 0.1819 - accuracy: 0.9276 - val_loss: 0.4062 - val_accuracy: 0.9041\n",
      "Epoch 40/100\n",
      "32/32 [==============================] - 1s 26ms/step - loss: 0.1578 - accuracy: 0.9384 - val_loss: 0.4523 - val_accuracy: 0.8813\n",
      "Epoch 41/100\n",
      "32/32 [==============================] - 1s 23ms/step - loss: 0.1546 - accuracy: 0.9344 - val_loss: 0.4266 - val_accuracy: 0.8630\n",
      "Epoch 42/100\n",
      "32/32 [==============================] - 1s 32ms/step - loss: 0.1453 - accuracy: 0.9413 - val_loss: 0.4735 - val_accuracy: 0.8904\n",
      "Epoch 43/100\n",
      "32/32 [==============================] - 1s 32ms/step - loss: 0.1586 - accuracy: 0.9335 - val_loss: 0.4442 - val_accuracy: 0.8767\n",
      "Epoch 44/100\n",
      "32/32 [==============================] - 1s 37ms/step - loss: 0.1535 - accuracy: 0.9305 - val_loss: 0.5181 - val_accuracy: 0.8539\n",
      "Epoch 45/100\n",
      "32/32 [==============================] - 1s 31ms/step - loss: 0.1559 - accuracy: 0.9335 - val_loss: 0.4724 - val_accuracy: 0.8676\n",
      "Epoch 46/100\n",
      "32/32 [==============================] - 1s 28ms/step - loss: 0.1799 - accuracy: 0.9286 - val_loss: 0.3818 - val_accuracy: 0.8904\n",
      "Epoch 47/100\n",
      "32/32 [==============================] - 1s 28ms/step - loss: 0.1561 - accuracy: 0.9384 - val_loss: 0.4213 - val_accuracy: 0.8721\n",
      "Epoch 48/100\n",
      "32/32 [==============================] - 1s 27ms/step - loss: 0.1522 - accuracy: 0.9344 - val_loss: 0.4481 - val_accuracy: 0.8767\n",
      "Epoch 49/100\n",
      "32/32 [==============================] - 1s 25ms/step - loss: 0.1747 - accuracy: 0.9266 - val_loss: 0.4123 - val_accuracy: 0.8721\n",
      "Epoch 50/100\n",
      "32/32 [==============================] - 1s 24ms/step - loss: 0.1577 - accuracy: 0.9423 - val_loss: 0.4488 - val_accuracy: 0.8767\n",
      "Epoch 51/100\n",
      "32/32 [==============================] - 1s 24ms/step - loss: 0.1397 - accuracy: 0.9423 - val_loss: 0.4548 - val_accuracy: 0.8630\n",
      "Epoch 52/100\n",
      "32/32 [==============================] - 1s 17ms/step - loss: 0.1346 - accuracy: 0.9423 - val_loss: 0.4705 - val_accuracy: 0.8767\n",
      "Epoch 53/100\n",
      "32/32 [==============================] - 1s 21ms/step - loss: 0.1428 - accuracy: 0.9413 - val_loss: 0.4857 - val_accuracy: 0.8539\n",
      "Epoch 54/100\n",
      "32/32 [==============================] - 1s 19ms/step - loss: 0.1375 - accuracy: 0.9413 - val_loss: 0.4378 - val_accuracy: 0.8630\n",
      "Epoch 55/100\n",
      "32/32 [==============================] - 1s 24ms/step - loss: 0.1488 - accuracy: 0.9442 - val_loss: 0.4575 - val_accuracy: 0.8904\n",
      "Epoch 56/100\n",
      "32/32 [==============================] - 1s 29ms/step - loss: 0.1313 - accuracy: 0.9491 - val_loss: 0.5066 - val_accuracy: 0.8767\n",
      "Epoch 57/100\n",
      "32/32 [==============================] - 1s 34ms/step - loss: 0.1671 - accuracy: 0.9354 - val_loss: 0.3679 - val_accuracy: 0.8721\n",
      "Epoch 58/100\n"
     ]
    },
    {
     "name": "stdout",
     "output_type": "stream",
     "text": [
      "32/32 [==============================] - 1s 29ms/step - loss: 0.1522 - accuracy: 0.9344 - val_loss: 0.5259 - val_accuracy: 0.8584\n",
      "Epoch 59/100\n",
      "32/32 [==============================] - 1s 29ms/step - loss: 0.1573 - accuracy: 0.9384 - val_loss: 0.4390 - val_accuracy: 0.8721\n",
      "Epoch 60/100\n",
      "32/32 [==============================] - 1s 34ms/step - loss: 0.1573 - accuracy: 0.9384 - val_loss: 0.4338 - val_accuracy: 0.8447\n",
      "Epoch 61/100\n",
      "32/32 [==============================] - 1s 35ms/step - loss: 0.1418 - accuracy: 0.9432 - val_loss: 0.5054 - val_accuracy: 0.8813\n",
      "Epoch 62/100\n",
      "32/32 [==============================] - 1s 42ms/step - loss: 0.1242 - accuracy: 0.9481 - val_loss: 0.6038 - val_accuracy: 0.8721\n",
      "Epoch 63/100\n",
      "32/32 [==============================] - 1s 26ms/step - loss: 0.1338 - accuracy: 0.9432 - val_loss: 0.4878 - val_accuracy: 0.8813\n",
      "Epoch 64/100\n",
      "32/32 [==============================] - 1s 27ms/step - loss: 0.1261 - accuracy: 0.9472 - val_loss: 0.5947 - val_accuracy: 0.8584\n",
      "Epoch 65/100\n",
      "32/32 [==============================] - 1s 25ms/step - loss: 0.1337 - accuracy: 0.9432 - val_loss: 0.5272 - val_accuracy: 0.8630\n",
      "Epoch 66/100\n",
      "32/32 [==============================] - 1s 26ms/step - loss: 0.1518 - accuracy: 0.9354 - val_loss: 0.4404 - val_accuracy: 0.8813\n",
      "Epoch 67/100\n",
      "32/32 [==============================] - 1s 25ms/step - loss: 0.1223 - accuracy: 0.9521 - val_loss: 0.5967 - val_accuracy: 0.8767\n",
      "Epoch 68/100\n",
      "32/32 [==============================] - 1s 21ms/step - loss: 0.1202 - accuracy: 0.9501 - val_loss: 0.5420 - val_accuracy: 0.8858\n",
      "Epoch 69/100\n",
      "32/32 [==============================] - 1s 18ms/step - loss: 0.1119 - accuracy: 0.9491 - val_loss: 0.5838 - val_accuracy: 0.8676\n",
      "Epoch 70/100\n",
      "32/32 [==============================] - 1s 19ms/step - loss: 0.1276 - accuracy: 0.9481 - val_loss: 0.6541 - val_accuracy: 0.8402\n",
      "Epoch 71/100\n",
      "32/32 [==============================] - 1s 19ms/step - loss: 0.1319 - accuracy: 0.9403 - val_loss: 0.6607 - val_accuracy: 0.8767\n",
      "Epoch 72/100\n",
      "32/32 [==============================] - 1s 17ms/step - loss: 0.1738 - accuracy: 0.9354 - val_loss: 0.4937 - val_accuracy: 0.8630\n",
      "Epoch 73/100\n",
      "32/32 [==============================] - 1s 22ms/step - loss: 0.1350 - accuracy: 0.9481 - val_loss: 0.5826 - val_accuracy: 0.8493\n",
      "Epoch 74/100\n",
      "32/32 [==============================] - 1s 24ms/step - loss: 0.1196 - accuracy: 0.9530 - val_loss: 0.5906 - val_accuracy: 0.8721\n",
      "Epoch 75/100\n",
      "32/32 [==============================] - 1s 27ms/step - loss: 0.1075 - accuracy: 0.9609 - val_loss: 0.7721 - val_accuracy: 0.8813\n",
      "Epoch 76/100\n",
      "32/32 [==============================] - 1s 24ms/step - loss: 0.1178 - accuracy: 0.9501 - val_loss: 0.5501 - val_accuracy: 0.8721\n",
      "Epoch 77/100\n",
      "32/32 [==============================] - 1s 28ms/step - loss: 0.1013 - accuracy: 0.9609 - val_loss: 0.6458 - val_accuracy: 0.8721\n",
      "Epoch 78/100\n",
      "32/32 [==============================] - 1s 38ms/step - loss: 0.1620 - accuracy: 0.9256 - val_loss: 0.4735 - val_accuracy: 0.8858\n",
      "Epoch 79/100\n",
      "32/32 [==============================] - 1s 36ms/step - loss: 0.1319 - accuracy: 0.9521 - val_loss: 0.4916 - val_accuracy: 0.8813\n",
      "Epoch 80/100\n",
      "32/32 [==============================] - 2s 47ms/step - loss: 0.1178 - accuracy: 0.9550 - val_loss: 0.5639 - val_accuracy: 0.8721\n",
      "Epoch 81/100\n",
      "32/32 [==============================] - 1s 29ms/step - loss: 0.1136 - accuracy: 0.9560 - val_loss: 0.5303 - val_accuracy: 0.8676\n",
      "Epoch 82/100\n",
      "32/32 [==============================] - 1s 32ms/step - loss: 0.1200 - accuracy: 0.9540 - val_loss: 0.6816 - val_accuracy: 0.8630\n",
      "Epoch 83/100\n",
      "32/32 [==============================] - 1s 26ms/step - loss: 0.1270 - accuracy: 0.9501 - val_loss: 0.5645 - val_accuracy: 0.8813\n",
      "Epoch 84/100\n",
      "32/32 [==============================] - 1s 26ms/step - loss: 0.1230 - accuracy: 0.9521 - val_loss: 0.5307 - val_accuracy: 0.8630\n",
      "Epoch 85/100\n",
      "32/32 [==============================] - 1s 29ms/step - loss: 0.1141 - accuracy: 0.9540 - val_loss: 0.6240 - val_accuracy: 0.8950\n",
      "Epoch 86/100\n",
      "32/32 [==============================] - 1s 31ms/step - loss: 0.1277 - accuracy: 0.9501 - val_loss: 0.5689 - val_accuracy: 0.8721\n",
      "Epoch 87/100\n",
      "32/32 [==============================] - 1s 26ms/step - loss: 0.1125 - accuracy: 0.9452 - val_loss: 0.6926 - val_accuracy: 0.8813\n",
      "Epoch 88/100\n",
      "32/32 [==============================] - 1s 24ms/step - loss: 0.1326 - accuracy: 0.9452 - val_loss: 0.7447 - val_accuracy: 0.8584\n",
      "Epoch 89/100\n",
      "32/32 [==============================] - 1s 25ms/step - loss: 0.1557 - accuracy: 0.9305 - val_loss: 0.5898 - val_accuracy: 0.8447\n",
      "Epoch 90/100\n",
      "32/32 [==============================] - 1s 28ms/step - loss: 0.1412 - accuracy: 0.9452 - val_loss: 0.5941 - val_accuracy: 0.8767\n",
      "Epoch 91/100\n",
      "32/32 [==============================] - 1s 30ms/step - loss: 0.1087 - accuracy: 0.9530 - val_loss: 0.6485 - val_accuracy: 0.8721\n",
      "Epoch 92/100\n",
      "32/32 [==============================] - 1s 32ms/step - loss: 0.0980 - accuracy: 0.9618 - val_loss: 0.5928 - val_accuracy: 0.8858\n",
      "Epoch 93/100\n",
      "32/32 [==============================] - 1s 32ms/step - loss: 0.0932 - accuracy: 0.9638 - val_loss: 0.7674 - val_accuracy: 0.8721\n",
      "Epoch 94/100\n",
      "32/32 [==============================] - 1s 36ms/step - loss: 0.1578 - accuracy: 0.9344 - val_loss: 0.5034 - val_accuracy: 0.8813\n",
      "Epoch 95/100\n",
      "32/32 [==============================] - 1s 42ms/step - loss: 0.1451 - accuracy: 0.9442 - val_loss: 0.5087 - val_accuracy: 0.8767\n",
      "Epoch 96/100\n",
      "32/32 [==============================] - 1s 41ms/step - loss: 0.1013 - accuracy: 0.9569 - val_loss: 0.6097 - val_accuracy: 0.8767\n",
      "Epoch 97/100\n",
      "32/32 [==============================] - 2s 47ms/step - loss: 0.0911 - accuracy: 0.9599 - val_loss: 0.7911 - val_accuracy: 0.8447\n",
      "Epoch 98/100\n",
      "32/32 [==============================] - 1s 30ms/step - loss: 0.1083 - accuracy: 0.9540 - val_loss: 0.8203 - val_accuracy: 0.8402\n",
      "Epoch 99/100\n",
      "32/32 [==============================] - 1s 28ms/step - loss: 0.1136 - accuracy: 0.9540 - val_loss: 0.7129 - val_accuracy: 0.8721\n",
      "Epoch 100/100\n",
      "32/32 [==============================] - 1s 27ms/step - loss: 0.1273 - accuracy: 0.9501 - val_loss: 0.7076 - val_accuracy: 0.8630\n"
     ]
    }
   ],
   "source": [
    "model_2 = Sequential([\n",
    "    Dense(1000, activation='relu', input_shape=(10,)),\n",
    "    Dense(1000, activation='relu'),\n",
    "    Dense(1000, activation='relu'),\n",
    "    Dense(1000, activation='relu'),\n",
    "    Dense(1, activation='sigmoid'),\n",
    "])\n",
    "\n",
    "model_2.compile(optimizer='adam',\n",
    "              loss='binary_crossentropy',\n",
    "              metrics=['accuracy'])\n",
    "              \n",
    "hist_2 = model_2.fit(X_train, Y_train,\n",
    "          batch_size=32, epochs=100,\n",
    "          validation_data=(X_val, Y_val))"
   ]
  },
  {
   "cell_type": "markdown",
   "id": "685c4a9b",
   "metadata": {},
   "source": [
    "### Loss visualization"
   ]
  },
  {
   "cell_type": "code",
   "execution_count": 14,
   "id": "ef6585ca",
   "metadata": {},
   "outputs": [
    {
     "data": {
      "image/png": "[encoded data removed]",
      "text/plain": [
       "<Figure size 432x288 with 1 Axes>"
      ]
     },
     "metadata": {
      "needs_background": "light"
     },
     "output_type": "display_data"
    }
   ],
   "source": [
    "plt.plot(hist_2.history['loss'])\n",
    "plt.plot(hist_2.history['val_loss'])\n",
    "plt.title('Model loss')\n",
    "plt.ylabel('Loss')\n",
    "plt.xlabel('Epoch')\n",
    "plt.legend(['Train', 'Val'], loc='upper right')\n",
    "plt.show()"
   ]
  },
  {
   "cell_type": "code",
   "execution_count": 15,
   "id": "5a7ed6c3",
   "metadata": {},
   "outputs": [
    {
     "data": {
      "image/png": "[encoded data removed]",
      "text/plain": [
       "<Figure size 432x288 with 1 Axes>"
      ]
     },
     "metadata": {
      "needs_background": "light"
     },
     "output_type": "display_data"
    }
   ],
   "source": [
    "plt.plot(hist_2.history['accuracy'])\n",
    "plt.plot(hist_2.history['val_accuracy'])\n",
    "plt.title('Model accuracy')\n",
    "plt.ylabel('Accuracy')\n",
    "plt.xlabel('Epoch')\n",
    "plt.legend(['Train', 'Val'], loc='lower right')\n",
    "plt.show()"
   ]
  },
  {
   "cell_type": "markdown",
   "id": "d6924131",
   "metadata": {},
   "source": [
    "## Reduce Overfitting"
   ]
  },
  {
   "cell_type": "code",
   "execution_count": 16,
   "id": "04a0f056",
   "metadata": {},
   "outputs": [],
   "source": [
    "from keras.layers import Dropout\n",
    "from keras import regularizers"
   ]
  },
  {
   "cell_type": "code",
   "execution_count": 17,
   "id": "56ffec3b",
   "metadata": {},
   "outputs": [
    {
     "name": "stdout",
     "output_type": "stream",
     "text": [
      "Epoch 1/100\n",
      "32/32 [==============================] - 1s 31ms/step - loss: 14.2538 - accuracy: 0.5959 - val_loss: 3.9343 - val_accuracy: 0.8767\n",
      "Epoch 2/100\n",
      "32/32 [==============================] - 1s 27ms/step - loss: 1.6801 - accuracy: 0.8356 - val_loss: 0.6771 - val_accuracy: 0.8630\n",
      "Epoch 3/100\n",
      "32/32 [==============================] - 1s 25ms/step - loss: 0.5496 - accuracy: 0.8738 - val_loss: 0.4972 - val_accuracy: 0.9041\n",
      "Epoch 4/100\n",
      "32/32 [==============================] - 1s 28ms/step - loss: 0.5437 - accuracy: 0.8523 - val_loss: 0.5943 - val_accuracy: 0.8311\n",
      "Epoch 5/100\n",
      "32/32 [==============================] - 1s 26ms/step - loss: 0.5529 - accuracy: 0.8523 - val_loss: 0.6080 - val_accuracy: 0.8356\n",
      "Epoch 6/100\n",
      "32/32 [==============================] - 1s 25ms/step - loss: 0.5102 - accuracy: 0.8513 - val_loss: 0.5797 - val_accuracy: 0.8311\n",
      "Epoch 7/100\n",
      "32/32 [==============================] - 1s 25ms/step - loss: 0.4600 - accuracy: 0.8796 - val_loss: 0.4631 - val_accuracy: 0.9041\n",
      "Epoch 8/100\n",
      "32/32 [==============================] - 1s 28ms/step - loss: 0.4569 - accuracy: 0.8826 - val_loss: 0.4610 - val_accuracy: 0.9041\n",
      "Epoch 9/100\n",
      "32/32 [==============================] - 1s 30ms/step - loss: 0.4511 - accuracy: 0.8875 - val_loss: 0.4550 - val_accuracy: 0.9041\n",
      "Epoch 10/100\n",
      "32/32 [==============================] - 1s 30ms/step - loss: 0.4629 - accuracy: 0.8777 - val_loss: 0.4597 - val_accuracy: 0.9041\n",
      "Epoch 11/100\n",
      "32/32 [==============================] - 1s 34ms/step - loss: 0.4322 - accuracy: 0.8963 - val_loss: 0.5364 - val_accuracy: 0.8356\n",
      "Epoch 12/100\n",
      "32/32 [==============================] - 1s 25ms/step - loss: 0.4836 - accuracy: 0.8767 - val_loss: 0.4537 - val_accuracy: 0.9087\n",
      "Epoch 13/100\n",
      "32/32 [==============================] - 1s 30ms/step - loss: 0.4515 - accuracy: 0.8855 - val_loss: 0.4594 - val_accuracy: 0.8995\n",
      "Epoch 14/100\n",
      "32/32 [==============================] - 1s 30ms/step - loss: 0.4371 - accuracy: 0.8894 - val_loss: 0.4554 - val_accuracy: 0.9087\n",
      "Epoch 15/100\n",
      "32/32 [==============================] - 1s 28ms/step - loss: 0.4337 - accuracy: 0.8982 - val_loss: 0.5313 - val_accuracy: 0.8402\n",
      "Epoch 16/100\n",
      "32/32 [==============================] - 1s 29ms/step - loss: 0.4359 - accuracy: 0.8826 - val_loss: 0.4489 - val_accuracy: 0.8995\n",
      "Epoch 17/100\n",
      "32/32 [==============================] - 1s 26ms/step - loss: 0.4536 - accuracy: 0.8708 - val_loss: 0.4459 - val_accuracy: 0.9132\n",
      "Epoch 18/100\n",
      "32/32 [==============================] - 1s 27ms/step - loss: 0.4370 - accuracy: 0.8855 - val_loss: 0.5044 - val_accuracy: 0.8630\n",
      "Epoch 19/100\n",
      "32/32 [==============================] - 1s 26ms/step - loss: 0.4341 - accuracy: 0.8796 - val_loss: 0.4529 - val_accuracy: 0.8995\n",
      "Epoch 20/100\n",
      "32/32 [==============================] - 1s 26ms/step - loss: 0.4224 - accuracy: 0.8885 - val_loss: 0.4957 - val_accuracy: 0.8676\n",
      "Epoch 21/100\n",
      "32/32 [==============================] - 1s 25ms/step - loss: 0.4398 - accuracy: 0.8865 - val_loss: 0.4520 - val_accuracy: 0.8950\n",
      "Epoch 22/100\n",
      "32/32 [==============================] - 1s 26ms/step - loss: 0.4285 - accuracy: 0.8826 - val_loss: 0.4468 - val_accuracy: 0.9087\n",
      "Epoch 23/100\n",
      "32/32 [==============================] - 1s 25ms/step - loss: 0.4715 - accuracy: 0.8562 - val_loss: 0.5191 - val_accuracy: 0.8539\n",
      "Epoch 24/100\n",
      "32/32 [==============================] - 1s 25ms/step - loss: 0.4559 - accuracy: 0.8865 - val_loss: 0.4581 - val_accuracy: 0.8950\n",
      "Epoch 25/100\n",
      "32/32 [==============================] - 1s 25ms/step - loss: 0.4445 - accuracy: 0.8757 - val_loss: 0.4425 - val_accuracy: 0.9087\n",
      "Epoch 26/100\n",
      "32/32 [==============================] - 1s 25ms/step - loss: 0.4421 - accuracy: 0.8806 - val_loss: 0.4741 - val_accuracy: 0.8721\n",
      "Epoch 27/100\n",
      "32/32 [==============================] - 1s 25ms/step - loss: 0.4602 - accuracy: 0.8679 - val_loss: 0.4692 - val_accuracy: 0.8858\n",
      "Epoch 28/100\n",
      "32/32 [==============================] - 1s 25ms/step - loss: 0.4197 - accuracy: 0.8914 - val_loss: 0.4476 - val_accuracy: 0.9041\n",
      "Epoch 29/100\n",
      "32/32 [==============================] - 1s 25ms/step - loss: 0.4408 - accuracy: 0.8826 - val_loss: 0.4538 - val_accuracy: 0.8995\n",
      "Epoch 30/100\n",
      "32/32 [==============================] - 1s 26ms/step - loss: 0.4162 - accuracy: 0.8943 - val_loss: 0.4787 - val_accuracy: 0.8858\n",
      "Epoch 31/100\n",
      "32/32 [==============================] - 1s 26ms/step - loss: 0.4156 - accuracy: 0.8904 - val_loss: 0.4458 - val_accuracy: 0.9087\n",
      "Epoch 32/100\n",
      "32/32 [==============================] - 1s 25ms/step - loss: 0.4266 - accuracy: 0.8865 - val_loss: 0.4436 - val_accuracy: 0.9087\n",
      "Epoch 33/100\n",
      "32/32 [==============================] - 1s 25ms/step - loss: 0.4343 - accuracy: 0.8777 - val_loss: 0.4411 - val_accuracy: 0.9132\n",
      "Epoch 34/100\n",
      "32/32 [==============================] - 1s 25ms/step - loss: 0.4205 - accuracy: 0.8865 - val_loss: 0.4724 - val_accuracy: 0.8721\n",
      "Epoch 35/100\n",
      "32/32 [==============================] - 1s 25ms/step - loss: 0.4160 - accuracy: 0.8875 - val_loss: 0.4715 - val_accuracy: 0.8767\n",
      "Epoch 36/100\n",
      "32/32 [==============================] - 1s 29ms/step - loss: 0.4190 - accuracy: 0.8816 - val_loss: 0.4440 - val_accuracy: 0.9132\n",
      "Epoch 37/100\n",
      "32/32 [==============================] - 1s 32ms/step - loss: 0.4184 - accuracy: 0.8953 - val_loss: 0.4820 - val_accuracy: 0.8721\n",
      "Epoch 38/100\n",
      "32/32 [==============================] - 1s 31ms/step - loss: 0.4210 - accuracy: 0.8904 - val_loss: 0.4494 - val_accuracy: 0.9132\n",
      "Epoch 39/100\n",
      "32/32 [==============================] - 1s 30ms/step - loss: 0.4147 - accuracy: 0.8904 - val_loss: 0.4453 - val_accuracy: 0.9132\n",
      "Epoch 40/100\n",
      "32/32 [==============================] - 1s 33ms/step - loss: 0.4219 - accuracy: 0.8845 - val_loss: 0.4483 - val_accuracy: 0.8904\n",
      "Epoch 41/100\n",
      "32/32 [==============================] - 1s 32ms/step - loss: 0.4234 - accuracy: 0.8875 - val_loss: 0.4724 - val_accuracy: 0.8767\n",
      "Epoch 42/100\n",
      "32/32 [==============================] - 1s 31ms/step - loss: 0.4152 - accuracy: 0.8914 - val_loss: 0.4441 - val_accuracy: 0.9087\n",
      "Epoch 43/100\n",
      "32/32 [==============================] - 1s 31ms/step - loss: 0.4267 - accuracy: 0.8806 - val_loss: 0.4467 - val_accuracy: 0.9132\n",
      "Epoch 44/100\n",
      "32/32 [==============================] - 1s 32ms/step - loss: 0.4194 - accuracy: 0.8894 - val_loss: 0.4670 - val_accuracy: 0.8904\n",
      "Epoch 45/100\n",
      "32/32 [==============================] - 1s 32ms/step - loss: 0.4465 - accuracy: 0.8689 - val_loss: 0.4858 - val_accuracy: 0.8767\n",
      "Epoch 46/100\n",
      "32/32 [==============================] - 1s 31ms/step - loss: 0.4288 - accuracy: 0.8845 - val_loss: 0.4616 - val_accuracy: 0.8950\n",
      "Epoch 47/100\n",
      "32/32 [==============================] - 1s 33ms/step - loss: 0.4202 - accuracy: 0.8787 - val_loss: 0.4520 - val_accuracy: 0.8904\n",
      "Epoch 48/100\n",
      "32/32 [==============================] - 1s 32ms/step - loss: 0.4257 - accuracy: 0.8865 - val_loss: 0.4528 - val_accuracy: 0.8904\n",
      "Epoch 49/100\n",
      "32/32 [==============================] - 1s 31ms/step - loss: 0.4263 - accuracy: 0.8816 - val_loss: 0.4678 - val_accuracy: 0.8676\n",
      "Epoch 50/100\n",
      "32/32 [==============================] - 1s 31ms/step - loss: 0.4458 - accuracy: 0.8708 - val_loss: 0.4451 - val_accuracy: 0.9041\n",
      "Epoch 51/100\n",
      "32/32 [==============================] - 1s 31ms/step - loss: 0.4210 - accuracy: 0.8953 - val_loss: 0.4532 - val_accuracy: 0.8904\n",
      "Epoch 52/100\n",
      "32/32 [==============================] - 1s 32ms/step - loss: 0.4146 - accuracy: 0.8933 - val_loss: 0.4739 - val_accuracy: 0.8767\n",
      "Epoch 53/100\n",
      "32/32 [==============================] - 1s 34ms/step - loss: 0.4052 - accuracy: 0.8943 - val_loss: 0.4476 - val_accuracy: 0.9041\n",
      "Epoch 54/100\n",
      "32/32 [==============================] - 1s 37ms/step - loss: 0.4186 - accuracy: 0.8904 - val_loss: 0.4520 - val_accuracy: 0.9132\n",
      "Epoch 55/100\n",
      "32/32 [==============================] - 1s 38ms/step - loss: 0.4265 - accuracy: 0.8826 - val_loss: 0.5270 - val_accuracy: 0.8676\n",
      "Epoch 56/100\n",
      "32/32 [==============================] - 1s 31ms/step - loss: 0.4254 - accuracy: 0.8875 - val_loss: 0.4558 - val_accuracy: 0.8767\n",
      "Epoch 57/100\n",
      "32/32 [==============================] - 1s 32ms/step - loss: 0.4610 - accuracy: 0.8728 - val_loss: 0.4458 - val_accuracy: 0.9132\n",
      "Epoch 58/100\n"
     ]
    },
    {
     "name": "stdout",
     "output_type": "stream",
     "text": [
      "32/32 [==============================] - 1s 43ms/step - loss: 0.4320 - accuracy: 0.8904 - val_loss: 0.4847 - val_accuracy: 0.8676\n",
      "Epoch 59/100\n",
      "32/32 [==============================] - 2s 48ms/step - loss: 0.4294 - accuracy: 0.8875 - val_loss: 0.4987 - val_accuracy: 0.8676\n",
      "Epoch 60/100\n",
      "32/32 [==============================] - 2s 50ms/step - loss: 0.4311 - accuracy: 0.8845 - val_loss: 0.4435 - val_accuracy: 0.9041\n",
      "Epoch 61/100\n",
      "32/32 [==============================] - 1s 41ms/step - loss: 0.4404 - accuracy: 0.8865 - val_loss: 0.4443 - val_accuracy: 0.9132\n",
      "Epoch 62/100\n",
      "32/32 [==============================] - 1s 41ms/step - loss: 0.4305 - accuracy: 0.8816 - val_loss: 0.4437 - val_accuracy: 0.8858\n",
      "Epoch 63/100\n",
      "32/32 [==============================] - 1s 42ms/step - loss: 0.4347 - accuracy: 0.8718 - val_loss: 0.4516 - val_accuracy: 0.8995\n",
      "Epoch 64/100\n",
      "32/32 [==============================] - 1s 44ms/step - loss: 0.4238 - accuracy: 0.8904 - val_loss: 0.4671 - val_accuracy: 0.8767\n",
      "Epoch 65/100\n",
      "32/32 [==============================] - 1s 40ms/step - loss: 0.4237 - accuracy: 0.8924 - val_loss: 0.4467 - val_accuracy: 0.8858\n",
      "Epoch 66/100\n",
      "32/32 [==============================] - 1s 34ms/step - loss: 0.4127 - accuracy: 0.8865 - val_loss: 0.4653 - val_accuracy: 0.8813\n",
      "Epoch 67/100\n",
      "32/32 [==============================] - 1s 38ms/step - loss: 0.4195 - accuracy: 0.8855 - val_loss: 0.4433 - val_accuracy: 0.9041\n",
      "Epoch 68/100\n",
      "32/32 [==============================] - 1s 34ms/step - loss: 0.4173 - accuracy: 0.8806 - val_loss: 0.4462 - val_accuracy: 0.9132\n",
      "Epoch 69/100\n",
      "32/32 [==============================] - 1s 41ms/step - loss: 0.4156 - accuracy: 0.8875 - val_loss: 0.4437 - val_accuracy: 0.9087\n",
      "Epoch 70/100\n",
      "32/32 [==============================] - 1s 46ms/step - loss: 0.4120 - accuracy: 0.8992 - val_loss: 0.4485 - val_accuracy: 0.9178\n",
      "Epoch 71/100\n",
      "32/32 [==============================] - 1s 45ms/step - loss: 0.4264 - accuracy: 0.8826 - val_loss: 0.4684 - val_accuracy: 0.8858\n",
      "Epoch 72/100\n",
      "32/32 [==============================] - 1s 46ms/step - loss: 0.4153 - accuracy: 0.8875 - val_loss: 0.4466 - val_accuracy: 0.9132\n",
      "Epoch 73/100\n",
      "32/32 [==============================] - 1s 44ms/step - loss: 0.4136 - accuracy: 0.8845 - val_loss: 0.4526 - val_accuracy: 0.8950\n",
      "Epoch 74/100\n",
      "32/32 [==============================] - 1s 43ms/step - loss: 0.4184 - accuracy: 0.8914 - val_loss: 0.4464 - val_accuracy: 0.9041\n",
      "Epoch 75/100\n",
      "32/32 [==============================] - 1s 37ms/step - loss: 0.4303 - accuracy: 0.8865 - val_loss: 0.4691 - val_accuracy: 0.8858\n",
      "Epoch 76/100\n",
      "32/32 [==============================] - 1s 31ms/step - loss: 0.4205 - accuracy: 0.8855 - val_loss: 0.4550 - val_accuracy: 0.8904\n",
      "Epoch 77/100\n",
      "32/32 [==============================] - 1s 33ms/step - loss: 0.4110 - accuracy: 0.8845 - val_loss: 0.4433 - val_accuracy: 0.9132\n",
      "Epoch 78/100\n",
      "32/32 [==============================] - 1s 30ms/step - loss: 0.4283 - accuracy: 0.8836 - val_loss: 0.4523 - val_accuracy: 0.8904\n",
      "Epoch 79/100\n",
      "32/32 [==============================] - 1s 29ms/step - loss: 0.4276 - accuracy: 0.8806 - val_loss: 0.4594 - val_accuracy: 0.8904\n",
      "Epoch 80/100\n",
      "32/32 [==============================] - 1s 30ms/step - loss: 0.4142 - accuracy: 0.8826 - val_loss: 0.4678 - val_accuracy: 0.8904\n",
      "Epoch 81/100\n",
      "32/32 [==============================] - 1s 33ms/step - loss: 0.4263 - accuracy: 0.8708 - val_loss: 0.4467 - val_accuracy: 0.9132\n",
      "Epoch 82/100\n",
      "32/32 [==============================] - 1s 33ms/step - loss: 0.4164 - accuracy: 0.8855 - val_loss: 0.4640 - val_accuracy: 0.8858\n",
      "Epoch 83/100\n",
      "32/32 [==============================] - 1s 30ms/step - loss: 0.4396 - accuracy: 0.8806 - val_loss: 0.5001 - val_accuracy: 0.8630\n",
      "Epoch 84/100\n",
      "32/32 [==============================] - 1s 31ms/step - loss: 0.4234 - accuracy: 0.8904 - val_loss: 0.4744 - val_accuracy: 0.8767\n",
      "Epoch 85/100\n",
      "32/32 [==============================] - 1s 38ms/step - loss: 0.4167 - accuracy: 0.8845 - val_loss: 0.4455 - val_accuracy: 0.9132\n",
      "Epoch 86/100\n",
      "32/32 [==============================] - 1s 30ms/step - loss: 0.4186 - accuracy: 0.8914 - val_loss: 0.4489 - val_accuracy: 0.8904\n",
      "Epoch 87/100\n",
      "32/32 [==============================] - 1s 30ms/step - loss: 0.4117 - accuracy: 0.8875 - val_loss: 0.4840 - val_accuracy: 0.8721\n",
      "Epoch 88/100\n",
      "32/32 [==============================] - 1s 32ms/step - loss: 0.4180 - accuracy: 0.8943 - val_loss: 0.4582 - val_accuracy: 0.8904\n",
      "Epoch 89/100\n",
      "32/32 [==============================] - 1s 31ms/step - loss: 0.4286 - accuracy: 0.8738 - val_loss: 0.4468 - val_accuracy: 0.9178\n",
      "Epoch 90/100\n",
      "32/32 [==============================] - 1s 30ms/step - loss: 0.4377 - accuracy: 0.8796 - val_loss: 0.4511 - val_accuracy: 0.8950\n",
      "Epoch 91/100\n",
      "32/32 [==============================] - 1s 31ms/step - loss: 0.4263 - accuracy: 0.8845 - val_loss: 0.4635 - val_accuracy: 0.8904\n",
      "Epoch 92/100\n",
      "32/32 [==============================] - 1s 39ms/step - loss: 0.4170 - accuracy: 0.8924 - val_loss: 0.4498 - val_accuracy: 0.9132\n",
      "Epoch 93/100\n",
      "32/32 [==============================] - 1s 30ms/step - loss: 0.4191 - accuracy: 0.8914 - val_loss: 0.4438 - val_accuracy: 0.9087\n",
      "Epoch 94/100\n",
      "32/32 [==============================] - 1s 32ms/step - loss: 0.4388 - accuracy: 0.8728 - val_loss: 0.4948 - val_accuracy: 0.8721\n",
      "Epoch 95/100\n",
      "32/32 [==============================] - 1s 42ms/step - loss: 0.4361 - accuracy: 0.8845 - val_loss: 0.4513 - val_accuracy: 0.8950\n",
      "Epoch 96/100\n",
      "32/32 [==============================] - 1s 30ms/step - loss: 0.4219 - accuracy: 0.8914 - val_loss: 0.4468 - val_accuracy: 0.9087\n",
      "Epoch 97/100\n",
      "32/32 [==============================] - 1s 31ms/step - loss: 0.4152 - accuracy: 0.8855 - val_loss: 0.4459 - val_accuracy: 0.8995\n",
      "Epoch 98/100\n",
      "32/32 [==============================] - 1s 40ms/step - loss: 0.4186 - accuracy: 0.8796 - val_loss: 0.4485 - val_accuracy: 0.8995\n",
      "Epoch 99/100\n",
      "32/32 [==============================] - 2s 49ms/step - loss: 0.4171 - accuracy: 0.8943 - val_loss: 0.5394 - val_accuracy: 0.8584\n",
      "Epoch 100/100\n",
      "32/32 [==============================] - 1s 38ms/step - loss: 0.4174 - accuracy: 0.8904 - val_loss: 0.4471 - val_accuracy: 0.9087\n"
     ]
    }
   ],
   "source": [
    "model_3 = Sequential([\n",
    "    Dense(1000, activation='relu', kernel_regularizer=regularizers.l2(0.01), input_shape=(10,)),\n",
    "    Dropout(0.3),\n",
    "    Dense(1000, activation='relu', kernel_regularizer=regularizers.l2(0.01)),\n",
    "    Dropout(0.3),\n",
    "    Dense(1000, activation='relu', kernel_regularizer=regularizers.l2(0.01)),\n",
    "    Dropout(0.3),\n",
    "    Dense(1000, activation='relu', kernel_regularizer=regularizers.l2(0.01)),\n",
    "    Dropout(0.3),\n",
    "    Dense(1, activation='sigmoid', kernel_regularizer=regularizers.l2(0.01)),\n",
    "])\n",
    "\n",
    "model_3.compile(optimizer='adam',\n",
    "              loss='binary_crossentropy',\n",
    "              metrics=['accuracy'])\n",
    "              \n",
    "hist_3 = model_3.fit(X_train, Y_train,\n",
    "          batch_size=32, epochs=100,\n",
    "          validation_data=(X_val, Y_val))"
   ]
  },
  {
   "cell_type": "markdown",
   "id": "83b1873a",
   "metadata": {},
   "source": [
    "### Loss visualization"
   ]
  },
  {
   "cell_type": "code",
   "execution_count": 18,
   "id": "d33822fb",
   "metadata": {},
   "outputs": [
    {
     "data": {
      "image/png": "[encoded data removed]",
      "text/plain": [
       "<Figure size 432x288 with 1 Axes>"
      ]
     },
     "metadata": {
      "needs_background": "light"
     },
     "output_type": "display_data"
    }
   ],
   "source": [
    "plt.plot(hist_3.history['loss'])\n",
    "plt.plot(hist_3.history['val_loss'])\n",
    "plt.title('Model loss')\n",
    "plt.ylabel('Loss')\n",
    "plt.xlabel('Epoch')\n",
    "plt.legend(['Train', 'Val'], loc='upper right')\n",
    "plt.ylim(top=1.2, bottom=0)\n",
    "plt.show()"
   ]
  },
  {
   "cell_type": "code",
   "execution_count": 19,
   "id": "2c58b627",
   "metadata": {},
   "outputs": [
    {
     "data": {
      "image/png": "[encoded data removed]",
      "text/plain": [
       "<Figure size 432x288 with 1 Axes>"
      ]
     },
     "metadata": {
      "needs_background": "light"
     },
     "output_type": "display_data"
    }
   ],
   "source": [
    "plt.plot(hist_3.history['accuracy'])\n",
    "plt.plot(hist_3.history['val_accuracy'])\n",
    "plt.title('Model accuracy')\n",
    "plt.ylabel('Accuracy')\n",
    "plt.xlabel('Epoch')\n",
    "plt.legend(['Train', 'Val'], loc='lower right')\n",
    "plt.show()"
   ]
  },
  {
   "cell_type": "code",
   "execution_count": null,
   "id": "197a0968",
   "metadata": {},
   "outputs": [],
   "source": []
  }
 ],
 "metadata": {
  "kernelspec": {
   "display_name": "Python 3 (ipykernel)",
   "language": "python",
   "name": "python3"
  },
  "language_info": {
   "codemirror_mode": {
    "name": "ipython",
    "version": 3
   },
   "file_extension": ".py",
   "mimetype": "text/x-python",
   "name": "python",
   "nbconvert_exporter": "python",
   "pygments_lexer": "ipython3",
   "version": "3.9.12"
  }
 },
 "nbformat": 4,
 "nbformat_minor": 5
}
